{
  "nbformat": 4,
  "nbformat_minor": 0,
  "metadata": {
    "colab": {
      "provenance": [],
      "authorship_tag": "ABX9TyNQrkoJ1hhzlj7i1fwzHx7s",
      "include_colab_link": true
    },
    "kernelspec": {
      "name": "python3",
      "display_name": "Python 3"
    },
    "language_info": {
      "name": "python"
    }
  },
  "cells": [
    {
      "cell_type": "markdown",
      "metadata": {
        "id": "view-in-github",
        "colab_type": "text"
      },
      "source": [
        "<a href=\"https://colab.research.google.com/github/mariyajoseph2002/ml/blob/main/training_model.ipynb\" target=\"_parent\"><img src=\"https://colab.research.google.com/assets/colab-badge.svg\" alt=\"Open In Colab\"/></a>"
      ]
    },
    {
      "cell_type": "code",
      "execution_count": null,
      "metadata": {
        "id": "WdOz2zCv5Gjh"
      },
      "outputs": [],
      "source": [
        "import pandas as pd\n",
        "import numpy as np\n",
        "import seaborn as sns\n",
        "import tensorflow as tf\n",
        "import keras\n",
        "from tensorflow.keras.preprocessing.text import Tokenizer\n",
        "from tensorflow.keras.preprocessing.sequence import pad_sequences\n",
        "from sklearn.preprocessing import LabelEncoder\n",
        "from sklearn.model_selection import train_test_split\n",
        "from keras.models import Sequential\n",
        "from keras.layers import Dense,Dropout,Flatten,Embedding\n"
      ]
    },
    {
      "cell_type": "code",
      "source": [
        "import random\n",
        "# Set all random seeds for reproducibility\n",
        "np.random.seed(42)        # NumPy operations\n",
        "random.seed(42)           # Python's built-in random\n",
        "tf.random.set_seed(42)    # TensorFlow/Keras"
      ],
      "metadata": {
        "id": "rHz9XQTtopZJ"
      },
      "execution_count": null,
      "outputs": []
    },
    {
      "cell_type": "code",
      "source": [
        "from google.colab import files\n",
        "uploaded = files.upload()"
      ],
      "metadata": {
        "colab": {
          "base_uri": "https://localhost:8080/",
          "height": 73
        },
        "id": "N5y-i0325PNe",
        "outputId": "9411ef8b-288d-4d5c-b6dc-57f20ecc0c58"
      },
      "execution_count": null,
      "outputs": [
        {
          "output_type": "display_data",
          "data": {
            "text/plain": [
              "<IPython.core.display.HTML object>"
            ],
            "text/html": [
              "\n",
              "     <input type=\"file\" id=\"files-065caf89-d5bf-4221-8933-e5be3280c96f\" name=\"files[]\" multiple disabled\n",
              "        style=\"border:none\" />\n",
              "     <output id=\"result-065caf89-d5bf-4221-8933-e5be3280c96f\">\n",
              "      Upload widget is only available when the cell has been executed in the\n",
              "      current browser session. Please rerun this cell to enable.\n",
              "      </output>\n",
              "      <script>// Copyright 2017 Google LLC\n",
              "//\n",
              "// Licensed under the Apache License, Version 2.0 (the \"License\");\n",
              "// you may not use this file except in compliance with the License.\n",
              "// You may obtain a copy of the License at\n",
              "//\n",
              "//      http://www.apache.org/licenses/LICENSE-2.0\n",
              "//\n",
              "// Unless required by applicable law or agreed to in writing, software\n",
              "// distributed under the License is distributed on an \"AS IS\" BASIS,\n",
              "// WITHOUT WARRANTIES OR CONDITIONS OF ANY KIND, either express or implied.\n",
              "// See the License for the specific language governing permissions and\n",
              "// limitations under the License.\n",
              "\n",
              "/**\n",
              " * @fileoverview Helpers for google.colab Python module.\n",
              " */\n",
              "(function(scope) {\n",
              "function span(text, styleAttributes = {}) {\n",
              "  const element = document.createElement('span');\n",
              "  element.textContent = text;\n",
              "  for (const key of Object.keys(styleAttributes)) {\n",
              "    element.style[key] = styleAttributes[key];\n",
              "  }\n",
              "  return element;\n",
              "}\n",
              "\n",
              "// Max number of bytes which will be uploaded at a time.\n",
              "const MAX_PAYLOAD_SIZE = 100 * 1024;\n",
              "\n",
              "function _uploadFiles(inputId, outputId) {\n",
              "  const steps = uploadFilesStep(inputId, outputId);\n",
              "  const outputElement = document.getElementById(outputId);\n",
              "  // Cache steps on the outputElement to make it available for the next call\n",
              "  // to uploadFilesContinue from Python.\n",
              "  outputElement.steps = steps;\n",
              "\n",
              "  return _uploadFilesContinue(outputId);\n",
              "}\n",
              "\n",
              "// This is roughly an async generator (not supported in the browser yet),\n",
              "// where there are multiple asynchronous steps and the Python side is going\n",
              "// to poll for completion of each step.\n",
              "// This uses a Promise to block the python side on completion of each step,\n",
              "// then passes the result of the previous step as the input to the next step.\n",
              "function _uploadFilesContinue(outputId) {\n",
              "  const outputElement = document.getElementById(outputId);\n",
              "  const steps = outputElement.steps;\n",
              "\n",
              "  const next = steps.next(outputElement.lastPromiseValue);\n",
              "  return Promise.resolve(next.value.promise).then((value) => {\n",
              "    // Cache the last promise value to make it available to the next\n",
              "    // step of the generator.\n",
              "    outputElement.lastPromiseValue = value;\n",
              "    return next.value.response;\n",
              "  });\n",
              "}\n",
              "\n",
              "/**\n",
              " * Generator function which is called between each async step of the upload\n",
              " * process.\n",
              " * @param {string} inputId Element ID of the input file picker element.\n",
              " * @param {string} outputId Element ID of the output display.\n",
              " * @return {!Iterable<!Object>} Iterable of next steps.\n",
              " */\n",
              "function* uploadFilesStep(inputId, outputId) {\n",
              "  const inputElement = document.getElementById(inputId);\n",
              "  inputElement.disabled = false;\n",
              "\n",
              "  const outputElement = document.getElementById(outputId);\n",
              "  outputElement.innerHTML = '';\n",
              "\n",
              "  const pickedPromise = new Promise((resolve) => {\n",
              "    inputElement.addEventListener('change', (e) => {\n",
              "      resolve(e.target.files);\n",
              "    });\n",
              "  });\n",
              "\n",
              "  const cancel = document.createElement('button');\n",
              "  inputElement.parentElement.appendChild(cancel);\n",
              "  cancel.textContent = 'Cancel upload';\n",
              "  const cancelPromise = new Promise((resolve) => {\n",
              "    cancel.onclick = () => {\n",
              "      resolve(null);\n",
              "    };\n",
              "  });\n",
              "\n",
              "  // Wait for the user to pick the files.\n",
              "  const files = yield {\n",
              "    promise: Promise.race([pickedPromise, cancelPromise]),\n",
              "    response: {\n",
              "      action: 'starting',\n",
              "    }\n",
              "  };\n",
              "\n",
              "  cancel.remove();\n",
              "\n",
              "  // Disable the input element since further picks are not allowed.\n",
              "  inputElement.disabled = true;\n",
              "\n",
              "  if (!files) {\n",
              "    return {\n",
              "      response: {\n",
              "        action: 'complete',\n",
              "      }\n",
              "    };\n",
              "  }\n",
              "\n",
              "  for (const file of files) {\n",
              "    const li = document.createElement('li');\n",
              "    li.append(span(file.name, {fontWeight: 'bold'}));\n",
              "    li.append(span(\n",
              "        `(${file.type || 'n/a'}) - ${file.size} bytes, ` +\n",
              "        `last modified: ${\n",
              "            file.lastModifiedDate ? file.lastModifiedDate.toLocaleDateString() :\n",
              "                                    'n/a'} - `));\n",
              "    const percent = span('0% done');\n",
              "    li.appendChild(percent);\n",
              "\n",
              "    outputElement.appendChild(li);\n",
              "\n",
              "    const fileDataPromise = new Promise((resolve) => {\n",
              "      const reader = new FileReader();\n",
              "      reader.onload = (e) => {\n",
              "        resolve(e.target.result);\n",
              "      };\n",
              "      reader.readAsArrayBuffer(file);\n",
              "    });\n",
              "    // Wait for the data to be ready.\n",
              "    let fileData = yield {\n",
              "      promise: fileDataPromise,\n",
              "      response: {\n",
              "        action: 'continue',\n",
              "      }\n",
              "    };\n",
              "\n",
              "    // Use a chunked sending to avoid message size limits. See b/62115660.\n",
              "    let position = 0;\n",
              "    do {\n",
              "      const length = Math.min(fileData.byteLength - position, MAX_PAYLOAD_SIZE);\n",
              "      const chunk = new Uint8Array(fileData, position, length);\n",
              "      position += length;\n",
              "\n",
              "      const base64 = btoa(String.fromCharCode.apply(null, chunk));\n",
              "      yield {\n",
              "        response: {\n",
              "          action: 'append',\n",
              "          file: file.name,\n",
              "          data: base64,\n",
              "        },\n",
              "      };\n",
              "\n",
              "      let percentDone = fileData.byteLength === 0 ?\n",
              "          100 :\n",
              "          Math.round((position / fileData.byteLength) * 100);\n",
              "      percent.textContent = `${percentDone}% done`;\n",
              "\n",
              "    } while (position < fileData.byteLength);\n",
              "  }\n",
              "\n",
              "  // All done.\n",
              "  yield {\n",
              "    response: {\n",
              "      action: 'complete',\n",
              "    }\n",
              "  };\n",
              "}\n",
              "\n",
              "scope.google = scope.google || {};\n",
              "scope.google.colab = scope.google.colab || {};\n",
              "scope.google.colab._files = {\n",
              "  _uploadFiles,\n",
              "  _uploadFilesContinue,\n",
              "};\n",
              "})(self);\n",
              "</script> "
            ]
          },
          "metadata": {}
        },
        {
          "output_type": "stream",
          "name": "stdout",
          "text": [
            "Saving new_traindata (1).txt to new_traindata (1).txt\n"
          ]
        }
      ]
    },
    {
      "cell_type": "code",
      "source": [
        "data=pd.read_csv(\"new_traindata (1).txt\",sep=\";\")\n",
        "data.columns=[\"Text\",\"Emotion\"]\n",
        "data.head(5)"
      ],
      "metadata": {
        "colab": {
          "base_uri": "https://localhost:8080/",
          "height": 206
        },
        "id": "RPFhUKHS5YDa",
        "outputId": "bc1d6a1d-ae7b-4269-9f64-6cae15e66550"
      },
      "execution_count": null,
      "outputs": [
        {
          "output_type": "execute_result",
          "data": {
            "text/plain": [
              "                                                Text  Emotion\n",
              "0  Hearing a professor say, \"Many of you will fai...     fear\n",
              "1  i know and i feel that its time to wake up to ...      joy\n",
              "2  i am feeling that bitter sweetness that comes ...    anger\n",
              "3  i wasn t feeling pressured even if this was th...     fear\n",
              "4  im starting to feel and think as if i dont wan...  sadness"
            ],
            "text/html": [
              "\n",
              "  <div id=\"df-cf6446c7-a66d-4247-b614-cc47414fa03e\" class=\"colab-df-container\">\n",
              "    <div>\n",
              "<style scoped>\n",
              "    .dataframe tbody tr th:only-of-type {\n",
              "        vertical-align: middle;\n",
              "    }\n",
              "\n",
              "    .dataframe tbody tr th {\n",
              "        vertical-align: top;\n",
              "    }\n",
              "\n",
              "    .dataframe thead th {\n",
              "        text-align: right;\n",
              "    }\n",
              "</style>\n",
              "<table border=\"1\" class=\"dataframe\">\n",
              "  <thead>\n",
              "    <tr style=\"text-align: right;\">\n",
              "      <th></th>\n",
              "      <th>Text</th>\n",
              "      <th>Emotion</th>\n",
              "    </tr>\n",
              "  </thead>\n",
              "  <tbody>\n",
              "    <tr>\n",
              "      <th>0</th>\n",
              "      <td>Hearing a professor say, \"Many of you will fai...</td>\n",
              "      <td>fear</td>\n",
              "    </tr>\n",
              "    <tr>\n",
              "      <th>1</th>\n",
              "      <td>i know and i feel that its time to wake up to ...</td>\n",
              "      <td>joy</td>\n",
              "    </tr>\n",
              "    <tr>\n",
              "      <th>2</th>\n",
              "      <td>i am feeling that bitter sweetness that comes ...</td>\n",
              "      <td>anger</td>\n",
              "    </tr>\n",
              "    <tr>\n",
              "      <th>3</th>\n",
              "      <td>i wasn t feeling pressured even if this was th...</td>\n",
              "      <td>fear</td>\n",
              "    </tr>\n",
              "    <tr>\n",
              "      <th>4</th>\n",
              "      <td>im starting to feel and think as if i dont wan...</td>\n",
              "      <td>sadness</td>\n",
              "    </tr>\n",
              "  </tbody>\n",
              "</table>\n",
              "</div>\n",
              "    <div class=\"colab-df-buttons\">\n",
              "\n",
              "  <div class=\"colab-df-container\">\n",
              "    <button class=\"colab-df-convert\" onclick=\"convertToInteractive('df-cf6446c7-a66d-4247-b614-cc47414fa03e')\"\n",
              "            title=\"Convert this dataframe to an interactive table.\"\n",
              "            style=\"display:none;\">\n",
              "\n",
              "  <svg xmlns=\"http://www.w3.org/2000/svg\" height=\"24px\" viewBox=\"0 -960 960 960\">\n",
              "    <path d=\"M120-120v-720h720v720H120Zm60-500h600v-160H180v160Zm220 220h160v-160H400v160Zm0 220h160v-160H400v160ZM180-400h160v-160H180v160Zm440 0h160v-160H620v160ZM180-180h160v-160H180v160Zm440 0h160v-160H620v160Z\"/>\n",
              "  </svg>\n",
              "    </button>\n",
              "\n",
              "  <style>\n",
              "    .colab-df-container {\n",
              "      display:flex;\n",
              "      gap: 12px;\n",
              "    }\n",
              "\n",
              "    .colab-df-convert {\n",
              "      background-color: #E8F0FE;\n",
              "      border: none;\n",
              "      border-radius: 50%;\n",
              "      cursor: pointer;\n",
              "      display: none;\n",
              "      fill: #1967D2;\n",
              "      height: 32px;\n",
              "      padding: 0 0 0 0;\n",
              "      width: 32px;\n",
              "    }\n",
              "\n",
              "    .colab-df-convert:hover {\n",
              "      background-color: #E2EBFA;\n",
              "      box-shadow: 0px 1px 2px rgba(60, 64, 67, 0.3), 0px 1px 3px 1px rgba(60, 64, 67, 0.15);\n",
              "      fill: #174EA6;\n",
              "    }\n",
              "\n",
              "    .colab-df-buttons div {\n",
              "      margin-bottom: 4px;\n",
              "    }\n",
              "\n",
              "    [theme=dark] .colab-df-convert {\n",
              "      background-color: #3B4455;\n",
              "      fill: #D2E3FC;\n",
              "    }\n",
              "\n",
              "    [theme=dark] .colab-df-convert:hover {\n",
              "      background-color: #434B5C;\n",
              "      box-shadow: 0px 1px 3px 1px rgba(0, 0, 0, 0.15);\n",
              "      filter: drop-shadow(0px 1px 2px rgba(0, 0, 0, 0.3));\n",
              "      fill: #FFFFFF;\n",
              "    }\n",
              "  </style>\n",
              "\n",
              "    <script>\n",
              "      const buttonEl =\n",
              "        document.querySelector('#df-cf6446c7-a66d-4247-b614-cc47414fa03e button.colab-df-convert');\n",
              "      buttonEl.style.display =\n",
              "        google.colab.kernel.accessAllowed ? 'block' : 'none';\n",
              "\n",
              "      async function convertToInteractive(key) {\n",
              "        const element = document.querySelector('#df-cf6446c7-a66d-4247-b614-cc47414fa03e');\n",
              "        const dataTable =\n",
              "          await google.colab.kernel.invokeFunction('convertToInteractive',\n",
              "                                                    [key], {});\n",
              "        if (!dataTable) return;\n",
              "\n",
              "        const docLinkHtml = 'Like what you see? Visit the ' +\n",
              "          '<a target=\"_blank\" href=https://colab.research.google.com/notebooks/data_table.ipynb>data table notebook</a>'\n",
              "          + ' to learn more about interactive tables.';\n",
              "        element.innerHTML = '';\n",
              "        dataTable['output_type'] = 'display_data';\n",
              "        await google.colab.output.renderOutput(dataTable, element);\n",
              "        const docLink = document.createElement('div');\n",
              "        docLink.innerHTML = docLinkHtml;\n",
              "        element.appendChild(docLink);\n",
              "      }\n",
              "    </script>\n",
              "  </div>\n",
              "\n",
              "\n",
              "<div id=\"df-f492f48c-3a55-499c-84af-61e7647822b2\">\n",
              "  <button class=\"colab-df-quickchart\" onclick=\"quickchart('df-f492f48c-3a55-499c-84af-61e7647822b2')\"\n",
              "            title=\"Suggest charts\"\n",
              "            style=\"display:none;\">\n",
              "\n",
              "<svg xmlns=\"http://www.w3.org/2000/svg\" height=\"24px\"viewBox=\"0 0 24 24\"\n",
              "     width=\"24px\">\n",
              "    <g>\n",
              "        <path d=\"M19 3H5c-1.1 0-2 .9-2 2v14c0 1.1.9 2 2 2h14c1.1 0 2-.9 2-2V5c0-1.1-.9-2-2-2zM9 17H7v-7h2v7zm4 0h-2V7h2v10zm4 0h-2v-4h2v4z\"/>\n",
              "    </g>\n",
              "</svg>\n",
              "  </button>\n",
              "\n",
              "<style>\n",
              "  .colab-df-quickchart {\n",
              "      --bg-color: #E8F0FE;\n",
              "      --fill-color: #1967D2;\n",
              "      --hover-bg-color: #E2EBFA;\n",
              "      --hover-fill-color: #174EA6;\n",
              "      --disabled-fill-color: #AAA;\n",
              "      --disabled-bg-color: #DDD;\n",
              "  }\n",
              "\n",
              "  [theme=dark] .colab-df-quickchart {\n",
              "      --bg-color: #3B4455;\n",
              "      --fill-color: #D2E3FC;\n",
              "      --hover-bg-color: #434B5C;\n",
              "      --hover-fill-color: #FFFFFF;\n",
              "      --disabled-bg-color: #3B4455;\n",
              "      --disabled-fill-color: #666;\n",
              "  }\n",
              "\n",
              "  .colab-df-quickchart {\n",
              "    background-color: var(--bg-color);\n",
              "    border: none;\n",
              "    border-radius: 50%;\n",
              "    cursor: pointer;\n",
              "    display: none;\n",
              "    fill: var(--fill-color);\n",
              "    height: 32px;\n",
              "    padding: 0;\n",
              "    width: 32px;\n",
              "  }\n",
              "\n",
              "  .colab-df-quickchart:hover {\n",
              "    background-color: var(--hover-bg-color);\n",
              "    box-shadow: 0 1px 2px rgba(60, 64, 67, 0.3), 0 1px 3px 1px rgba(60, 64, 67, 0.15);\n",
              "    fill: var(--button-hover-fill-color);\n",
              "  }\n",
              "\n",
              "  .colab-df-quickchart-complete:disabled,\n",
              "  .colab-df-quickchart-complete:disabled:hover {\n",
              "    background-color: var(--disabled-bg-color);\n",
              "    fill: var(--disabled-fill-color);\n",
              "    box-shadow: none;\n",
              "  }\n",
              "\n",
              "  .colab-df-spinner {\n",
              "    border: 2px solid var(--fill-color);\n",
              "    border-color: transparent;\n",
              "    border-bottom-color: var(--fill-color);\n",
              "    animation:\n",
              "      spin 1s steps(1) infinite;\n",
              "  }\n",
              "\n",
              "  @keyframes spin {\n",
              "    0% {\n",
              "      border-color: transparent;\n",
              "      border-bottom-color: var(--fill-color);\n",
              "      border-left-color: var(--fill-color);\n",
              "    }\n",
              "    20% {\n",
              "      border-color: transparent;\n",
              "      border-left-color: var(--fill-color);\n",
              "      border-top-color: var(--fill-color);\n",
              "    }\n",
              "    30% {\n",
              "      border-color: transparent;\n",
              "      border-left-color: var(--fill-color);\n",
              "      border-top-color: var(--fill-color);\n",
              "      border-right-color: var(--fill-color);\n",
              "    }\n",
              "    40% {\n",
              "      border-color: transparent;\n",
              "      border-right-color: var(--fill-color);\n",
              "      border-top-color: var(--fill-color);\n",
              "    }\n",
              "    60% {\n",
              "      border-color: transparent;\n",
              "      border-right-color: var(--fill-color);\n",
              "    }\n",
              "    80% {\n",
              "      border-color: transparent;\n",
              "      border-right-color: var(--fill-color);\n",
              "      border-bottom-color: var(--fill-color);\n",
              "    }\n",
              "    90% {\n",
              "      border-color: transparent;\n",
              "      border-bottom-color: var(--fill-color);\n",
              "    }\n",
              "  }\n",
              "</style>\n",
              "\n",
              "  <script>\n",
              "    async function quickchart(key) {\n",
              "      const quickchartButtonEl =\n",
              "        document.querySelector('#' + key + ' button');\n",
              "      quickchartButtonEl.disabled = true;  // To prevent multiple clicks.\n",
              "      quickchartButtonEl.classList.add('colab-df-spinner');\n",
              "      try {\n",
              "        const charts = await google.colab.kernel.invokeFunction(\n",
              "            'suggestCharts', [key], {});\n",
              "      } catch (error) {\n",
              "        console.error('Error during call to suggestCharts:', error);\n",
              "      }\n",
              "      quickchartButtonEl.classList.remove('colab-df-spinner');\n",
              "      quickchartButtonEl.classList.add('colab-df-quickchart-complete');\n",
              "    }\n",
              "    (() => {\n",
              "      let quickchartButtonEl =\n",
              "        document.querySelector('#df-f492f48c-3a55-499c-84af-61e7647822b2 button');\n",
              "      quickchartButtonEl.style.display =\n",
              "        google.colab.kernel.accessAllowed ? 'block' : 'none';\n",
              "    })();\n",
              "  </script>\n",
              "</div>\n",
              "\n",
              "    </div>\n",
              "  </div>\n"
            ],
            "application/vnd.google.colaboratory.intrinsic+json": {
              "type": "dataframe",
              "variable_name": "data",
              "summary": "{\n  \"name\": \"data\",\n  \"rows\": 24799,\n  \"fields\": [\n    {\n      \"column\": \"Text\",\n      \"properties\": {\n        \"dtype\": \"string\",\n        \"num_unique_values\": 14534,\n        \"samples\": [\n          \"im feeling agitated today\",\n          \"i feel so thankful to have been able to be apart of the one in the bay area\",\n          \"i went through the exam i could feel my heart sink with each unsure answer each flip flop decision and random guess\"\n        ],\n        \"semantic_type\": \"\",\n        \"description\": \"\"\n      }\n    },\n    {\n      \"column\": \"Emotion\",\n      \"properties\": {\n        \"dtype\": \"category\",\n        \"num_unique_values\": 10,\n        \"samples\": [\n          \"hope\",\n          \"joy\",\n          \"guilt\"\n        ],\n        \"semantic_type\": \"\",\n        \"description\": \"\"\n      }\n    }\n  ]\n}"
            }
          },
          "metadata": {},
          "execution_count": 6
        }
      ]
    },
    {
      "cell_type": "code",
      "source": [
        "data.describe()"
      ],
      "metadata": {
        "colab": {
          "base_uri": "https://localhost:8080/",
          "height": 174
        },
        "id": "RvCyUJfH5hEU",
        "outputId": "f82ca965-13e0-4afd-d00f-20fbb7ac3cc6"
      },
      "execution_count": null,
      "outputs": [
        {
          "output_type": "execute_result",
          "data": {
            "text/plain": [
              "                                                     Text Emotion\n",
              "count                                               24799   24799\n",
              "unique                                              14534      11\n",
              "top     if I had just done one thing differently none ...     joy\n",
              "freq                                                   23    3000"
            ],
            "text/html": [
              "\n",
              "  <div id=\"df-1b30f37f-2bf8-4d61-bd2b-ca568d64aed7\" class=\"colab-df-container\">\n",
              "    <div>\n",
              "<style scoped>\n",
              "    .dataframe tbody tr th:only-of-type {\n",
              "        vertical-align: middle;\n",
              "    }\n",
              "\n",
              "    .dataframe tbody tr th {\n",
              "        vertical-align: top;\n",
              "    }\n",
              "\n",
              "    .dataframe thead th {\n",
              "        text-align: right;\n",
              "    }\n",
              "</style>\n",
              "<table border=\"1\" class=\"dataframe\">\n",
              "  <thead>\n",
              "    <tr style=\"text-align: right;\">\n",
              "      <th></th>\n",
              "      <th>Text</th>\n",
              "      <th>Emotion</th>\n",
              "    </tr>\n",
              "  </thead>\n",
              "  <tbody>\n",
              "    <tr>\n",
              "      <th>count</th>\n",
              "      <td>24799</td>\n",
              "      <td>24799</td>\n",
              "    </tr>\n",
              "    <tr>\n",
              "      <th>unique</th>\n",
              "      <td>14534</td>\n",
              "      <td>11</td>\n",
              "    </tr>\n",
              "    <tr>\n",
              "      <th>top</th>\n",
              "      <td>if I had just done one thing differently none ...</td>\n",
              "      <td>joy</td>\n",
              "    </tr>\n",
              "    <tr>\n",
              "      <th>freq</th>\n",
              "      <td>23</td>\n",
              "      <td>3000</td>\n",
              "    </tr>\n",
              "  </tbody>\n",
              "</table>\n",
              "</div>\n",
              "    <div class=\"colab-df-buttons\">\n",
              "\n",
              "  <div class=\"colab-df-container\">\n",
              "    <button class=\"colab-df-convert\" onclick=\"convertToInteractive('df-1b30f37f-2bf8-4d61-bd2b-ca568d64aed7')\"\n",
              "            title=\"Convert this dataframe to an interactive table.\"\n",
              "            style=\"display:none;\">\n",
              "\n",
              "  <svg xmlns=\"http://www.w3.org/2000/svg\" height=\"24px\" viewBox=\"0 -960 960 960\">\n",
              "    <path d=\"M120-120v-720h720v720H120Zm60-500h600v-160H180v160Zm220 220h160v-160H400v160Zm0 220h160v-160H400v160ZM180-400h160v-160H180v160Zm440 0h160v-160H620v160ZM180-180h160v-160H180v160Zm440 0h160v-160H620v160Z\"/>\n",
              "  </svg>\n",
              "    </button>\n",
              "\n",
              "  <style>\n",
              "    .colab-df-container {\n",
              "      display:flex;\n",
              "      gap: 12px;\n",
              "    }\n",
              "\n",
              "    .colab-df-convert {\n",
              "      background-color: #E8F0FE;\n",
              "      border: none;\n",
              "      border-radius: 50%;\n",
              "      cursor: pointer;\n",
              "      display: none;\n",
              "      fill: #1967D2;\n",
              "      height: 32px;\n",
              "      padding: 0 0 0 0;\n",
              "      width: 32px;\n",
              "    }\n",
              "\n",
              "    .colab-df-convert:hover {\n",
              "      background-color: #E2EBFA;\n",
              "      box-shadow: 0px 1px 2px rgba(60, 64, 67, 0.3), 0px 1px 3px 1px rgba(60, 64, 67, 0.15);\n",
              "      fill: #174EA6;\n",
              "    }\n",
              "\n",
              "    .colab-df-buttons div {\n",
              "      margin-bottom: 4px;\n",
              "    }\n",
              "\n",
              "    [theme=dark] .colab-df-convert {\n",
              "      background-color: #3B4455;\n",
              "      fill: #D2E3FC;\n",
              "    }\n",
              "\n",
              "    [theme=dark] .colab-df-convert:hover {\n",
              "      background-color: #434B5C;\n",
              "      box-shadow: 0px 1px 3px 1px rgba(0, 0, 0, 0.15);\n",
              "      filter: drop-shadow(0px 1px 2px rgba(0, 0, 0, 0.3));\n",
              "      fill: #FFFFFF;\n",
              "    }\n",
              "  </style>\n",
              "\n",
              "    <script>\n",
              "      const buttonEl =\n",
              "        document.querySelector('#df-1b30f37f-2bf8-4d61-bd2b-ca568d64aed7 button.colab-df-convert');\n",
              "      buttonEl.style.display =\n",
              "        google.colab.kernel.accessAllowed ? 'block' : 'none';\n",
              "\n",
              "      async function convertToInteractive(key) {\n",
              "        const element = document.querySelector('#df-1b30f37f-2bf8-4d61-bd2b-ca568d64aed7');\n",
              "        const dataTable =\n",
              "          await google.colab.kernel.invokeFunction('convertToInteractive',\n",
              "                                                    [key], {});\n",
              "        if (!dataTable) return;\n",
              "\n",
              "        const docLinkHtml = 'Like what you see? Visit the ' +\n",
              "          '<a target=\"_blank\" href=https://colab.research.google.com/notebooks/data_table.ipynb>data table notebook</a>'\n",
              "          + ' to learn more about interactive tables.';\n",
              "        element.innerHTML = '';\n",
              "        dataTable['output_type'] = 'display_data';\n",
              "        await google.colab.output.renderOutput(dataTable, element);\n",
              "        const docLink = document.createElement('div');\n",
              "        docLink.innerHTML = docLinkHtml;\n",
              "        element.appendChild(docLink);\n",
              "      }\n",
              "    </script>\n",
              "  </div>\n",
              "\n",
              "\n",
              "<div id=\"df-b2f363ab-6903-4c97-a10c-7f0c09f63dac\">\n",
              "  <button class=\"colab-df-quickchart\" onclick=\"quickchart('df-b2f363ab-6903-4c97-a10c-7f0c09f63dac')\"\n",
              "            title=\"Suggest charts\"\n",
              "            style=\"display:none;\">\n",
              "\n",
              "<svg xmlns=\"http://www.w3.org/2000/svg\" height=\"24px\"viewBox=\"0 0 24 24\"\n",
              "     width=\"24px\">\n",
              "    <g>\n",
              "        <path d=\"M19 3H5c-1.1 0-2 .9-2 2v14c0 1.1.9 2 2 2h14c1.1 0 2-.9 2-2V5c0-1.1-.9-2-2-2zM9 17H7v-7h2v7zm4 0h-2V7h2v10zm4 0h-2v-4h2v4z\"/>\n",
              "    </g>\n",
              "</svg>\n",
              "  </button>\n",
              "\n",
              "<style>\n",
              "  .colab-df-quickchart {\n",
              "      --bg-color: #E8F0FE;\n",
              "      --fill-color: #1967D2;\n",
              "      --hover-bg-color: #E2EBFA;\n",
              "      --hover-fill-color: #174EA6;\n",
              "      --disabled-fill-color: #AAA;\n",
              "      --disabled-bg-color: #DDD;\n",
              "  }\n",
              "\n",
              "  [theme=dark] .colab-df-quickchart {\n",
              "      --bg-color: #3B4455;\n",
              "      --fill-color: #D2E3FC;\n",
              "      --hover-bg-color: #434B5C;\n",
              "      --hover-fill-color: #FFFFFF;\n",
              "      --disabled-bg-color: #3B4455;\n",
              "      --disabled-fill-color: #666;\n",
              "  }\n",
              "\n",
              "  .colab-df-quickchart {\n",
              "    background-color: var(--bg-color);\n",
              "    border: none;\n",
              "    border-radius: 50%;\n",
              "    cursor: pointer;\n",
              "    display: none;\n",
              "    fill: var(--fill-color);\n",
              "    height: 32px;\n",
              "    padding: 0;\n",
              "    width: 32px;\n",
              "  }\n",
              "\n",
              "  .colab-df-quickchart:hover {\n",
              "    background-color: var(--hover-bg-color);\n",
              "    box-shadow: 0 1px 2px rgba(60, 64, 67, 0.3), 0 1px 3px 1px rgba(60, 64, 67, 0.15);\n",
              "    fill: var(--button-hover-fill-color);\n",
              "  }\n",
              "\n",
              "  .colab-df-quickchart-complete:disabled,\n",
              "  .colab-df-quickchart-complete:disabled:hover {\n",
              "    background-color: var(--disabled-bg-color);\n",
              "    fill: var(--disabled-fill-color);\n",
              "    box-shadow: none;\n",
              "  }\n",
              "\n",
              "  .colab-df-spinner {\n",
              "    border: 2px solid var(--fill-color);\n",
              "    border-color: transparent;\n",
              "    border-bottom-color: var(--fill-color);\n",
              "    animation:\n",
              "      spin 1s steps(1) infinite;\n",
              "  }\n",
              "\n",
              "  @keyframes spin {\n",
              "    0% {\n",
              "      border-color: transparent;\n",
              "      border-bottom-color: var(--fill-color);\n",
              "      border-left-color: var(--fill-color);\n",
              "    }\n",
              "    20% {\n",
              "      border-color: transparent;\n",
              "      border-left-color: var(--fill-color);\n",
              "      border-top-color: var(--fill-color);\n",
              "    }\n",
              "    30% {\n",
              "      border-color: transparent;\n",
              "      border-left-color: var(--fill-color);\n",
              "      border-top-color: var(--fill-color);\n",
              "      border-right-color: var(--fill-color);\n",
              "    }\n",
              "    40% {\n",
              "      border-color: transparent;\n",
              "      border-right-color: var(--fill-color);\n",
              "      border-top-color: var(--fill-color);\n",
              "    }\n",
              "    60% {\n",
              "      border-color: transparent;\n",
              "      border-right-color: var(--fill-color);\n",
              "    }\n",
              "    80% {\n",
              "      border-color: transparent;\n",
              "      border-right-color: var(--fill-color);\n",
              "      border-bottom-color: var(--fill-color);\n",
              "    }\n",
              "    90% {\n",
              "      border-color: transparent;\n",
              "      border-bottom-color: var(--fill-color);\n",
              "    }\n",
              "  }\n",
              "</style>\n",
              "\n",
              "  <script>\n",
              "    async function quickchart(key) {\n",
              "      const quickchartButtonEl =\n",
              "        document.querySelector('#' + key + ' button');\n",
              "      quickchartButtonEl.disabled = true;  // To prevent multiple clicks.\n",
              "      quickchartButtonEl.classList.add('colab-df-spinner');\n",
              "      try {\n",
              "        const charts = await google.colab.kernel.invokeFunction(\n",
              "            'suggestCharts', [key], {});\n",
              "      } catch (error) {\n",
              "        console.error('Error during call to suggestCharts:', error);\n",
              "      }\n",
              "      quickchartButtonEl.classList.remove('colab-df-spinner');\n",
              "      quickchartButtonEl.classList.add('colab-df-quickchart-complete');\n",
              "    }\n",
              "    (() => {\n",
              "      let quickchartButtonEl =\n",
              "        document.querySelector('#df-b2f363ab-6903-4c97-a10c-7f0c09f63dac button');\n",
              "      quickchartButtonEl.style.display =\n",
              "        google.colab.kernel.accessAllowed ? 'block' : 'none';\n",
              "    })();\n",
              "  </script>\n",
              "</div>\n",
              "\n",
              "    </div>\n",
              "  </div>\n"
            ],
            "application/vnd.google.colaboratory.intrinsic+json": {
              "type": "dataframe",
              "summary": "{\n  \"name\": \"data\",\n  \"rows\": 4,\n  \"fields\": [\n    {\n      \"column\": \"Text\",\n      \"properties\": {\n        \"dtype\": \"string\",\n        \"num_unique_values\": 4,\n        \"samples\": [\n          14534,\n          \"23\",\n          \"24799\"\n        ],\n        \"semantic_type\": \"\",\n        \"description\": \"\"\n      }\n    },\n    {\n      \"column\": \"Emotion\",\n      \"properties\": {\n        \"dtype\": \"string\",\n        \"num_unique_values\": 4,\n        \"samples\": [\n          11,\n          \"3000\",\n          \"24799\"\n        ],\n        \"semantic_type\": \"\",\n        \"description\": \"\"\n      }\n    }\n  ]\n}"
            }
          },
          "metadata": {},
          "execution_count": 85
        }
      ]
    },
    {
      "cell_type": "code",
      "source": [
        "data['Emotion'] = data['Emotion'].str.strip()"
      ],
      "metadata": {
        "id": "hfy-jsNnWlaM"
      },
      "execution_count": null,
      "outputs": []
    },
    {
      "cell_type": "code",
      "source": [
        "texts=data[\"Text\"].tolist()\n",
        "labels=data[\"Emotion\"].tolist()"
      ],
      "metadata": {
        "id": "PmCh9xd_5mVt"
      },
      "execution_count": null,
      "outputs": []
    },
    {
      "cell_type": "code",
      "source": [],
      "metadata": {
        "colab": {
          "base_uri": "https://localhost:8080/",
          "height": 141
        },
        "id": "cxMyf71xVma_",
        "outputId": "7f5210b2-0f57-4d3d-d611-84425bb91089"
      },
      "execution_count": null,
      "outputs": [
        {
          "output_type": "error",
          "ename": "TypeError",
          "evalue": "Series.count() takes 1 positional argument but 2 were given",
          "traceback": [
            "\u001b[0;31m---------------------------------------------------------------------------\u001b[0m",
            "\u001b[0;31mTypeError\u001b[0m                                 Traceback (most recent call last)",
            "\u001b[0;32m<ipython-input-95-d08545553010>\u001b[0m in \u001b[0;36m<cell line: 0>\u001b[0;34m()\u001b[0m\n\u001b[0;32m----> 1\u001b[0;31m \u001b[0mdata\u001b[0m\u001b[0;34m[\u001b[0m\u001b[0;34m\"Emotion\"\u001b[0m\u001b[0;34m]\u001b[0m\u001b[0;34m.\u001b[0m\u001b[0mcount\u001b[0m\u001b[0;34m(\u001b[0m\u001b[0;34m\"sadness\"\u001b[0m\u001b[0;34m)\u001b[0m\u001b[0;34m\u001b[0m\u001b[0;34m\u001b[0m\u001b[0m\n\u001b[0m",
            "\u001b[0;31mTypeError\u001b[0m: Series.count() takes 1 positional argument but 2 were given"
          ]
        }
      ]
    },
    {
      "cell_type": "code",
      "source": [
        "tokenizer=Tokenizer()\n",
        "tokenizer.fit_on_texts(texts)"
      ],
      "metadata": {
        "id": "0YOSQQ9f53Ru"
      },
      "execution_count": null,
      "outputs": []
    },
    {
      "cell_type": "code",
      "source": [
        "import pickle\n",
        "\n",
        "# Save tokenizer after training\n",
        "with open('tokenizer.pickle', 'wb') as handle:\n",
        "    pickle.dump(tokenizer, handle, protocol=pickle.HIGHEST_PROTOCOL)\n"
      ],
      "metadata": {
        "id": "9IGs2kmmspBi"
      },
      "execution_count": null,
      "outputs": []
    },
    {
      "cell_type": "code",
      "source": [
        "with open('tokenizer.pickle', 'rb') as handle:\n",
        "    tokenizer = pickle.load(handle)\n"
      ],
      "metadata": {
        "id": "XQ5V-PAJst6x"
      },
      "execution_count": null,
      "outputs": []
    },
    {
      "cell_type": "code",
      "source": [
        "import json\n",
        "\n",
        "tokenizer_json = tokenizer.word_index\n",
        "with open(\"tokenizer.json\", \"w\") as f:\n",
        "    json.dump(tokenizer_json, f)\n",
        "print(\"✅ Tokenizer saved! Total words:\", len(tokenizer.word_index))"
      ],
      "metadata": {
        "colab": {
          "base_uri": "https://localhost:8080/"
        },
        "id": "cZCC_3WkLOug",
        "outputId": "91952a12-5594-432b-e3fc-6bad65b3654c"
      },
      "execution_count": null,
      "outputs": [
        {
          "output_type": "stream",
          "name": "stdout",
          "text": [
            "✅ Tokenizer saved! Total words: 13427\n"
          ]
        }
      ]
    },
    {
      "cell_type": "code",
      "source": [
        "from google.colab import files\n",
        "files.download(\"tokenizer.json\")\n"
      ],
      "metadata": {
        "colab": {
          "base_uri": "https://localhost:8080/",
          "height": 17
        },
        "id": "Ntl1iByquRG7",
        "outputId": "b8fa9b9a-11d2-4302-e550-0b39cec35434"
      },
      "execution_count": null,
      "outputs": [
        {
          "output_type": "display_data",
          "data": {
            "text/plain": [
              "<IPython.core.display.Javascript object>"
            ],
            "application/javascript": [
              "\n",
              "    async function download(id, filename, size) {\n",
              "      if (!google.colab.kernel.accessAllowed) {\n",
              "        return;\n",
              "      }\n",
              "      const div = document.createElement('div');\n",
              "      const label = document.createElement('label');\n",
              "      label.textContent = `Downloading \"${filename}\": `;\n",
              "      div.appendChild(label);\n",
              "      const progress = document.createElement('progress');\n",
              "      progress.max = size;\n",
              "      div.appendChild(progress);\n",
              "      document.body.appendChild(div);\n",
              "\n",
              "      const buffers = [];\n",
              "      let downloaded = 0;\n",
              "\n",
              "      const channel = await google.colab.kernel.comms.open(id);\n",
              "      // Send a message to notify the kernel that we're ready.\n",
              "      channel.send({})\n",
              "\n",
              "      for await (const message of channel.messages) {\n",
              "        // Send a message to notify the kernel that we're ready.\n",
              "        channel.send({})\n",
              "        if (message.buffers) {\n",
              "          for (const buffer of message.buffers) {\n",
              "            buffers.push(buffer);\n",
              "            downloaded += buffer.byteLength;\n",
              "            progress.value = downloaded;\n",
              "          }\n",
              "        }\n",
              "      }\n",
              "      const blob = new Blob(buffers, {type: 'application/binary'});\n",
              "      const a = document.createElement('a');\n",
              "      a.href = window.URL.createObjectURL(blob);\n",
              "      a.download = filename;\n",
              "      div.appendChild(a);\n",
              "      a.click();\n",
              "      div.remove();\n",
              "    }\n",
              "  "
            ]
          },
          "metadata": {}
        },
        {
          "output_type": "display_data",
          "data": {
            "text/plain": [
              "<IPython.core.display.Javascript object>"
            ],
            "application/javascript": [
              "download(\"download_3fbfd061-a336-4658-95ab-3fccacb9739f\", \"tokenizer.json\", 231062)"
            ]
          },
          "metadata": {}
        }
      ]
    },
    {
      "cell_type": "code",
      "source": [
        "sequences=tokenizer.texts_to_sequences(texts)\n",
        "#sequences = [seq if seq else [0] for seq in tokenizer.texts_to_sequences(texts)]\n",
        "max_length = min(66, max([len(seq) for seq in sequences]))  # Cap at 66 words\n",
        "#max_length = max([len(seq) for seq in sequences])\n",
        "padded_sequences = pad_sequences(sequences,maxlen = max_length)"
      ],
      "metadata": {
        "id": "PuhJCZzq558e"
      },
      "execution_count": null,
      "outputs": []
    },
    {
      "cell_type": "code",
      "source": [
        "le=LabelEncoder()\n",
        "labels=le.fit_transform(labels)"
      ],
      "metadata": {
        "id": "ZytdZF2A58yN"
      },
      "execution_count": null,
      "outputs": []
    },
    {
      "cell_type": "code",
      "source": [
        "one_hot_labels=keras.utils.to_categorical(labels)"
      ],
      "metadata": {
        "id": "F2Syl9yV5_f5"
      },
      "execution_count": null,
      "outputs": []
    },
    {
      "cell_type": "code",
      "source": [],
      "metadata": {
        "id": "1a0vH15vXEIT"
      },
      "execution_count": null,
      "outputs": []
    },
    {
      "cell_type": "code",
      "source": [],
      "metadata": {
        "id": "q-dJYJpITz6x"
      },
      "execution_count": null,
      "outputs": []
    },
    {
      "cell_type": "code",
      "source": [
        "#x_train,x_test,y_train,y_test=train_test_split(padded_sequences,one_hot_labels,test_size=0.2)\n",
        "x_train, x_test, y_train, y_test = train_test_split(\n",
        "    padded_sequences, one_hot_labels, test_size=0.2, stratify=one_hot_labels\n",
        ")\n"
      ],
      "metadata": {
        "id": "h5WbejSL6B_f"
      },
      "execution_count": null,
      "outputs": []
    },
    {
      "cell_type": "code",
      "source": [
        "print(\"Emotion to Index Mapping:\", le.classes_)\n"
      ],
      "metadata": {
        "colab": {
          "base_uri": "https://localhost:8080/"
        },
        "id": "dBxXfNges3BB",
        "outputId": "ef412cc6-0f8d-4a3c-84e8-ab677faa8c79"
      },
      "execution_count": null,
      "outputs": [
        {
          "output_type": "stream",
          "name": "stdout",
          "text": [
            "Emotion to Index Mapping: ['anger' 'fear' 'guilt' 'hope' 'joy' 'loneliness' 'love' 'neutral'\n",
            " 'sadness' 'surprise']\n"
          ]
        }
      ]
    },
    {
      "cell_type": "markdown",
      "source": [],
      "metadata": {
        "id": "Y6kBhJDPcm2S"
      }
    },
    {
      "cell_type": "markdown",
      "source": [],
      "metadata": {
        "id": "1AosKT7Je6EX"
      }
    },
    {
      "cell_type": "code",
      "source": [
        "from keras.callbacks import EarlyStopping\n",
        "\n",
        "early_stopping = EarlyStopping(monitor='val_loss', patience=2, restore_best_weights=True)"
      ],
      "metadata": {
        "id": "yMZBoC6xpadZ"
      },
      "execution_count": null,
      "outputs": []
    },
    {
      "cell_type": "code",
      "source": [
        "from keras.regularizers import l2"
      ],
      "metadata": {
        "id": "ZV0VAgl9xnBl"
      },
      "execution_count": null,
      "outputs": []
    },
    {
      "cell_type": "code",
      "source": [
        "model=Sequential()\n",
        "model.add(Embedding(input_dim=len(tokenizer.word_index)+1,output_dim=128,input_length=max_length))\n",
        "model.add(Flatten())\n",
        "model.add(Dense(units=128,activation=\"relu\", kernel_regularizer=l2(0.01)))\n",
        "model.add(Dropout(0.5))\n",
        "model.add(Dense(units=len(one_hot_labels[0]),activation=\"softmax\"))\n",
        "model.compile(optimizer=\"adam\",loss=\"categorical_crossentropy\",metrics=[\"accuracy\"])\n",
        "model.fit(x_train, y_train, epochs=10, batch_size=32, validation_data=(x_test, y_test), callbacks=[early_stopping])\n"
      ],
      "metadata": {
        "colab": {
          "base_uri": "https://localhost:8080/"
        },
        "id": "xsdN3GwU6EWL",
        "outputId": "99ca9968-53b4-4bbc-b8c5-d45379c30a97"
      },
      "execution_count": null,
      "outputs": [
        {
          "output_type": "stream",
          "name": "stdout",
          "text": [
            "Epoch 1/10\n"
          ]
        },
        {
          "output_type": "stream",
          "name": "stderr",
          "text": [
            "/usr/local/lib/python3.11/dist-packages/keras/src/layers/core/embedding.py:90: UserWarning: Argument `input_length` is deprecated. Just remove it.\n",
            "  warnings.warn(\n"
          ]
        },
        {
          "output_type": "stream",
          "name": "stdout",
          "text": [
            "\u001b[1m620/620\u001b[0m \u001b[32m━━━━━━━━━━━━━━━━━━━━\u001b[0m\u001b[37m\u001b[0m \u001b[1m26s\u001b[0m 39ms/step - accuracy: 0.2738 - loss: 2.2755 - val_accuracy: 0.5675 - val_loss: 1.3564\n",
            "Epoch 2/10\n",
            "\u001b[1m620/620\u001b[0m \u001b[32m━━━━━━━━━━━━━━━━━━━━\u001b[0m\u001b[37m\u001b[0m \u001b[1m25s\u001b[0m 40ms/step - accuracy: 0.5651 - loss: 1.3436 - val_accuracy: 0.6845 - val_loss: 1.1063\n",
            "Epoch 3/10\n",
            "\u001b[1m620/620\u001b[0m \u001b[32m━━━━━━━━━━━━━━━━━━━━\u001b[0m\u001b[37m\u001b[0m \u001b[1m39s\u001b[0m 37ms/step - accuracy: 0.7164 - loss: 1.0841 - val_accuracy: 0.7772 - val_loss: 0.9471\n",
            "Epoch 4/10\n",
            "\u001b[1m620/620\u001b[0m \u001b[32m━━━━━━━━━━━━━━━━━━━━\u001b[0m\u001b[37m\u001b[0m \u001b[1m23s\u001b[0m 37ms/step - accuracy: 0.8244 - loss: 0.8713 - val_accuracy: 0.8206 - val_loss: 0.8354\n",
            "Epoch 5/10\n",
            "\u001b[1m620/620\u001b[0m \u001b[32m━━━━━━━━━━━━━━━━━━━━\u001b[0m\u001b[37m\u001b[0m \u001b[1m40s\u001b[0m 36ms/step - accuracy: 0.8884 - loss: 0.7077 - val_accuracy: 0.8413 - val_loss: 0.7783\n",
            "Epoch 6/10\n",
            "\u001b[1m620/620\u001b[0m \u001b[32m━━━━━━━━━━━━━━━━━━━━\u001b[0m\u001b[37m\u001b[0m \u001b[1m40s\u001b[0m 34ms/step - accuracy: 0.9204 - loss: 0.6071 - val_accuracy: 0.8550 - val_loss: 0.7263\n",
            "Epoch 7/10\n",
            "\u001b[1m620/620\u001b[0m \u001b[32m━━━━━━━━━━━━━━━━━━━━\u001b[0m\u001b[37m\u001b[0m \u001b[1m42s\u001b[0m 36ms/step - accuracy: 0.9369 - loss: 0.5306 - val_accuracy: 0.8522 - val_loss: 0.7381\n",
            "Epoch 8/10\n",
            "\u001b[1m620/620\u001b[0m \u001b[32m━━━━━━━━━━━━━━━━━━━━\u001b[0m\u001b[37m\u001b[0m \u001b[1m42s\u001b[0m 37ms/step - accuracy: 0.9514 - loss: 0.4913 - val_accuracy: 0.8593 - val_loss: 0.6953\n",
            "Epoch 9/10\n",
            "\u001b[1m620/620\u001b[0m \u001b[32m━━━━━━━━━━━━━━━━━━━━\u001b[0m\u001b[37m\u001b[0m \u001b[1m40s\u001b[0m 35ms/step - accuracy: 0.9601 - loss: 0.4353 - val_accuracy: 0.8589 - val_loss: 0.7351\n",
            "Epoch 10/10\n",
            "\u001b[1m620/620\u001b[0m \u001b[32m━━━━━━━━━━━━━━━━━━━━\u001b[0m\u001b[37m\u001b[0m \u001b[1m42s\u001b[0m 36ms/step - accuracy: 0.9662 - loss: 0.4133 - val_accuracy: 0.8554 - val_loss: 0.7197\n"
          ]
        },
        {
          "output_type": "execute_result",
          "data": {
            "text/plain": [
              "<keras.src.callbacks.history.History at 0x7fa8b54fe5d0>"
            ]
          },
          "metadata": {},
          "execution_count": 19
        }
      ]
    },
    {
      "cell_type": "code",
      "source": [
        "def adjust_softmax(output, temperature=0.5):\n",
        "    exp_preds = np.exp(np.log(output) / temperature)\n",
        "    return exp_preds / np.sum(exp_preds)"
      ],
      "metadata": {
        "id": "HsFwXy2df4zm"
      },
      "execution_count": null,
      "outputs": []
    },
    {
      "cell_type": "code",
      "source": [
        "dummy_input = np.random.rand(1, max_length).astype(np.float32)  # Dummy input to test\n",
        "raw_output = model.predict(dummy_input)"
      ],
      "metadata": {
        "colab": {
          "base_uri": "https://localhost:8080/"
        },
        "id": "sOqPUvw5f9aF",
        "outputId": "7163a520-0d34-4467-f6c4-1b02852885ed"
      },
      "execution_count": null,
      "outputs": [
        {
          "output_type": "stream",
          "name": "stdout",
          "text": [
            "\u001b[1m1/1\u001b[0m \u001b[32m━━━━━━━━━━━━━━━━━━━━\u001b[0m\u001b[37m\u001b[0m \u001b[1m0s\u001b[0m 83ms/step\n"
          ]
        }
      ]
    },
    {
      "cell_type": "code",
      "source": [
        "adjusted_output = adjust_softmax(raw_output)\n",
        "\n",
        "print(\"\\n🔢 Raw Model Output:\\n\", raw_output)\n",
        "print(\"\\n🔥 Adjusted Softmax Output:\\n\", adjusted_output)"
      ],
      "metadata": {
        "colab": {
          "base_uri": "https://localhost:8080/"
        },
        "id": "EEcUGPpxgD08",
        "outputId": "93a1a3c1-a04d-4ec8-8a2a-fe319f4a6396"
      },
      "execution_count": null,
      "outputs": [
        {
          "output_type": "stream",
          "name": "stdout",
          "text": [
            "\n",
            "🔢 Raw Model Output:\n",
            " [[0.06040512 0.50784284 0.0040582  0.01482723 0.1711174  0.00466959\n",
            "  0.15345852 0.01941662 0.04799281 0.01621165]]\n",
            "\n",
            "🔥 Adjusted Softmax Output:\n",
            " [[1.1489141e-02 8.1207961e-01 5.1856892e-05 6.9224468e-04 9.2199445e-02\n",
            "  6.8659072e-05 7.4151844e-02 1.1871000e-03 7.2525777e-03 8.2755066e-04]]\n"
          ]
        }
      ]
    },
    {
      "cell_type": "code",
      "source": [
        "from sklearn.metrics import f1_score\n",
        "# Assuming y_test and y_pred are one-hot encoded\n",
        "y_test_categorical = np.argmax(y_test, axis=1)  # Convert one-hot to categorical labels\n",
        "y_pred_categorical = np.argmax(y_pred, axis=1)  # Convert model predictions to categorical labels\n",
        "\n",
        "# Compute F1 score (for multi-class)\n",
        "f1 = f1_score(y_test_categorical, y_pred_categorical, average='weighted')\n",
        "\n",
        "print(\"F1 Score:\", f1)"
      ],
      "metadata": {
        "id": "i7vGrswJv-nF"
      },
      "execution_count": null,
      "outputs": []
    },
    {
      "cell_type": "markdown",
      "source": [],
      "metadata": {
        "id": "h4c_gx88ztKd"
      }
    },
    {
      "cell_type": "code",
      "source": [
        "input_text=\" I am very happy today! \"\n",
        "input_sequence=tokenizer.texts_to_sequences([input_text])\n",
        "padded_input_sequence=pad_sequences(input_sequence,maxlen=max_length)\n",
        "prediction=model.predict(padded_input_sequence)\n",
        "predicted_label=le.inverse_transform([np.argmax(prediction[0])])\n",
        "print(predicted_label)"
      ],
      "metadata": {
        "colab": {
          "base_uri": "https://localhost:8080/"
        },
        "id": "J_D6Ovrl6G_E",
        "outputId": "8e07ad04-8605-487c-ad5d-739cab735bdd"
      },
      "execution_count": null,
      "outputs": [
        {
          "output_type": "stream",
          "name": "stdout",
          "text": [
            "\u001b[1m1/1\u001b[0m \u001b[32m━━━━━━━━━━━━━━━━━━━━\u001b[0m\u001b[37m\u001b[0m \u001b[1m0s\u001b[0m 136ms/step\n",
            "['joy']\n"
          ]
        }
      ]
    },
    {
      "cell_type": "code",
      "source": [
        "prediction = model.predict(x_test, batch_size=32)  # Ensure batch size is set properly\n"
      ],
      "metadata": {
        "id": "6jQtkGFRPItA",
        "outputId": "da5edfe2-3638-4244-db36-5a9bc66e2d86",
        "colab": {
          "base_uri": "https://localhost:8080/"
        }
      },
      "execution_count": null,
      "outputs": [
        {
          "output_type": "stream",
          "name": "stdout",
          "text": [
            "\u001b[1m155/155\u001b[0m \u001b[32m━━━━━━━━━━━━━━━━━━━━\u001b[0m\u001b[37m\u001b[0m \u001b[1m1s\u001b[0m 6ms/step\n"
          ]
        }
      ]
    },
    {
      "cell_type": "code",
      "source": [
        "from sklearn.metrics import f1_score\n",
        "import numpy as np\n",
        "\n",
        "# Assuming y_test and y_pred are one-hot encoded\n",
        "y_test_categorical = np.argmax(y_test, axis=1)  # Convert one-hot to categorical labels\n",
        "y_pred_categorical = np.argmax(prediction, axis=1)  # Convert model predictions to categorical labels\n",
        "print(\"y_test shape:\", y_test.shape)\n",
        "print(\"prediction shape:\", prediction.shape)\n",
        "\n"
      ],
      "metadata": {
        "id": "1dLk7MYwdzMn",
        "colab": {
          "base_uri": "https://localhost:8080/"
        },
        "outputId": "bc19b001-45bd-416f-c207-0106eb2bc8f9"
      },
      "execution_count": null,
      "outputs": [
        {
          "output_type": "stream",
          "name": "stdout",
          "text": [
            "y_test shape: (4960, 10)\n",
            "prediction shape: (4960, 10)\n"
          ]
        }
      ]
    },
    {
      "cell_type": "code",
      "source": [
        "# Compute F1 score (for multi-class)\n",
        "f1 = f1_score(y_test_categorical, y_pred_categorical, average='macro')\n",
        "\n",
        "print(\"F1 Score:\", f1)"
      ],
      "metadata": {
        "colab": {
          "base_uri": "https://localhost:8080/"
        },
        "id": "2JC_rm28Otw_",
        "outputId": "ec042df5-29a7-4f4e-c5ec-d3777bd349a5"
      },
      "execution_count": null,
      "outputs": [
        {
          "output_type": "stream",
          "name": "stdout",
          "text": [
            "F1 Score: 0.8667705511853623\n"
          ]
        }
      ]
    },
    {
      "cell_type": "code",
      "source": [
        "from google.colab import drive\n",
        "drive.mount('/content/drive')\n"
      ],
      "metadata": {
        "colab": {
          "base_uri": "https://localhost:8080/"
        },
        "id": "VpF-Y2X-6_Li",
        "outputId": "643829f3-531a-4c68-889c-9d4e6b7efb37"
      },
      "execution_count": null,
      "outputs": [
        {
          "output_type": "stream",
          "name": "stdout",
          "text": [
            "Drive already mounted at /content/drive; to attempt to forcibly remount, call drive.mount(\"/content/drive\", force_remount=True).\n"
          ]
        }
      ]
    },
    {
      "cell_type": "code",
      "source": [
        "model_path=\"/content/drive/My Drive/Colab Notebooks/Data/emotio_model.h5\""
      ],
      "metadata": {
        "id": "8QeHIAi47u5Q"
      },
      "execution_count": null,
      "outputs": []
    },
    {
      "cell_type": "code",
      "source": [
        "model.save(model_path)"
      ],
      "metadata": {
        "colab": {
          "base_uri": "https://localhost:8080/"
        },
        "id": "DA34xJN485y1",
        "outputId": "c42af372-9817-4450-f1ad-3de730a8176b"
      },
      "execution_count": null,
      "outputs": [
        {
          "output_type": "stream",
          "name": "stderr",
          "text": [
            "WARNING:absl:You are saving your model as an HDF5 file via `model.save()` or `keras.saving.save_model(model)`. This file format is considered legacy. We recommend using instead the native Keras format, e.g. `model.save('my_model.keras')` or `keras.saving.save_model(model, 'my_model.keras')`. \n"
          ]
        }
      ]
    },
    {
      "cell_type": "code",
      "source": [
        "converter = tf.lite.TFLiteConverter.from_keras_model(model)\n",
        "tflite_model = converter.convert()"
      ],
      "metadata": {
        "colab": {
          "base_uri": "https://localhost:8080/"
        },
        "id": "6LgJBUty82uB",
        "outputId": "f61ff7d0-c870-4ab2-be4f-f0ee97915e42"
      },
      "execution_count": null,
      "outputs": [
        {
          "output_type": "stream",
          "name": "stdout",
          "text": [
            "Saved artifact at '/tmp/tmpp0_8zj5x'. The following endpoints are available:\n",
            "\n",
            "* Endpoint 'serve'\n",
            "  args_0 (POSITIONAL_ONLY): TensorSpec(shape=(None, 66), dtype=tf.float32, name='keras_tensor_12')\n",
            "Output Type:\n",
            "  TensorSpec(shape=(None, 10), dtype=tf.float32, name=None)\n",
            "Captures:\n",
            "  138875306708048: TensorSpec(shape=(), dtype=tf.resource, name=None)\n",
            "  138875306708432: TensorSpec(shape=(), dtype=tf.resource, name=None)\n",
            "  138875306709584: TensorSpec(shape=(), dtype=tf.resource, name=None)\n",
            "  138875306709200: TensorSpec(shape=(), dtype=tf.resource, name=None)\n",
            "  138875306710352: TensorSpec(shape=(), dtype=tf.resource, name=None)\n"
          ]
        }
      ]
    },
    {
      "cell_type": "code",
      "source": [
        "with open(\"emotio_model.tflite\", \"wb\") as f:\n",
        "    f.write(tflite_model)\n",
        "\n",
        "print(\"TFLite model saved as emotio_model.tflite\")"
      ],
      "metadata": {
        "colab": {
          "base_uri": "https://localhost:8080/"
        },
        "id": "dE9u5qjn9bTH",
        "outputId": "9da3345b-bdbf-44a1-d221-cda639d1aac3"
      },
      "execution_count": null,
      "outputs": [
        {
          "output_type": "stream",
          "name": "stdout",
          "text": [
            "TFLite model saved as emotio_model.tflite\n"
          ]
        }
      ]
    },
    {
      "cell_type": "code",
      "source": [
        "from google.colab import files\n",
        "files.download(\"emotio_model.tflite\")\n"
      ],
      "metadata": {
        "colab": {
          "base_uri": "https://localhost:8080/",
          "height": 17
        },
        "id": "Gq_kJVHY9jNi",
        "outputId": "d410dd2f-dc74-4397-ba53-87ff5bdf3781"
      },
      "execution_count": null,
      "outputs": [
        {
          "output_type": "display_data",
          "data": {
            "text/plain": [
              "<IPython.core.display.Javascript object>"
            ],
            "application/javascript": [
              "\n",
              "    async function download(id, filename, size) {\n",
              "      if (!google.colab.kernel.accessAllowed) {\n",
              "        return;\n",
              "      }\n",
              "      const div = document.createElement('div');\n",
              "      const label = document.createElement('label');\n",
              "      label.textContent = `Downloading \"${filename}\": `;\n",
              "      div.appendChild(label);\n",
              "      const progress = document.createElement('progress');\n",
              "      progress.max = size;\n",
              "      div.appendChild(progress);\n",
              "      document.body.appendChild(div);\n",
              "\n",
              "      const buffers = [];\n",
              "      let downloaded = 0;\n",
              "\n",
              "      const channel = await google.colab.kernel.comms.open(id);\n",
              "      // Send a message to notify the kernel that we're ready.\n",
              "      channel.send({})\n",
              "\n",
              "      for await (const message of channel.messages) {\n",
              "        // Send a message to notify the kernel that we're ready.\n",
              "        channel.send({})\n",
              "        if (message.buffers) {\n",
              "          for (const buffer of message.buffers) {\n",
              "            buffers.push(buffer);\n",
              "            downloaded += buffer.byteLength;\n",
              "            progress.value = downloaded;\n",
              "          }\n",
              "        }\n",
              "      }\n",
              "      const blob = new Blob(buffers, {type: 'application/binary'});\n",
              "      const a = document.createElement('a');\n",
              "      a.href = window.URL.createObjectURL(blob);\n",
              "      a.download = filename;\n",
              "      div.appendChild(a);\n",
              "      a.click();\n",
              "      div.remove();\n",
              "    }\n",
              "  "
            ]
          },
          "metadata": {}
        },
        {
          "output_type": "display_data",
          "data": {
            "text/plain": [
              "<IPython.core.display.Javascript object>"
            ],
            "application/javascript": [
              "download(\"download_afbae4f8-c704-4192-b975-bb6f333f0b83\", \"emotio_model.tflite\", 11209280)"
            ]
          },
          "metadata": {}
        }
      ]
    },
    {
      "cell_type": "code",
      "source": [
        "interpreter = tf.lite.Interpreter(model_path=\"emotio_model.tflite\")\n",
        "interpreter.allocate_tensors()"
      ],
      "metadata": {
        "id": "25prZYyJ74R4"
      },
      "execution_count": null,
      "outputs": []
    },
    {
      "cell_type": "code",
      "source": [
        "input_details = interpreter.get_input_details()\n",
        "output_details = interpreter.get_output_details()"
      ],
      "metadata": {
        "id": "yTby5BVf77LC"
      },
      "execution_count": null,
      "outputs": []
    },
    {
      "cell_type": "code",
      "source": [
        "# Run inference\n",
        "input_data = np.array(padded_input_sequence, dtype=np.float32)\n",
        "interpreter.set_tensor(input_details[0]['index'], input_data)\n",
        "interpreter.invoke()\n",
        "output_data = interpreter.get_tensor(output_details[0]['index'])\n",
        "\n",
        "print(\"📌 TFLite Raw Output:\", output_data)"
      ],
      "metadata": {
        "colab": {
          "base_uri": "https://localhost:8080/",
          "height": 211
        },
        "id": "w13PCePE9uA2",
        "outputId": "3f5e62d8-0f73-4dbc-8bde-f569b4bf92fe"
      },
      "execution_count": null,
      "outputs": [
        {
          "output_type": "error",
          "ename": "NameError",
          "evalue": "name 'padded_input_sequence' is not defined",
          "traceback": [
            "\u001b[0;31m---------------------------------------------------------------------------\u001b[0m",
            "\u001b[0;31mNameError\u001b[0m                                 Traceback (most recent call last)",
            "\u001b[0;32m<ipython-input-127-6af7861ce739>\u001b[0m in \u001b[0;36m<cell line: 0>\u001b[0;34m()\u001b[0m\n\u001b[1;32m      1\u001b[0m \u001b[0;31m# Run inference\u001b[0m\u001b[0;34m\u001b[0m\u001b[0;34m\u001b[0m\u001b[0m\n\u001b[0;32m----> 2\u001b[0;31m \u001b[0minput_data\u001b[0m \u001b[0;34m=\u001b[0m \u001b[0mnp\u001b[0m\u001b[0;34m.\u001b[0m\u001b[0marray\u001b[0m\u001b[0;34m(\u001b[0m\u001b[0mpadded_input_sequence\u001b[0m\u001b[0;34m,\u001b[0m \u001b[0mdtype\u001b[0m\u001b[0;34m=\u001b[0m\u001b[0mnp\u001b[0m\u001b[0;34m.\u001b[0m\u001b[0mfloat32\u001b[0m\u001b[0;34m)\u001b[0m\u001b[0;34m\u001b[0m\u001b[0;34m\u001b[0m\u001b[0m\n\u001b[0m\u001b[1;32m      3\u001b[0m \u001b[0minterpreter\u001b[0m\u001b[0;34m.\u001b[0m\u001b[0mset_tensor\u001b[0m\u001b[0;34m(\u001b[0m\u001b[0minput_details\u001b[0m\u001b[0;34m[\u001b[0m\u001b[0;36m0\u001b[0m\u001b[0;34m]\u001b[0m\u001b[0;34m[\u001b[0m\u001b[0;34m'index'\u001b[0m\u001b[0;34m]\u001b[0m\u001b[0;34m,\u001b[0m \u001b[0minput_data\u001b[0m\u001b[0;34m)\u001b[0m\u001b[0;34m\u001b[0m\u001b[0;34m\u001b[0m\u001b[0m\n\u001b[1;32m      4\u001b[0m \u001b[0minterpreter\u001b[0m\u001b[0;34m.\u001b[0m\u001b[0minvoke\u001b[0m\u001b[0;34m(\u001b[0m\u001b[0;34m)\u001b[0m\u001b[0;34m\u001b[0m\u001b[0;34m\u001b[0m\u001b[0m\n\u001b[1;32m      5\u001b[0m \u001b[0moutput_data\u001b[0m \u001b[0;34m=\u001b[0m \u001b[0minterpreter\u001b[0m\u001b[0;34m.\u001b[0m\u001b[0mget_tensor\u001b[0m\u001b[0;34m(\u001b[0m\u001b[0moutput_details\u001b[0m\u001b[0;34m[\u001b[0m\u001b[0;36m0\u001b[0m\u001b[0;34m]\u001b[0m\u001b[0;34m[\u001b[0m\u001b[0;34m'index'\u001b[0m\u001b[0;34m]\u001b[0m\u001b[0;34m)\u001b[0m\u001b[0;34m\u001b[0m\u001b[0;34m\u001b[0m\u001b[0m\n",
            "\u001b[0;31mNameError\u001b[0m: name 'padded_input_sequence' is not defined"
          ]
        }
      ]
    },
    {
      "cell_type": "code",
      "source": [
        "dummy_input = np.random.rand(1, 66).astype(np.float32)  # Adjust 66 based on model input shape\n",
        "output = model.predict(dummy_input)\n",
        "\n",
        "# Print output order\n",
        "print(\"\\nModel Output Order:\\n\", output)"
      ],
      "metadata": {
        "colab": {
          "base_uri": "https://localhost:8080/"
        },
        "id": "5a9r5kC792M6",
        "outputId": "7e1b672d-2776-412d-967e-77e597d9e2d2"
      },
      "execution_count": null,
      "outputs": [
        {
          "output_type": "stream",
          "name": "stdout",
          "text": [
            "\u001b[1m1/1\u001b[0m \u001b[32m━━━━━━━━━━━━━━━━━━━━\u001b[0m\u001b[37m\u001b[0m \u001b[1m0s\u001b[0m 36ms/step\n",
            "\n",
            "Model Output Order:\n",
            " [[0.06040512 0.50784284 0.0040582  0.01482723 0.1711174  0.00466959\n",
            "  0.15345852 0.01941662 0.04799281 0.01621165]]\n"
          ]
        }
      ]
    },
    {
      "cell_type": "code",
      "source": [],
      "metadata": {
        "id": "N45pNtNzFrg2"
      },
      "execution_count": null,
      "outputs": []
    },
    {
      "cell_type": "code",
      "source": [],
      "metadata": {
        "colab": {
          "base_uri": "https://localhost:8080/"
        },
        "id": "BOsqQ8NJWHvZ",
        "outputId": "044b2835-893d-471b-f8d3-2505ba725817"
      },
      "execution_count": null,
      "outputs": [
        {
          "output_type": "stream",
          "name": "stdout",
          "text": [
            "\u001b[1m1/1\u001b[0m \u001b[32m━━━━━━━━━━━━━━━━━━━━\u001b[0m\u001b[37m\u001b[0m \u001b[1m0s\u001b[0m 42ms/step\n",
            "\n",
            "Model Output:\n",
            " [[0.0980273  0.13754573 0.26914057 0.34854153 0.09973297 0.04701192]]\n"
          ]
        }
      ]
    },
    {
      "cell_type": "code",
      "source": [
        "import numpy as np\n",
        "\n",
        "# Create test sentences\n",
        "test_sentences = [\"I am very happy today\", \"I feel so sad and lonely.\", \"That was a scary experience.\",\"I was scared when i so that\",\"my teacher told me my future is bright\"]\n",
        "\n",
        "# Tokenize and pad them just like training data\n",
        "test_sequences = tokenizer.texts_to_sequences(test_sentences)\n",
        "test_padded = pad_sequences(test_sequences, maxlen=max_length)\n",
        "# Get predictions\n",
        "predictions = model.predict(test_padded)\n",
        "# Apply to predictions\n",
        "\n",
        "predicted_labels = le.inverse_transform(np.argmax(predictions, axis=1))\n",
        "\n",
        "# Print results\n",
        "# Get final predicted index\n",
        "\n",
        "for text, pred, adj_pred in zip(test_sentences, predictions, predicted_labels):\n",
        "    print(f\"📝 Input: {text} \\n🔮 Raw Output: {pred} \\n🔥 Adjusted Output: {adj_pred}\" )"
      ],
      "metadata": {
        "id": "xKPqg0V1WInI",
        "colab": {
          "base_uri": "https://localhost:8080/"
        },
        "outputId": "655ae784-e3d9-4bfe-b964-a8d6e023af4e"
      },
      "execution_count": null,
      "outputs": [
        {
          "output_type": "stream",
          "name": "stdout",
          "text": [
            "\u001b[1m1/1\u001b[0m \u001b[32m━━━━━━━━━━━━━━━━━━━━\u001b[0m\u001b[37m\u001b[0m \u001b[1m0s\u001b[0m 38ms/step\n",
            "📝 Input: I am very happy today \n",
            "🔮 Raw Output: [1.3690714e-02 2.0885953e-01 7.5056421e-05 8.4439283e-03 5.9457248e-01\n",
            " 1.4137905e-04 1.5014140e-01 1.3340312e-02 1.0328417e-02 4.0675653e-04] \n",
            "🔥 Adjusted Output: joy\n",
            "📝 Input: I feel so sad and lonely. \n",
            "🔮 Raw Output: [8.9138836e-02 5.7539567e-03 3.8473451e-04 4.6396309e-07 9.2215585e-03\n",
            " 4.0743902e-04 1.4873405e-04 5.4181000e-05 8.9294797e-01 1.9421300e-03] \n",
            "🔥 Adjusted Output: sadness\n",
            "📝 Input: That was a scary experience. \n",
            "🔮 Raw Output: [1.02279976e-01 5.30467570e-01 1.94594759e-04 2.61816522e-03\n",
            " 2.80872226e-01 2.38493638e-04 4.96877916e-02 4.93114162e-03\n",
            " 2.67166346e-02 1.99337234e-03] \n",
            "🔥 Adjusted Output: fear\n",
            "📝 Input: I was scared when i so that \n",
            "🔮 Raw Output: [7.0076026e-02 9.2022085e-01 1.0413475e-04 1.6286783e-04 3.0499955e-03\n",
            " 1.1667311e-04 3.1773832e-03 2.7422199e-04 5.3143402e-04 2.2864356e-03] \n",
            "🔥 Adjusted Output: fear\n",
            "📝 Input: my teacher told me my future is bright \n",
            "🔮 Raw Output: [1.0569339e-03 1.9652465e-01 3.4018583e-03 7.4704009e-01 1.3293890e-02\n",
            " 4.3875091e-03 3.0927582e-02 3.2517521e-03 8.7051936e-05 2.8714512e-05] \n",
            "🔥 Adjusted Output: hope\n"
          ]
        }
      ]
    },
    {
      "cell_type": "code",
      "source": [],
      "metadata": {
        "id": "tbApFORcOfsl"
      },
      "execution_count": null,
      "outputs": []
    },
    {
      "cell_type": "code",
      "source": [
        "for sentence in test_sentences:\n",
        "    print(tokenizer.texts_to_sequences([sentence]))  # See if words are properly tokenized\n"
      ],
      "metadata": {
        "colab": {
          "base_uri": "https://localhost:8080/"
        },
        "id": "v8Y0BWKtT2-h",
        "outputId": "e4c9f563-1ee5-46e0-c07b-ef09d07a0819"
      },
      "execution_count": null,
      "outputs": [
        {
          "output_type": "stream",
          "name": "stdout",
          "text": [
            "[[1, 28, 76, 237, 104]]\n",
            "[[1, 3, 21, 413, 5, 354]]\n",
            "[[8, 16, 6, 3020, 580]]\n",
            "[[1, 16, 362, 32, 1, 21, 8]]\n",
            "[[7, 1011, 454, 15, 7, 269, 18, 1231]]\n"
          ]
        }
      ]
    },
    {
      "cell_type": "code",
      "source": [
        "print(data[\"Emotion\"].value_counts())  # Check if emotions are balanced\n"
      ],
      "metadata": {
        "colab": {
          "base_uri": "https://localhost:8080/"
        },
        "id": "AkBdCHbWWAzz",
        "outputId": "aa84a2e1-bf96-4f56-b176-f49010234d00"
      },
      "execution_count": null,
      "outputs": [
        {
          "output_type": "stream",
          "name": "stdout",
          "text": [
            "Emotion\n",
            "joy           3000\n",
            "sadness       3000\n",
            "love          2400\n",
            "surprise      2400\n",
            "anger         2398\n",
            "fear          2394\n",
            "guilt         2300\n",
            "loneliness    2300\n",
            "hope          2300\n",
            "neutral       2300\n",
            "Name: count, dtype: int64\n"
          ]
        }
      ]
    },
    {
      "cell_type": "code",
      "source": [
        "print(tokenizer.word_index[\"happy\"])   # Should match the ID for \"happy\" in tokenized output\n",
        "print(tokenizer.word_index[\"sad\"])     # Should match the ID for \"sad\"\n",
        "print(tokenizer.word_index[\"scary\"])   # Should match the ID for \"scary\"\n"
      ],
      "metadata": {
        "colab": {
          "base_uri": "https://localhost:8080/"
        },
        "id": "8Q9H6leJUnln",
        "outputId": "57d9ac26-7866-4ac2-a5e7-558bad87bc22"
      },
      "execution_count": null,
      "outputs": [
        {
          "output_type": "stream",
          "name": "stdout",
          "text": [
            "196\n",
            "307\n",
            "2654\n"
          ]
        }
      ]
    },
    {
      "cell_type": "code",
      "source": [
        "print(tokenizer.word_index.get(\"scary\"))\n",
        "print(tokenizer.texts_to_sequences([\"That was a scary experience.\"]))"
      ],
      "metadata": {
        "colab": {
          "base_uri": "https://localhost:8080/"
        },
        "id": "GNExYBreZki_",
        "outputId": "996e7ec9-c941-4d24-c006-055437ff4027"
      },
      "execution_count": null,
      "outputs": [
        {
          "output_type": "stream",
          "name": "stdout",
          "text": [
            "2654\n",
            "[[8, 14, 6, 2654, 415]]\n"
          ]
        }
      ]
    },
    {
      "cell_type": "code",
      "source": [
        "input_text=\"  I feel so sad and lonely. \"\n",
        "input_sequence=tokenizer.texts_to_sequences([input_text])\n",
        "padded_input_sequence=pad_sequences(input_sequence,maxlen=max_length)\n",
        "prediction=model.predict(padded_input_sequence)\n",
        "predicted_label=le.inverse_transform([np.argmax(prediction[0])])\n",
        "print(predicted_label)"
      ],
      "metadata": {
        "colab": {
          "base_uri": "https://localhost:8080/"
        },
        "id": "gv2U4z6SW6IQ",
        "outputId": "04cfd9b5-340c-4185-9c09-7f8fd7da3fd4"
      },
      "execution_count": null,
      "outputs": [
        {
          "output_type": "stream",
          "name": "stdout",
          "text": [
            "\u001b[1m1/1\u001b[0m \u001b[32m━━━━━━━━━━━━━━━━━━━━\u001b[0m\u001b[37m\u001b[0m \u001b[1m0s\u001b[0m 41ms/step\n",
            "['sadness']\n"
          ]
        }
      ]
    },
    {
      "cell_type": "code",
      "source": [
        "from google.colab import drive\n",
        "drive.mount('/content/drive')"
      ],
      "metadata": {
        "colab": {
          "base_uri": "https://localhost:8080/"
        },
        "id": "iTzgyx0nmVye",
        "outputId": "74b3e274-8ac1-441e-d159-6f4d41387500"
      },
      "execution_count": null,
      "outputs": [
        {
          "output_type": "stream",
          "name": "stdout",
          "text": [
            "Drive already mounted at /content/drive; to attempt to forcibly remount, call drive.mount(\"/content/drive\", force_remount=True).\n"
          ]
        }
      ]
    },
    {
      "cell_type": "code",
      "source": [
        "model_path=\"/content/drive/My Drive/Colab Notebooks/Data/emotionn_model.h5\"\n",
        "model.save(model_path)"
      ],
      "metadata": {
        "colab": {
          "base_uri": "https://localhost:8080/"
        },
        "id": "Nr8zDNOVZqFK",
        "outputId": "2a17bb35-2ddb-4c2a-ab0c-485006f8f6dd"
      },
      "execution_count": null,
      "outputs": [
        {
          "output_type": "stream",
          "name": "stderr",
          "text": [
            "WARNING:absl:You are saving your model as an HDF5 file via `model.save()` or `keras.saving.save_model(model)`. This file format is considered legacy. We recommend using instead the native Keras format, e.g. `model.save('my_model.keras')` or `keras.saving.save_model(model, 'my_model.keras')`. \n"
          ]
        }
      ]
    },
    {
      "cell_type": "code",
      "source": [
        "files.download(model_path)"
      ],
      "metadata": {
        "colab": {
          "base_uri": "https://localhost:8080/",
          "height": 17
        },
        "id": "76D-2mGJaKqS",
        "outputId": "ea1e44b7-4480-48c2-b25f-945b1c73b2c9"
      },
      "execution_count": null,
      "outputs": [
        {
          "output_type": "display_data",
          "data": {
            "text/plain": [
              "<IPython.core.display.Javascript object>"
            ],
            "application/javascript": [
              "\n",
              "    async function download(id, filename, size) {\n",
              "      if (!google.colab.kernel.accessAllowed) {\n",
              "        return;\n",
              "      }\n",
              "      const div = document.createElement('div');\n",
              "      const label = document.createElement('label');\n",
              "      label.textContent = `Downloading \"${filename}\": `;\n",
              "      div.appendChild(label);\n",
              "      const progress = document.createElement('progress');\n",
              "      progress.max = size;\n",
              "      div.appendChild(progress);\n",
              "      document.body.appendChild(div);\n",
              "\n",
              "      const buffers = [];\n",
              "      let downloaded = 0;\n",
              "\n",
              "      const channel = await google.colab.kernel.comms.open(id);\n",
              "      // Send a message to notify the kernel that we're ready.\n",
              "      channel.send({})\n",
              "\n",
              "      for await (const message of channel.messages) {\n",
              "        // Send a message to notify the kernel that we're ready.\n",
              "        channel.send({})\n",
              "        if (message.buffers) {\n",
              "          for (const buffer of message.buffers) {\n",
              "            buffers.push(buffer);\n",
              "            downloaded += buffer.byteLength;\n",
              "            progress.value = downloaded;\n",
              "          }\n",
              "        }\n",
              "      }\n",
              "      const blob = new Blob(buffers, {type: 'application/binary'});\n",
              "      const a = document.createElement('a');\n",
              "      a.href = window.URL.createObjectURL(blob);\n",
              "      a.download = filename;\n",
              "      div.appendChild(a);\n",
              "      a.click();\n",
              "      div.remove();\n",
              "    }\n",
              "  "
            ]
          },
          "metadata": {}
        },
        {
          "output_type": "display_data",
          "data": {
            "text/plain": [
              "<IPython.core.display.Javascript object>"
            ],
            "application/javascript": [
              "download(\"download_b11118ee-b975-451d-84b2-a476889886c4\", \"emotionn_model.h5\", 33477336)"
            ]
          },
          "metadata": {}
        }
      ]
    },
    {
      "cell_type": "code",
      "source": [
        "print(\"\\nEmotion distribution:\\n\", data[\"Emotion\"].value_counts())\n",
        "dummy_input = np.random.rand(1, 66).astype(np.float32)  # Adjust 66 based on model input shape\n",
        "output = model.predict(dummy_input)\n",
        "\n",
        "# Print output order\n",
        "print(\"\\nModel Output Order:\\n\", output)"
      ],
      "metadata": {
        "colab": {
          "base_uri": "https://localhost:8080/"
        },
        "id": "SUMgwLwmb0Rs",
        "outputId": "a857ab58-6383-40ab-c646-9335ddc38ad9"
      },
      "execution_count": null,
      "outputs": [
        {
          "output_type": "stream",
          "name": "stdout",
          "text": [
            "\n",
            "Emotion distribution:\n",
            " Emotion\n",
            "joy         3000\n",
            "sadness     3000\n",
            "surprise    2400\n",
            "love        2400\n",
            "anger       2398\n",
            "fear        2394\n",
            "Name: count, dtype: int64\n",
            "\u001b[1m1/1\u001b[0m \u001b[32m━━━━━━━━━━━━━━━━━━━━\u001b[0m\u001b[37m\u001b[0m \u001b[1m0s\u001b[0m 61ms/step\n",
            "\n",
            "Model Output Order:\n",
            " [[0.3676894  0.15944749 0.2444347  0.14175314 0.03707249 0.04960279]]\n"
          ]
        }
      ]
    },
    {
      "cell_type": "code",
      "source": [
        "print(tokenizer.texts_to_sequences([\"happy\", \"sad\", \"angry\"]))\n"
      ],
      "metadata": {
        "colab": {
          "base_uri": "https://localhost:8080/"
        },
        "id": "UmdbdEdRqpL_",
        "outputId": "2b6b171f-7876-4e04-8f18-81dd5cf360e7"
      },
      "execution_count": null,
      "outputs": [
        {
          "output_type": "stream",
          "name": "stdout",
          "text": [
            "[[196], [307], [263]]\n"
          ]
        }
      ]
    },
    {
      "cell_type": "code",
      "source": [
        "print(\"✅ First 10 words in tokenizer: ${wordToIndex.entries.take(10).toList()}\");\n"
      ],
      "metadata": {
        "colab": {
          "base_uri": "https://localhost:8080/"
        },
        "id": "oX0msH0yX1uh",
        "outputId": "e009e1cf-89e4-44f0-87a2-40261bf6a6d7"
      },
      "execution_count": null,
      "outputs": [
        {
          "output_type": "stream",
          "name": "stdout",
          "text": [
            "✅ First 10 words in tokenizer: ${wordToIndex.entries.take(10).toList()}\n"
          ]
        }
      ]
    },
    {
      "cell_type": "code",
      "source": [
        "print(tokenizer.word_index.get('scared', \"Not Found\"))\n"
      ],
      "metadata": {
        "colab": {
          "base_uri": "https://localhost:8080/"
        },
        "id": "mYNKcoizsJik",
        "outputId": "b74ec259-7a9f-4a4f-a01f-297580e0eb54"
      },
      "execution_count": null,
      "outputs": [
        {
          "output_type": "stream",
          "name": "stdout",
          "text": [
            "270\n"
          ]
        }
      ]
    },
    {
      "cell_type": "code",
      "source": [
        "print(tokenizer.word_index)  # See mapping of words → indices\n"
      ],
      "metadata": {
        "colab": {
          "base_uri": "https://localhost:8080/"
        },
        "id": "gS64vU0ZxvxN",
        "outputId": "af345bb0-4783-49a6-8114-44239aae0268"
      },
      "execution_count": null,
      "outputs": [
        {
          "output_type": "stream",
          "name": "stdout",
          "text": [
            "{'i': 1, 'feel': 2, 'and': 3, 'to': 4, 'the': 5, 'a': 6, 'of': 7, 'that': 8, 'my': 9, 'feeling': 10, 'in': 11, 'it': 12, 'like': 13, 'was': 14, 'but': 15, 'me': 16, 'for': 17, 'so': 18, 'im': 19, 'is': 20, 'have': 21, 'with': 22, 'this': 23, 'am': 24, 'about': 25, 'be': 26, 'not': 27, 'just': 28, 'as': 29, 'on': 30, 'you': 31, 'when': 32, 'at': 33, 'out': 34, 'or': 35, 'all': 36, 'because': 37, 'by': 38, 'up': 39, 'do': 40, 'more': 41, 'time': 42, 'can': 43, 'had': 44, 'really': 45, 'know': 46, 'how': 47, 'they': 48, 'would': 49, 'even': 50, 't': 51, 'are': 52, 'very': 53, 'if': 54, 'what': 55, 'been': 56, 'her': 57, 'will': 58, 'myself': 59, 'he': 60, 'little': 61, 'being': 62, 'never': 63, 'from': 64, 'get': 65, 'them': 66, 'one': 67, 'people': 68, 'still': 69, 'him': 70, 'now': 71, 'thought': 72, 'love': 73, 'want': 74, 'an': 75, 'something': 76, 'some': 77, 'who': 78, 'she': 79, 'much': 80, 'think': 81, 'we': 82, 'bit': 83, 'life': 84, 'there': 85, 'no': 86, 'could': 87, 'its': 88, 'ive': 89, 'way': 90, 'make': 91, 'things': 92, 'though': 93, 'dont': 94, 'today': 95, 'day': 96, 'm': 97, 'too': 98, 'than': 99, 'into': 100, 'going': 101, 'after': 102, 'his': 103, 's': 104, 'their': 105, 'back': 106, 'only': 107, 'has': 108, 'see': 109, 'wrong': 110, 'need': 111, 'go': 112, 'don': 113, 'always': 114, 'again': 115, 'feels': 116, 'someone': 117, 'your': 118, 'around': 119, 'say': 120, 'every': 121, 'these': 122, 'over': 123, 'felt': 124, 'which': 125, 'feelings': 126, 'also': 127, 'turns': 128, 'right': 129, 'pretty': 130, 'made': 131, 'were': 132, 'work': 133, 'should': 134, 'then': 135, 'got': 136, 'good': 137, 'family': 138, 'cant': 139, 'did': 140, 'without': 141, 'other': 142, 'most': 143, 'our': 144, 'long': 145, 'through': 146, 'makes': 147, 'here': 148, 'everything': 149, 'often': 150, 'didnt': 151, 'find': 152, 'those': 153, 'ever': 154, 'down': 155, 'away': 156, 'help': 157, 'why': 158, 'where': 159, 'many': 160, 'home': 161, 'anything': 162, 'quite': 163, 'any': 164, 'days': 165, 'left': 166, 'until': 167, 'having': 168, 'sure': 169, 'less': 170, 'getting': 171, 'remember': 172, 'world': 173, 'weird': 174, 'overwhelmed': 175, 'person': 176, 'well': 177, 'look': 178, 'last': 179, 'actually': 180, 'off': 181, 'strange': 182, 'doing': 183, 'sometimes': 184, 'enough': 185, 'such': 186, 'friends': 187, 'lot': 188, 'kind': 189, 'trying': 190, 'own': 191, 'another': 192, 'thing': 193, 'before': 194, 'place': 195, 'happy': 196, 'said': 197, 'able': 198, 'take': 199, 'heart': 200, 'better': 201, 'new': 202, 'moment': 203, 'while': 204, 'started': 205, 'amazed': 206, 'first': 207, 'fear': 208, 'times': 209, 'nothing': 210, 'old': 211, 'loving': 212, 'come': 213, 'start': 214, 'alone': 215, 'let': 216, 'year': 217, 'thinking': 218, 'years': 219, 'others': 220, 'week': 221, 'keep': 222, 'http': 223, 'making': 224, 'met': 225, 'read': 226, 'try': 227, 'tell': 228, 'impressed': 229, 'anyone': 230, 'lost': 231, 'loved': 232, 'rather': 233, 'night': 234, 'looking': 235, 'few': 236, 'sweet': 237, 'might': 238, 'job': 239, 'surprised': 240, 'part': 241, 'same': 242, 'give': 243, 'bad': 244, 'hope': 245, 'words': 246, 'amazing': 247, 'found': 248, 'yet': 249, 'everyone': 250, 'hate': 251, 'already': 252, 'us': 253, 'friend': 254, 'hard': 255, 'curious': 256, 'best': 257, 'funny': 258, 'blessed': 259, 'href': 260, 'god': 261, 'end': 262, 'angry': 263, 'understand': 264, 'may': 265, 'completely': 266, 'two': 267, 'morning': 268, 'hear': 269, 'scared': 270, 'stop': 271, 'stressed': 272, 'since': 273, 'passionate': 274, 'afraid': 275, 'shocked': 276, 'believe': 277, 'maybe': 278, 'accepted': 279, 'guess': 280, 'wanted': 281, 'book': 282, 'inside': 283, 'hot': 284, 'write': 285, 'ill': 286, 'talk': 287, 'whole': 288, 'school': 289, 'point': 290, 'else': 291, 'each': 292, 'id': 293, 'self': 294, 'once': 295, 'does': 296, 'put': 297, 'went': 298, 'didn': 299, 'agitated': 300, 'next': 301, 'hurt': 302, 'saying': 303, 'real': 304, 'terrified': 305, 'blog': 306, 'sad': 307, 'class': 308, 'done': 309, 'past': 310, 'saw': 311, 'body': 312, 'sense': 313, 'care': 314, 'pain': 315, 'especially': 316, 'beloved': 317, 'supporting': 318, 'face': 319, 'excited': 320, 'caring': 321, 'helpless': 322, 'i’d': 323, 'mean': 324, 'small': 325, 'matter': 326, 'truly': 327, 'must': 328, 'child': 329, 'totally': 330, 'almost': 331, 've': 332, 'post': 333, 'least': 334, 'hated': 335, 'nervous': 336, 'cold': 337, 'name': 338, 'leave': 339, 'reason': 340, 'writing': 341, 'towards': 342, 'wasnt': 343, 'call': 344, 'tired': 345, 'anxious': 346, 'liked': 347, 'important': 348, 'head': 349, 'room': 350, 'used': 351, 'lovely': 352, 'confused': 353, 'walk': 354, 'eyes': 355, 'great': 356, 'dazed': 357, 'safe': 358, 'frustrated': 359, 'use': 360, 'slightly': 361, 'mind': 362, 'walked': 363, 'came': 364, 'starting': 365, 'fact': 366, 'sleep': 367, 'lately': 368, 'sympathetic': 369, 'instead': 370, 'change': 371, 'called': 372, 'thats': 373, 'girl': 374, 'told': 375, 'live': 376, 'generous': 377, 'stupid': 378, 'seeing': 379, 'show': 380, 'longing': 381, 'enjoy': 382, 'romantic': 383, 'sort': 384, 'taking': 385, 'idea': 386, 'dream': 387, 'knew': 388, 'reading': 389, 'story': 390, 'house': 391, 'wish': 392, 'strong': 393, 'low': 394, 'tortured': 395, 'car': 396, 'months': 397, 'woke': 398, 'irritable': 399, 'close': 400, 'particularly': 401, 'nostalgic': 402, 'unsure': 403, 'extremely': 404, 'finally': 405, 'thoughts': 406, 'far': 407, 'admit': 408, 'become': 409, 'share': 410, 'bed': 411, 'miss': 412, 'doesnt': 413, 'vulnerable': 414, 'experience': 415, 'run': 416, 'knowing': 417, 'kids': 418, 'irritated': 419, 'special': 420, 'probably': 421, 'supportive': 422, 'perfect': 423, 'guilty': 424, 'expected': 425, 'future': 426, 'hand': 427, 'happen': 428, 'took': 429, 'selfish': 430, 'living': 431, 'bothered': 432, 'amp': 433, 'somehow': 434, 'waiting': 435, 'working': 436, 'needed': 437, 'man': 438, 'move': 439, 'spent': 440, 'usually': 441, 'worry': 442, 'mad': 443, 'lonely': 444, 'anymore': 445, 'coming': 446, 'violent': 447, 'loyal': 448, 'missed': 449, 'wake': 450, 'children': 451, 'happened': 452, 'shaken': 453, 'seen': 454, 'side': 455, 'free': 456, 'havent': 457, 'empty': 458, 'uncertain': 459, 'control': 460, 'rest': 461, 'situation': 462, 'greedy': 463, 'tender': 464, 'delicate': 465, 'suddenly': 466, 'cannot': 467, 'turn': 468, 'sorry': 469, 'annoyed': 470, 'big': 471, 'watching': 472, 'front': 473, 'thankful': 474, 'realized': 475, 'emotional': 476, 'wonderful': 477, 'stuff': 478, 'fucked': 479, 'comfortable': 480, 'offended': 481, 'hold': 482, 'resentful': 483, 'hours': 484, 'fine': 485, 'uncomfortable': 486, 'together': 487, 'sit': 488, 'mom': 489, 're': 490, 'naughty': 491, 'whenever': 492, 'glad': 493, 'news': 494, 'exhausted': 495, 'insecure': 496, 'gentle': 497, 'cause': 498, 'seems': 499, 'watch': 500, 'song': 501, 'reluctant': 502, 'both': 503, 'faithful': 504, 'wonder': 505, 'insulted': 506, 'paranoid': 507, 'ok': 508, 'decided': 509, 'heard': 510, 'horny': 511, 'asked': 512, 'talking': 513, 'cranky': 514, 'pressured': 515, 'longer': 516, 'hes': 517, 'apprehensive': 518, 'woman': 519, 'between': 520, 'full': 521, 'beautiful': 522, 'disappointed': 523, 'mother': 524, 'different': 525, 'second': 526, 'realize': 527, 'wanting': 528, 'horrible': 529, 'jealous': 530, 'couldnt': 531, 'pissed': 532, 'during': 533, 'wont': 534, 'dangerous': 535, 'rushed': 536, 'nice': 537, 'lucky': 538, 'voice': 539, 'forgotten': 540, 'kinda': 541, 'hair': 542, 'bitter': 543, 'seem': 544, 'terrible': 545, 'dissatisfied': 546, 'giving': 547, 'chance': 548, 'running': 549, 'rude': 550, 'rejected': 551, 'fond': 552, 'youre': 553, 'looked': 554, 'ask': 555, 'wronged': 556, 'relationship': 557, 'sitting': 558, 'threatened': 559, 'comes': 560, 'true': 561, 'guy': 562, 'didn’t': 563, 'tried': 564, 'books': 565, 'ago': 566, 'couple': 567, 'music': 568, 'women': 569, 'food': 570, 'skin': 571, 'intimidated': 572, 'ashamed': 573, 'depressed': 574, 'cry': 575, 'deep': 576, 'baby': 577, 'list': 578, 'phone': 579, 'shitty': 580, 'walking': 581, 'mine': 582, 'won': 583, 'against': 584, 'unhappy': 585, 'hesitant': 586, 'proud': 587, 'single': 588, 'money': 589, 'exactly': 590, 'simply': 591, 'shy': 592, 'precious': 593, 'toward': 594, 'energy': 595, 'bitchy': 596, 'open': 597, 'sick': 598, 'fun': 599, 'honestly': 600, 'kept': 601, 'positive': 602, 'incredibly': 603, 'support': 604, 'tonight': 605, 'cool': 606, 'given': 607, 'whether': 608, 'i’m': 609, 'shes': 610, 'weeks': 611, 'successful': 612, 'somewhat': 613, 'set': 614, 'burdened': 615, 'distracted': 616, 'confident': 617, 'began': 618, 'under': 619, 'sat': 620, 'smile': 621, 'expecting': 622, 'results': 623, 'theres': 624, 'ones': 625, 'normal': 626, 'trust': 627, 'soon': 628, 'awkward': 629, 'fearful': 630, 'behind': 631, 'wear': 632, 'absolutely': 633, 'stay': 634, 'word': 635, 'eat': 636, 'forward': 637, 'awful': 638, 'yesterday': 639, 'passed': 640, 'forever': 641, 'favorite': 642, 'shaky': 643, 'impatient': 644, 'joy': 645, 'husband': 646, 'offer': 647, 'needs': 648, 'guys': 649, 'course': 650, 'spend': 651, 'presence': 652, 'supposed': 653, 'disgusted': 654, 'petty': 655, 'however': 656, 'simple': 657, 'calm': 658, 'creative': 659, 'parents': 660, 'hopeless': 661, 'rebellious': 662, 'miserable': 663, 'listen': 664, 'lethargic': 665, 'etc': 666, 'numb': 667, 'telling': 668, 'grateful': 669, 'ended': 670, 'convinced': 671, 'amount': 672, 'super': 673, 'isolated': 674, 'upset': 675, 'gone': 676, 'ways': 677, 'watched': 678, 'weekend': 679, 'high': 680, 'punished': 681, 'fall': 682, 'top': 683, 'stomach': 684, 'restless': 685, 'brave': 686, 'weight': 687, 'embarrassed': 688, 'constantly': 689, 'll': 690, 'definitely': 691, 'art': 692, 'respected': 693, 'inspired': 694, 'satisfied': 695, 'air': 696, 'hearing': 697, 'broke': 698, 'content': 699, 'frightened': 700, 'stand': 701, 'ready': 702, 'girls': 703, 'team': 704, 'lives': 705, 'three': 706, 'wasn’t': 707, 'expect': 708, 'eating': 709, 'grumpy': 710, 'order': 711, 'useless': 712, 'either': 713, 'hands': 714, 'minutes': 715, 'honored': 716, 'emotions': 717, 'visit': 718, 'ignored': 719, 'pass': 720, 'outside': 721, 'turned': 722, 'checked': 723, 'stunned': 724, 'd': 725, 'determined': 726, 'half': 727, 'aching': 728, 'meet': 729, 'attention': 730, 'stories': 731, 'stubborn': 732, 'young': 733, 'film': 734, 'movie': 735, 'dirty': 736, 'deal': 737, 'learn': 738, 'message': 739, 'along': 740, 'opportunity': 741, 'buy': 742, 'melancholy': 743, 'discouraged': 744, 'losing': 745, 'usual': 746, 'using': 747, 'upon': 748, 'sound': 749, 'www': 750, 'goes': 751, 'certain': 752, 'play': 753, 'learned': 754, 'groggy': 755, 'gave': 756, 'generally': 757, 'hopeful': 758, 'whatever': 759, 'lose': 760, 'devastated': 761, 'opened': 762, 'taken': 763, 'vain': 764, 'assured': 765, 'moving': 766, 'valued': 767, 'frantic': 768, 'letter': 769, 'quickly': 770, 'regretful': 771, 'although': 772, 'innocent': 773, 'worth': 774, 'divine': 775, 'joyful': 776, 'talented': 777, 'arms': 778, 'boy': 779, 'touch': 780, 'desire': 781, 'dark': 782, 'drained': 783, 'listless': 784, 'homesick': 785, 'isnt': 786, 'gloomy': 787, 'unwelcome': 788, 'changed': 789, 'game': 790, 'wants': 791, 'exam': 792, 'speak': 793, 'moments': 794, 'beaten': 795, 'gets': 796, 'trusting': 797, 'across': 798, 'looks': 799, 'happiness': 800, 'forget': 801, 'christmas': 802, 'dumb': 803, 'memories': 804, 'explain': 805, 'optimistic': 806, 'bring': 807, 'ugly': 808, 'act': 809, 'plan': 810, 'men': 811, 'spending': 812, 'email': 813, 'company': 814, 'means': 815, 'late': 816, 'summer': 817, 'skeptical': 818, 'beginning': 819, 'popular': 820, 'cute': 821, 'humiliated': 822, 'reasons': 823, 'reach': 824, 'rich': 825, 'space': 826, 'envious': 827, 'damaged': 828, 'sharing': 829, 'easy': 830, 'gift': 831, 'gorgeous': 832, 'mellow': 833, 'continue': 834, \"i'm\": 835, 'received': 836, 'peace': 837, 'relaxed': 838, 'worthless': 839, 'wouldnt': 840, 'held': 841, 'blank': 842, 'smart': 843, 'race': 844, 'country': 845, 'pathetic': 846, 'students': 847, 'dull': 848, 'problems': 849, 'entire': 850, 'evening': 851, 'break': 852, 'disheartened': 853, 'fake': 854, 'imagine': 855, 'pleasant': 856, 'door': 857, 'lousy': 858, 'piece': 859, 'suppose': 860, 'despite': 861, 'rotten': 862, 'deeply': 863, 'crappy': 864, 'inadequate': 865, 'later': 866, 'heartbroken': 867, 'finding': 868, 'fantastic': 869, 'wondering': 870, 'putting': 871, 'productive': 872, 'notice': 873, 'worked': 874, 'due': 875, 'characters': 876, 'win': 877, 'possible': 878, 'says': 879, 'unfortunate': 880, 'type': 881, 'party': 882, 'disturbed': 883, 'issues': 884, 'age': 885, 'shit': 886, 'father': 887, 'hour': 888, 'recently': 889, 'waking': 890, 'warm': 891, 'oh': 892, 'devoted': 893, 'wasn': 894, 'step': 895, 'photos': 896, 'deprived': 897, 'physically': 898, 'soul': 899, 'stood': 900, 'missing': 901, 'healthy': 902, 'jaded': 903, 'red': 904, 'useful': 905, 'mood': 906, 'loss': 907, 'themselves': 908, 'breath': 909, 'distressed': 910, 'unimportant': 911, 'blogging': 912, 'begin': 913, 'line': 914, 'strongly': 915, 'dreams': 916, 'learning': 917, 'lack': 918, 'festive': 919, 'discontent': 920, 'tears': 921, 'lame': 922, 'hostile': 923, 'truth': 924, 'express': 925, 'falling': 926, 'defeated': 927, 'theyre': 928, 'valuable': 929, 'conversation': 930, 'stress': 931, 'worthwhile': 932, 'leaving': 933, 'readers': 934, 'superior': 935, 'needy': 936, 'personal': 937, 'sadness': 938, 'answer': 939, 'brought': 940, 'doubtful': 941, 'unexpected': 942, 'crying': 943, 'pressure': 944, 'suspicious': 945, 'memory': 946, 'holding': 947, 'group': 948, 'state': 949, 'sister': 950, 'hateful': 951, 'questions': 952, 'seriously': 953, 'effort': 954, 'picture': 955, 'hit': 956, 'decide': 957, 'worried': 958, 'clever': 959, 'add': 960, 'water': 961, 'doubt': 962, 'written': 963, 'damn': 964, 'stuck': 965, 'delicious': 966, 'doesn': 967, 'wait': 968, 'level': 969, 'don’t': 970, 'suffering': 971, 'perhaps': 972, 'acceptable': 973, 'city': 974, 'tomorrow': 975, 'honoured': 976, 'emotionally': 977, 'known': 978, 'boring': 979, 'meeting': 980, 'throw': 981, 'spirit': 982, 'short': 983, 'calling': 984, 'letting': 985, 'finish': 986, 'troubled': 987, 'filled': 988, 'friendly': 989, 'ordinary': 990, 'compassionate': 991, 'beauty': 992, 'standing': 993, 'sleeping': 994, 'dinner': 995, 'weather': 996, 'unloved': 997, 'yes': 998, 'tend': 999, 'rain': 1000, 'worse': 1001, 'figure': 1002, 'laugh': 1003, 'treated': 1004, 'pleased': 1005, 'artistic': 1006, 'asking': 1007, 'respect': 1008, 'carefree': 1009, 'wife': 1010, 'gotten': 1011, 'choice': 1012, 'deserve': 1013, 'comfort': 1014, 'grouchy': 1015, 'ungrateful': 1016, 'huge': 1017, 'welcomed': 1018, 'church': 1019, 'songs': 1020, 'focus': 1021, 'easily': 1022, 'crazy': 1023, 'decision': 1024, 'son': 1025, 'pick': 1026, 'comments': 1027, 'society': 1028, 'minute': 1029, 'peaceful': 1030, 'health': 1031, 'honest': 1032, 'computer': 1033, 'privileged': 1034, 'energetic': 1035, 'anyway': 1036, 'early': 1037, 'playing': 1038, 'describe': 1039, 'light': 1040, 'near': 1041, 'distraught': 1042, 'indecisive': 1043, 'stopped': 1044, 'finished': 1045, 'remorseful': 1046, 'strength': 1047, 'lazy': 1048, 'reminded': 1049, 'human': 1050, 'four': 1051, 'surprise': 1052, 'lots': 1053, 'kiss': 1054, 'anger': 1055, 'childhood': 1056, 'entirely': 1057, 'fabulous': 1058, 'eager': 1059, 'die': 1060, 'happening': 1061, 'beside': 1062, 'check': 1063, 'onto': 1064, 'sky': 1065, 'pregnant': 1066, 'month': 1067, 'utterly': 1068, 'sincere': 1069, 'within': 1070, 'escape': 1071, 'apart': 1072, 'quiet': 1073, 'mention': 1074, 'enjoyed': 1075, 'fully': 1076, 'aware': 1077, 'itself': 1078, 'reassured': 1079, 'invigorated': 1080, 'fit': 1081, 'issue': 1082, 'u': 1083, 'immediately': 1084, 'keeping': 1085, 'managed': 1086, 'case': 1087, 'thrilled': 1088, 'note': 1089, 'doomed': 1090, 'understanding': 1091, 'relationships': 1092, 'whats': 1093, 'grand': 1094, 'general': 1095, 'test': 1096, 'personally': 1097, 'death': 1098, 'efforts': 1099, 'area': 1100, 'birthday': 1101, 'text': 1102, 'struggling': 1103, 'nor': 1104, 'intelligent': 1105, 'process': 1106, 'lived': 1107, 'complete': 1108, 'submissive': 1109, 'regular': 1110, 'consider': 1111, 'ground': 1112, 'sun': 1113, 'triumphant': 1114, 'kid': 1115, 'wanna': 1116, 'helping': 1117, 'src': 1118, 'happens': 1119, 'style': 1120, 'appreciate': 1121, 'fairly': 1122, 'project': 1123, 'question': 1124, 'disillusioned': 1125, 'spot': 1126, 'listening': 1127, 'betrayed': 1128, 'shake': 1129, 'realizing': 1130, 'unable': 1131, 'season': 1132, 'chest': 1133, 'boyfriend': 1134, 'media': 1135, 'trip': 1136, 'pictures': 1137, 'considerate': 1138, 'knows': 1139, 'sarcastic': 1140, 'teacher': 1141, 'fault': 1142, 'barely': 1143, 'remembered': 1144, 'ability': 1145, 'considering': 1146, 'number': 1147, 'warmth': 1148, 'lips': 1149, 'bitch': 1150, 'community': 1151, 'please': 1152, 'heartless': 1153, 'boys': 1154, 'stranger': 1155, 'return': 1156, 'relieved': 1157, 'difference': 1158, 'foolish': 1159, 'posting': 1160, 'crap': 1161, 'five': 1162, 'knowledge': 1163, 'cut': 1164, 'guilt': 1165, 'compared': 1166, 'tragic': 1167, 'ahead': 1168, 'wrote': 1169, 'vital': 1170, 'create': 1171, 'score': 1172, 'nearly': 1173, 'silly': 1174, 'abused': 1175, 'arent': 1176, 'current': 1177, 'pay': 1178, 'belong': 1179, 'wearing': 1180, 'color': 1181, 'fucking': 1182, 'college': 1183, 'application': 1184, 'rejection': 1185, 'partner': 1186, 'audience': 1187, 'enjoying': 1188, 'possibly': 1189, 'casual': 1190, 'mostly': 1191, 'glamorous': 1192, 'speaking': 1193, 'inhibited': 1194, 'gracious': 1195, 'soft': 1196, 'adventurous': 1197, 'himself': 1198, 'became': 1199, 'non': 1200, 'avoid': 1201, 'uptight': 1202, 'career': 1203, 'thank': 1204, 'staying': 1205, 'ideas': 1206, 'drink': 1207, 'blood': 1208, 'meant': 1209, 'edge': 1210, 'keeps': 1211, 'pull': 1212, 'busy': 1213, 'gonna': 1214, 'currently': 1215, 'date': 1216, 'afternoon': 1217, 'view': 1218, 'touched': 1219, 'resolved': 1220, 'black': 1221, 'talked': 1222, 'allowed': 1223, 'slowly': 1224, 'worst': 1225, 'routine': 1226, 'problem': 1227, 'fat': 1228, 'several': 1229, 'whom': 1230, 'eye': 1231, 'couldn': 1232, 'blamed': 1233, 'fuck': 1234, 'series': 1235, 'entered': 1236, 'needing': 1237, 'reality': 1238, 'training': 1239, 'middle': 1240, 'fix': 1241, 'social': 1242, 'lets': 1243, 'following': 1244, 'anxiety': 1245, 'fears': 1246, 'sex': 1247, 'shouldnt': 1248, 'dear': 1249, 'appreciative': 1250, 'forgive': 1251, 'dad': 1252, 'daily': 1253, 'sore': 1254, 'experienced': 1255, 'office': 1256, 'awesome': 1257, 'version': 1258, 'silence': 1259, 'assaulted': 1260, 'holiday': 1261, 'img': 1262, 'chocolate': 1263, 'dance': 1264, 'lol': 1265, 'position': 1266, 'fans': 1267, 'carried': 1268, 'subject': 1269, 'push': 1270, 'brain': 1271, 'except': 1272, 'effects': 1273, 'follow': 1274, 'mistake': 1275, 'clear': 1276, 'playful': 1277, 'obnoxious': 1278, 'sunday': 1279, 'genuinely': 1280, 'changes': 1281, 'jesus': 1282, 'drive': 1283, 'somewhere': 1284, 'street': 1285, 'fight': 1286, 'tv': 1287, 'system': 1288, 'coffee': 1289, 'failure': 1290, 'grow': 1291, 'business': 1292, 'leaves': 1293, 'gives': 1294, 'smell': 1295, 'treat': 1296, 'thanks': 1297, 'negative': 1298, 'freedom': 1299, 'character': 1300, 'delighted': 1301, 'wind': 1302, 'turning': 1303, 'lord': 1304, 'older': 1305, 'video': 1306, 'complacent': 1307, 'connection': 1308, 'weak': 1309, 'died': 1310, 'remind': 1311, 'contented': 1312, 'nowhere': 1313, 'handle': 1314, 'shoes': 1315, 'growing': 1316, 'faith': 1317, 'expectations': 1318, 'outraged': 1319, 'haven': 1320, 'ecstatic': 1321, 'unpleasant': 1322, 'choose': 1323, 'amused': 1324, 'certainly': 1325, 'culture': 1326, 'situations': 1327, 'silent': 1328, 'n': 1329, 'lead': 1330, 'nobody': 1331, 'realise': 1332, 'window': 1333, 'terribly': 1334, 'girlfriend': 1335, 'total': 1336, 'main': 1337, 'tree': 1338, 'meaning': 1339, 'performance': 1340, 'appreciated': 1341, 'moved': 1342, 'recall': 1343, 'hell': 1344, 'sing': 1345, 'couldn’t': 1346, 'bank': 1347, 'smug': 1348, 'six': 1349, 'awake': 1350, 'daughter': 1351, 'furious': 1352, 'alive': 1353, 'final': 1354, 'okay': 1355, 'reaction': 1356, 'above': 1357, 'noticed': 1358, 'fill': 1359, 'virtuous': 1360, 'involved': 1361, 'cares': 1362, 'pray': 1363, 'hoped': 1364, 'checking': 1365, 'fingers': 1366, 'power': 1367, 'mess': 1368, 'shared': 1369, 'facebook': 1370, 'ran': 1371, 'becoming': 1372, 'admired': 1373, 'difficult': 1374, 'paper': 1375, 'events': 1376, 'rel': 1377, 'beyond': 1378, 'tad': 1379, 'allow': 1380, 'works': 1381, 'hug': 1382, 'choices': 1383, 'yourself': 1384, 'hoping': 1385, 'skills': 1386, 'weepy': 1387, 'smiling': 1388, 'hurts': 1389, 'feet': 1390, 'event': 1391, 'further': 1392, 'badly': 1393, 'kindness': 1394, 'white': 1395, 'wall': 1396, 'terrific': 1397, 'treasured': 1398, 'promotion': 1399, 'boss': 1400, 'dead': 1401, 'posts': 1402, 'winter': 1403, 'embrace': 1404, 'success': 1405, 'chosen': 1406, 'blogs': 1407, 'distance': 1408, 'review': 1409, 'lie': 1410, 'straight': 1411, 'sentimental': 1412, 'overly': 1413, 'nature': 1414, 'physical': 1415, 'ache': 1416, 'breathe': 1417, 'closed': 1418, 'perfectly': 1419, 'loves': 1420, 'internet': 1421, 'brand': 1422, 'universe': 1423, 'beat': 1424, 'basically': 1425, 'public': 1426, 'herself': 1427, 'reached': 1428, 'emotion': 1429, 'large': 1430, 'progress': 1431, 'brother': 1432, 'created': 1433, 'clean': 1434, 'anywhere': 1435, 'based': 1436, 'overall': 1437, 'tiny': 1438, 'earth': 1439, 'throughout': 1440, 'challenge': 1441, 'search': 1442, 'recognize': 1443, 'ignore': 1444, 'page': 1445, 'clothes': 1446, 'streets': 1447, 'extra': 1448, 'muscles': 1449, 'ice': 1450, 'messy': 1451, 'pieces': 1452, 'enthralled': 1453, 'size': 1454, 'everyday': 1455, 'path': 1456, 'road': 1457, 'c': 1458, 'balance': 1459, 'exercise': 1460, 'shouldn': 1461, 'tough': 1462, 'confidence': 1463, 'views': 1464, 'equally': 1465, 'seemed': 1466, 'attitude': 1467, 'keen': 1468, 'comment': 1469, 'mentally': 1470, 'struggle': 1471, 'arm': 1472, 'regret': 1473, 'elegant': 1474, 'decisions': 1475, 'instantly': 1476, 'miles': 1477, 'none': 1478, 'online': 1479, 'ease': 1480, 'members': 1481, 'i’ve': 1482, 'perspective': 1483, 'friday': 1484, 'cat': 1485, 'park': 1486, 'discovered': 1487, 'asleep': 1488, 'starts': 1489, 'purpose': 1490, 'cream': 1491, 'environment': 1492, 'sensitive': 1493, 'bought': 1494, 'corner': 1495, 'entertained': 1496, 'takes': 1497, 'weve': 1498, 'wimpy': 1499, 'attempt': 1500, 'depression': 1501, 'catch': 1502, 'shamed': 1503, 'detail': 1504, 'prize': 1505, 'points': 1506, 'episode': 1507, 'odd': 1508, 'hey': 1509, 'sounds': 1510, 'lyrics': 1511, 'strangely': 1512, 'receiving': 1513, 'passing': 1514, 'marks': 1515, 'neither': 1516, 'fighting': 1517, 'planned': 1518, 'background': 1519, 'hide': 1520, 'program': 1521, 'dress': 1522, 'anybody': 1523, 'receive': 1524, 'broken': 1525, 'concerned': 1526, 'interest': 1527, 'stage': 1528, 'classes': 1529, 'result': 1530, 'mark': 1531, 'present': 1532, 'yeah': 1533, 'horribly': 1534, 'random': 1535, 'lights': 1536, 'movies': 1537, 'mentioned': 1538, 'holidays': 1539, 'excitement': 1540, 'clearly': 1541, 'affectionate': 1542, 'relief': 1543, 'kick': 1544, 'desperately': 1545, 'victim': 1546, 'journey': 1547, 'neurotic': 1548, 'surrounded': 1549, 'title': 1550, 'timid': 1551, 'serious': 1552, 'bus': 1553, 'caught': 1554, 'terms': 1555, 'flying': 1556, 'places': 1557, 'posted': 1558, 'accept': 1559, 'flower': 1560, 'ate': 1561, 'heat': 1562, 'particular': 1563, 'ourselves': 1564, 'buying': 1565, 'adventure': 1566, 'sent': 1567, 'idiotic': 1568, 'projects': 1569, 'ticket': 1570, 'loneliness': 1571, 'experiences': 1572, 'direction': 1573, 'photo': 1574, 'angered': 1575, 'ass': 1576, 'travel': 1577, 'properly': 1578, 'harder': 1579, 'earlier': 1580, 'dog': 1581, 'drop': 1582, 'afterwards': 1583, 'pleasantly': 1584, 'emo': 1585, 'extent': 1586, 'sugar': 1587, 'cup': 1588, 'colors': 1589, 'pride': 1590, 'america': 1591, 'legs': 1592, 'interview': 1593, 'previous': 1594, 'b': 1595, 'store': 1596, 'pretend': 1597, 'laughter': 1598, 'product': 1599, 'shall': 1600, 'brush': 1601, 'tone': 1602, 'played': 1603, 'bookmark': 1604, 'wished': 1605, 'can’t': 1606, 'noticing': 1607, 'accident': 1608, 'history': 1609, 'information': 1610, 'grade': 1611, 'settle': 1612, 'doctor': 1613, 'normally': 1614, 'fresh': 1615, 'box': 1616, 'lottery': 1617, 'highest': 1618, 'approach': 1619, 'pink': 1620, 'actions': 1621, 'aggravated': 1622, 'ride': 1623, 'increasingly': 1624, 'drove': 1625, 'they’d': 1626, 'reader': 1627, 'unless': 1628, 'cared': 1629, 'kitchen': 1630, 'stars': 1631, 'quote': 1632, 'shop': 1633, 'announced': 1634, 'safety': 1635, 'continued': 1636, 'forgot': 1637, 'prefer': 1638, 'pop': 1639, 'failed': 1640, 'vibe': 1641, 'driving': 1642, 'author': 1643, 'crowd': 1644, 'building': 1645, 'mouth': 1646, 'bunch': 1647, 'helps': 1648, 'stayed': 1649, 'fast': 1650, 'matters': 1651, 'becomes': 1652, 'diet': 1653, 'mental': 1654, 'values': 1655, 'dreaming': 1656, 'north': 1657, 'gratitude': 1658, 'average': 1659, 'responsibilities': 1660, 'babies': 1661, 'research': 1662, 'flight': 1663, 'leg': 1664, 'site': 1665, 'suffer': 1666, 'interesting': 1667, 'button': 1668, 'hopefully': 1669, 'somebody': 1670, 'flowers': 1671, 'shopping': 1672, 'achieve': 1673, 'hearts': 1674, 'cards': 1675, 'brown': 1676, 'sunshine': 1677, 'hiding': 1678, 'signed': 1679, 'isn': 1680, 'plus': 1681, 'key': 1682, 'count': 1683, 'therefore': 1684, 'obviously': 1685, 'hadn’t': 1686, 'slutty': 1687, 'resigned': 1688, 'alarmed': 1689, 'wasted': 1690, 'helped': 1691, 'study': 1692, 'album': 1693, 'novel': 1694, 'form': 1695, 'constant': 1696, 'vision': 1697, 'cross': 1698, 'luck': 1699, 'wave': 1700, 'provide': 1701, 'service': 1702, 'accomplished': 1703, 'market': 1704, 'lit': 1705, 'student': 1706, 'returned': 1707, 'cover': 1708, 'neglectful': 1709, 'walls': 1710, 'cried': 1711, 'games': 1712, 'fail': 1713, 'eventually': 1714, 'range': 1715, 'numbers': 1716, 'brings': 1717, 'folks': 1718, 'lighter': 1719, 'hidden': 1720, 'land': 1721, 'listened': 1722, 'parent': 1723, 'co': 1724, 'scene': 1725, 'details': 1726, 'meal': 1727, 'keys': 1728, 'taste': 1729, 'language': 1730, 'opinions': 1731, 'caused': 1732, 'burden': 1733, 'convince': 1734, 'actual': 1735, 'products': 1736, 'dogs': 1737, 'bored': 1738, 'yours': 1739, 'action': 1740, 'gain': 1741, 'tea': 1742, 'vacation': 1743, 'it’s': 1744, 'wouldn': 1745, 'blah': 1746, 'term': 1747, 'easier': 1748, 'planning': 1749, 'medicine': 1750, 'thinks': 1751, 'bike': 1752, 'presented': 1753, 'awareness': 1754, 'thrown': 1755, 'shaking': 1756, 'sexual': 1757, 'bother': 1758, 'topic': 1759, 'highly': 1760, 'experiencing': 1761, 'conversations': 1762, 'statement': 1763, 'allowing': 1764, 'blue': 1765, 'dismayed': 1766, 'scent': 1767, 'hill': 1768, 'cousin': 1769, 'hospital': 1770, 'potential': 1771, 'hungry': 1772, 'manner': 1773, 'grew': 1774, 'sociable': 1775, 'spiteful': 1776, 'admire': 1777, 'mothers': 1778, 'acceptance': 1779, 'married': 1780, 'challenges': 1781, 'artist': 1782, 'magical': 1783, 'beach': 1784, 'contract': 1785, 'greatest': 1786, 'design': 1787, 'companies': 1788, 'scream': 1789, 'jolly': 1790, 'spoke': 1791, 'studying': 1792, 'familiar': 1793, 'calls': 1794, 'grown': 1795, 'lay': 1796, 'slow': 1797, 'pushing': 1798, 'appalled': 1799, 'dancing': 1800, 'gifts': 1801, 'laughing': 1802, 'saturday': 1803, 'lifestyle': 1804, 'hopes': 1805, 'loud': 1806, 'save': 1807, 'unknown': 1808, 'moms': 1809, 'threw': 1810, 'repressed': 1811, 'chose': 1812, 'round': 1813, 'sudden': 1814, 'added': 1815, 'painting': 1816, 'thus': 1817, 'pushed': 1818, 'fell': 1819, 'typing': 1820, 'beneath': 1821, 'gut': 1822, 'otherwise': 1823, 'prepared': 1824, 'remain': 1825, 'workout': 1826, 'idiot': 1827, 'compare': 1828, 'winner': 1829, 'unworthy': 1830, 'headache': 1831, 'natural': 1832, 'shut': 1833, 'teenager': 1834, 'section': 1835, 'activities': 1836, 'bouncy': 1837, 'response': 1838, 'powerful': 1839, 'link': 1840, 'facing': 1841, 'craving': 1842, 'thin': 1843, 'doesn’t': 1844, 'annoying': 1845, 'r': 1846, 'interested': 1847, 'feed': 1848, 'lively': 1849, 'contact': 1850, 'energized': 1851, 'higher': 1852, 'intended': 1853, 'christian': 1854, 'younger': 1855, 'among': 1856, 'advice': 1857, 'opening': 1858, 'tells': 1859, 'patient': 1860, 'disappear': 1861, 'table': 1862, 'draw': 1863, 'winning': 1864, 'competition': 1865, 'flaws': 1866, 'professional': 1867, 'creativity': 1868, 'cheeks': 1869, 'local': 1870, 'bonus': 1871, 'grandmother': 1872, 'congratulations': 1873, 'literally': 1874, 'reminder': 1875, 'concerns': 1876, 'remembering': 1877, 'google': 1878, 'e': 1879, 'sentence': 1880, 'letters': 1881, 'enraged': 1882, 'university': 1883, 'monday': 1884, 'male': 1885, 'green': 1886, 'cheated': 1887, 'sake': 1888, 'apartment': 1889, 'goals': 1890, 'english': 1891, 'personality': 1892, 'struggled': 1893, 'scholarship': 1894, 'wrapped': 1895, 'likely': 1896, 'strangers': 1897, 'shame': 1898, 'speech': 1899, 'wound': 1900, 'gods': 1901, 'startled': 1902, 'spiritual': 1903, 'sorts': 1904, 'animals': 1905, 'capture': 1906, 'waves': 1907, 'forced': 1908, 'unwanted': 1909, 'socially': 1910, 'parts': 1911, 'example': 1912, 'whilst': 1913, 'picked': 1914, 'reply': 1915, 'speechless': 1916, 'urge': 1917, 'gym': 1918, 'attack': 1919, 'achieved': 1920, 'x': 1921, 'ocean': 1922, 'artists': 1923, 'showed': 1924, 'atmosphere': 1925, 'judged': 1926, 'applied': 1927, 'restaurant': 1928, 'wishing': 1929, 'target': 1930, 'explaining': 1931, 'degree': 1932, 'professor': 1933, 'unique': 1934, 'stronger': 1935, 'surgery': 1936, 'card': 1937, 'till': 1938, 'acting': 1939, 'train': 1940, 'joke': 1941, 'cleaning': 1942, 'th': 1943, 'bigger': 1944, 'trees': 1945, 'cancer': 1946, 'connect': 1947, 'hadnt': 1948, 'leader': 1949, 'aside': 1950, 'account': 1951, 'core': 1952, 'million': 1953, 'conscious': 1954, 'practice': 1955, 'wednesday': 1956, 'yoga': 1957, 'spine': 1958, 'coat': 1959, 'discussing': 1960, 'maintain': 1961, 'remove': 1962, 'submitted': 1963, 'morose': 1964, 'celebrate': 1965, 'baptized': 1966, 'failing': 1967, 'cos': 1968, 'poor': 1969, 'couch': 1970, 'rhythm': 1971, 'london': 1972, 'abandoned': 1973, 'connections': 1974, 'basis': 1975, 'poetry': 1976, 'intensely': 1977, 'habits': 1978, 'lessons': 1979, 'breaking': 1980, 'wedding': 1981, 'shoulders': 1982, 'responsible': 1983, 'pattern': 1984, 'responsibility': 1985, 'club': 1986, 'habit': 1987, 'protect': 1988, 'incredible': 1989, 'common': 1990, 'secret': 1991, 'vicious': 1992, 'screaming': 1993, 'lunch': 1994, 'desperate': 1995, 'dads': 1996, 'quit': 1997, 'agree': 1998, 'foot': 1999, 'partly': 2000, 'thanksgiving': 2001, 'aspects': 2002, 'twitter': 2003, 'steve': 2004, 'similar': 2005, 'plain': 2006, 'roll': 2007, 'breakfast': 2008, 'areas': 2009, 'american': 2010, 'quality': 2011, 'truthful': 2012, 'bashful': 2013, 'granted': 2014, 'image': 2015, 'wine': 2016, 'sea': 2017, 'neck': 2018, 'nights': 2019, 'motivated': 2020, 'refuse': 2021, 'films': 2022, 'bird': 2023, 'ending': 2024, 'garden': 2025, 'motion': 2026, 'treatment': 2027, 'fearless': 2028, 'lying': 2029, 'sweetest': 2030, 'sunset': 2031, 'rarely': 2032, 'likes': 2033, 'mistakes': 2034, 'adding': 2035, 'radio': 2036, 'workers': 2037, 'sheer': 2038, 'crowded': 2039, 'charming': 2040, 'elder': 2041, 'thanked': 2042, 'mountain': 2043, 'providing': 2044, 'christ': 2045, 'pool': 2046, 'gotta': 2047, 'display': 2048, 'majority': 2049, 'heavy': 2050, 'master': 2051, 'paying': 2052, 'judge': 2053, 'imagined': 2054, 'education': 2055, 'arrived': 2056, 'ludicrous': 2057, 'p': 2058, 'jump': 2059, 'political': 2060, 'goal': 2061, 'benefit': 2062, 'match': 2063, 'throat': 2064, 'sympathy': 2065, 'showing': 2066, 'duty': 2067, 'plot': 2068, 'necessary': 2069, 'semester': 2070, 'fair': 2071, 'solution': 2072, 'finger': 2073, 'lesson': 2074, 'york': 2075, 'disappointment': 2076, 'drinking': 2077, 'greater': 2078, 'tasks': 2079, 'teach': 2080, 'drinks': 2081, 'spoken': 2082, 'sorrow': 2083, 'admitting': 2084, 'freaking': 2085, 'haha': 2086, 'possibility': 2087, 'deodorant': 2088, 'smiled': 2089, 'dislike': 2090, 'tour': 2091, 'holds': 2092, 'followed': 2093, 'meat': 2094, 'build': 2095, 'papers': 2096, 'pulled': 2097, 'victimized': 2098, 'lady': 2099, 'development': 2100, 'sweat': 2101, 'compassion': 2102, 'bringing': 2103, 'recent': 2104, 'pages': 2105, 'silently': 2106, 'peoples': 2107, 'town': 2108, 'vote': 2109, 'feeding': 2110, 'breathing': 2111, 'dealing': 2112, 'marriage': 2113, 'kill': 2114, 'desires': 2115, 'government': 2116, 'la': 2117, 'succeed': 2118, 'inspiration': 2119, 'fan': 2120, 'ur': 2121, 'dare': 2122, 'shape': 2123, 'rise': 2124, 'faces': 2125, 'tear': 2126, 'mr': 2127, 'welcome': 2128, 'record': 2129, 'violence': 2130, 'confess': 2131, 'faster': 2132, 'fab': 2133, 'freak': 2134, 'favor': 2135, 'worries': 2136, 'specific': 2137, 'repeat': 2138, 'focused': 2139, 'chair': 2140, 'friendships': 2141, 'financial': 2142, 'believed': 2143, 'nicely': 2144, 'graceful': 2145, 'pair': 2146, 'scored': 2147, 'classroom': 2148, 'function': 2149, 'hasnt': 2150, 'pics': 2151, 'bet': 2152, 'fashion': 2153, 'cake': 2154, 'glasses': 2155, 'period': 2156, 'fellow': 2157, 'female': 2158, 'cuz': 2159, 'block': 2160, 'cheer': 2161, 'relax': 2162, 'suck': 2163, 'fate': 2164, 'closer': 2165, 'searching': 2166, 'lbs': 2167, 'fortunate': 2168, 'alot': 2169, 'attracted': 2170, 'hitting': 2171, 'beating': 2172, 'extended': 2173, 'bloggers': 2174, 'manage': 2175, 'settled': 2176, 'overlook': 2177, 'report': 2178, 'magic': 2179, 'whoever': 2180, 'rang': 2181, 'waited': 2182, 'dollars': 2183, 'coz': 2184, 'bright': 2185, 'tight': 2186, 'occasionally': 2187, 'rock': 2188, 'sand': 2189, 'exciting': 2190, 'acts': 2191, 'security': 2192, 'lifetime': 2193, 'passion': 2194, 'gained': 2195, 'trapped': 2196, 'goodbye': 2197, 'invitation': 2198, 'fragrance': 2199, 'willing': 2200, 'recommend': 2201, 'discussions': 2202, 'dreamed': 2203, 'related': 2204, 'staring': 2205, 'worthy': 2206, 'grades': 2207, 'enter': 2208, 'bag': 2209, 'effect': 2210, 'lacking': 2211, 'library': 2212, 'pen': 2213, 'catholic': 2214, 'band': 2215, 'brighter': 2216, 'ex': 2217, 'lashes': 2218, 'apply': 2219, 'nauseous': 2220, 'send': 2221, 'shoulder': 2222, 'journal': 2223, 'bath': 2224, 'third': 2225, 'flawless': 2226, 'raise': 2227, 'develop': 2228, 'pregnancy': 2229, 'dread': 2230, 'directly': 2231, 'complaining': 2232, 'awfully': 2233, 'sign': 2234, 'birth': 2235, 'boost': 2236, 'price': 2237, 'dating': 2238, 'petrified': 2239, 'hah': 2240, 'twenty': 2241, 'snow': 2242, 'mild': 2243, 'fever': 2244, 'whos': 2245, 'relate': 2246, 'ya': 2247, 'honor': 2248, 'plane': 2249, 'f': 2250, 'minds': 2251, 'states': 2252, 'drama': 2253, 'rushing': 2254, 'chicken': 2255, 'shower': 2256, 'breast': 2257, 'hang': 2258, 'tongue': 2259, 'shows': 2260, 'meaningful': 2261, 'pleasure': 2262, 'sight': 2263, 'serve': 2264, 'respond': 2265, 'learnt': 2266, 'empathetic': 2267, 'sorta': 2268, 'breathtaking': 2269, 'cars': 2270, 'yard': 2271, 'swear': 2272, 'mum': 2273, 'fits': 2274, 'ear': 2275, 'born': 2276, 'expressing': 2277, 'jealousy': 2278, 'wide': 2279, 'kicks': 2280, 'secretly': 2281, 'café': 2282, 'ambulance': 2283, 'yell': 2284, 'spider': 2285, 'circle': 2286, 'plans': 2287, 'nap': 2288, 'lil': 2289, 'walks': 2290, 'significant': 2291, 'answers': 2292, 'copy': 2293, 'sink': 2294, 'exams': 2295, 'connected': 2296, 'despised': 2297, 'attending': 2298, 'spite': 2299, 'exposed': 2300, 'expensive': 2301, 'spring': 2302, 'invest': 2303, 'secure': 2304, 'nostalgia': 2305, 'mommy': 2306, 'uk': 2307, 'st': 2308, 'irritation': 2309, 'interests': 2310, 'george': 2311, 'w': 2312, 'intensity': 2313, 'struggles': 2314, 'unnecessary': 2315, 'chances': 2316, 'refreshing': 2317, 'blanket': 2318, 'eight': 2319, 'groups': 2320, 'flat': 2321, 'individual': 2322, 'planet': 2323, 'humans': 2324, 'warning': 2325, 'complimented': 2326, 'talks': 2327, 'cook': 2328, 'ridiculous': 2329, 'revealed': 2330, 'shift': 2331, 'creature': 2332, 'stick': 2333, 'moon': 2334, 'signing': 2335, 'panic': 2336, 'football': 2337, 'rate': 2338, 'inner': 2339, 'wondered': 2340, 'blogger': 2341, 'powerless': 2342, 'awhile': 2343, 'sigh': 2344, 'marathon': 2345, 'o': 2346, 'religious': 2347, 'handed': 2348, 'poem': 2349, 'writer': 2350, 'join': 2351, 'role': 2352, 'longed': 2353, 'behavior': 2354, 'nasty': 2355, 'wet': 2356, 'assume': 2357, 'hardly': 2358, 'glass': 2359, 'afford': 2360, 'lied': 2361, 'aunt': 2362, 'player': 2363, 'blame': 2364, 'outfit': 2365, 'biggest': 2366, 'continues': 2367, 'unsuccessful': 2368, 'subjects': 2369, 'families': 2370, 'photography': 2371, 'unforgettable': 2372, 'courage': 2373, 'slept': 2374, 'sensation': 2375, 'gay': 2376, 'ten': 2377, 'prepare': 2378, 'impossible': 2379, 'i’ll': 2380, 'concentrate': 2381, 'crashing': 2382, 'verses': 2383, 'illness': 2384, 'website': 2385, 'acted': 2386, 'surface': 2387, 'major': 2388, 'runs': 2389, 'schedule': 2390, 'everywhere': 2391, 'sell': 2392, 'headed': 2393, 'lock': 2394, 'tension': 2395, 'battle': 2396, 'butterflies': 2397, 'visited': 2398, 'shot': 2399, 'insecurities': 2400, 'puts': 2401, 'guide': 2402, 'offensive': 2403, 'stepped': 2404, 'tool': 2405, 'fruits': 2406, 'importance': 2407, 'abilities': 2408, 'someone’s': 2409, 'awe': 2410, 'combined': 2411, 'credit': 2412, 'financially': 2413, 'teaching': 2414, 'laying': 2415, 'discuss': 2416, 'mike': 2417, 'pre': 2418, 'mix': 2419, 'log': 2420, 'mask': 2421, 'youd': 2422, 'closet': 2423, \"don't\": 2424, 'finishing': 2425, 'hurting': 2426, 'belly': 2427, 'raising': 2428, 'mass': 2429, 'recipe': 2430, 'bones': 2431, 'dizzy': 2432, 'cycle': 2433, 'latest': 2434, 'sexy': 2435, 'prove': 2436, 'stack': 2437, 'antsy': 2438, 'status': 2439, 'participate': 2440, 'condition': 2441, 'produce': 2442, 'string': 2443, 'plant': 2444, 'uncle': 2445, 'opposite': 2446, 'begun': 2447, 'president': 2448, 'pains': 2449, 'sharp': 2450, 'grasp': 2451, 'squeeze': 2452, 'insane': 2453, 'bread': 2454, 'conference': 2455, 'inspiring': 2456, 'communicate': 2457, 'worker': 2458, 'oil': 2459, 'mixture': 2460, 'immensely': 2461, 'hop': 2462, 'bags': 2463, 'gifted': 2464, 'sides': 2465, 'grief': 2466, 'expressed': 2467, 'lightly': 2468, 'pressing': 2469, 'companion': 2470, 'reminds': 2471, 'grass': 2472, 'believing': 2473, 'rising': 2474, 'intense': 2475, 'wishes': 2476, 'neighborhood': 2477, 'messages': 2478, 'uncertainty': 2479, 'elderly': 2480, 'marie': 2481, 'makeup': 2482, 'reflect': 2483, 'complain': 2484, 'exact': 2485, 'release': 2486, 'definition': 2487, 'ppl': 2488, 'cough': 2489, 'circumstances': 2490, 'swim': 2491, 'woken': 2492, 'seemingly': 2493, 'obvious': 2494, 'wisdom': 2495, 'races': 2496, 'contrast': 2497, 'zone': 2498, 'feature': 2499, 'absolute': 2500, 'ridiculously': 2501, 'customers': 2502, 'message—': 2503, 'homes': 2504, 'patients': 2505, 'seasons': 2506, 'changing': 2507, 'clothing': 2508, 'structure': 2509, 'industry': 2510, 'laundry': 2511, 'strategy': 2512, 'inbox': 2513, 'was—my': 2514, 'desk': 2515, 'colleagues': 2516, 'pm': 2517, 'encourage': 2518, 'presentation': 2519, 'episodes': 2520, 'damage': 2521, 'feelin': 2522, 'british': 2523, 'teachers': 2524, 'leaders': 2525, 'led': 2526, 'pursue': 2527, 'writers': 2528, 'nose': 2529, 'zero': 2530, 'wonderfully': 2531, 'richness': 2532, 'liking': 2533, 'mentor': 2534, 'rapidly': 2535, 'blonde': 2536, 'adult': 2537, 'row': 2538, 'assistance': 2539, 'rid': 2540, 'killed': 2541, 'pure': 2542, 'bastard': 2543, 'drugs': 2544, 'centered': 2545, 'defend': 2546, 'closing': 2547, 'field': 2548, 'conclusion': 2549, 'overload': 2550, 'sucks': 2551, 'dealership': 2552, 'bare': 2553, 'clock': 2554, 'doctors': 2555, 'mission': 2556, 'tummy': 2557, 'predictable': 2558, 'worrying': 2559, 'award': 2560, 'reflection': 2561, 'whisper': 2562, 'puppy': 2563, 'breeze': 2564, 'captured': 2565, 'guests': 2566, 'concern': 2567, 'press': 2568, 'gear': 2569, 'motivation': 2570, 'equal': 2571, 'gas': 2572, 'charmed': 2573, 'carrying': 2574, 'darkness': 2575, 'saddened': 2576, 'dunno': 2577, 'chasing': 2578, 'curl': 2579, 'raised': 2580, 'breaths': 2581, 'entry': 2582, 'whose': 2583, 'killing': 2584, 'deeper': 2585, 'wouldn’t': 2586, 'stepping': 2587, 'law': 2588, 'intention': 2589, 'contest': 2590, 'ears': 2591, 'peers': 2592, 'vile': 2593, 'frustration': 2594, 'blessing': 2595, 'plate': 2596, 'conservative': 2597, 'publishing': 2598, 'thoroughly': 2599, 'contain': 2600, 'levels': 2601, 'previously': 2602, 'active': 2603, 'endless': 2604, 'accidentally': 2605, 'height': 2606, 'answered': 2607, 'amorous': 2608, 'deserves': 2609, 'camera': 2610, 'washing': 2611, 'disrespected': 2612, 'fabric': 2613, 'logic': 2614, 'contribute': 2615, 'drawing': 2616, 'experiment': 2617, 'comforted': 2618, '“i': 2619, 'noise': 2620, 'options': 2621, 'protected': 2622, 'bedroom': 2623, 'weaknesses': 2624, 'grey': 2625, 'below': 2626, 'airport': 2627, 'touches': 2628, 'lenses': 2629, 'discover': 2630, 'overwhelming': 2631, 'benjamin': 2632, 'fearing': 2633, 'sin': 2634, 'seat': 2635, 'initial': 2636, 'proper': 2637, 'per': 2638, 'answering': 2639, 'obsession': 2640, 'unkind': 2641, 'exhausting': 2642, 'shiver': 2643, 'understood': 2644, 'saving': 2645, 'wise': 2646, 'advantage': 2647, 'font': 2648, 'improve': 2649, 'feedback': 2650, 'reconnect': 2651, 'boundaries': 2652, 'bottom': 2653, 'scary': 2654, 'opinion': 2655, 'paintings': 2656, 'mini': 2657, 'army': 2658, 'won’t': 2659, 'differently': 2660, 'hadn': 2661, 'friendship': 2662, 'teeth': 2663, 'pastor': 2664, 'taught': 2665, 'eaten': 2666, 'identity': 2667, 'reference': 2668, 'boots': 2669, 'growth': 2670, 'ton': 2671, 'cyber': 2672, 'creep': 2673, 'selected': 2674, 'ages': 2675, 'california': 2676, 'youll': 2677, 'dialog': 2678, 'sandwich': 2679, 'toes': 2680, 'peter': 2681, 'limit': 2682, 'humbled': 2683, 'darling': 2684, 'heck': 2685, 'clouds': 2686, 'lies': 2687, 'carry': 2688, 'reaching': 2689, 'accepting': 2690, 'reveal': 2691, 'tense': 2692, 'pulling': 2693, 'staff': 2694, 'loser': 2695, 'he’s': 2696, 'frequently': 2697, 'sewing': 2698, 'names': 2699, 'nicer': 2700, 'fiction': 2701, 'leading': 2702, 'savage': 2703, 'birds': 2704, 'unexpectedly': 2705, 'context': 2706, 'solid': 2707, 'era': 2708, 'tip': 2709, 'stared': 2710, 'mattered': 2711, 'misunderstood': 2712, 'youngest': 2713, 'daughters': 2714, 'utter': 2715, 'encountered': 2716, 'patience': 2717, 'pour': 2718, 'code': 2719, 'lines': 2720, 'repeatedly': 2721, 'existed': 2722, 'closure': 2723, 'musical': 2724, 'uses': 2725, 'url': 2726, 'cheap': 2727, 'regardless': 2728, 'steps': 2729, 'wasting': 2730, 'causing': 2731, 'crawl': 2732, 'bothering': 2733, 'purchase': 2734, 'skip': 2735, 'guitar': 2736, 'symptoms': 2737, 'ring': 2738, 'suspect': 2739, 'blessings': 2740, 'demanding': 2741, 'images': 2742, 'hunger': 2743, 'outsider': 2744, 'humorous': 2745, 'ad': 2746, 'irate': 2747, 'oddly': 2748, 'golden': 2749, 'include': 2750, 'approval': 2751, 'snack': 2752, 'various': 2753, 'naturally': 2754, 'impressions': 2755, 'altogether': 2756, 'psychotic': 2757, 'sexually': 2758, 'glimpse': 2759, 'saved': 2760, 'chill': 2761, 'apologize': 2762, 'deserted': 2763, 'nail': 2764, 'numerous': 2765, 'items': 2766, 'prayer': 2767, 'jobs': 2768, 'bear': 2769, 'spaces': 2770, 'cringe': 2771, 'techniques': 2772, 'mirror': 2773, 'blow': 2774, 'giggly': 2775, 'curled': 2776, 'washed': 2777, 'theyd': 2778, 'holy': 2779, 'appearance': 2780, 'forgetting': 2781, 'tools': 2782, 'whispered': 2783, 'lover': 2784, 'bitterly': 2785, 'towel': 2786, 'smooth': 2787, 'perfume': 2788, 'snobbish': 2789, 'ladies': 2790, 'millions': 2791, 'kuya': 2792, 'heartbeat': 2793, 'ought': 2794, 'cost': 2795, 'sending': 2796, 'classic': 2797, 'kinds': 2798, 'cope': 2799, 'covered': 2800, 'emptiness': 2801, 'moves': 2802, 'flash': 2803, 'twice': 2804, 'entries': 2805, 'hat': 2806, 'standards': 2807, 'imposed': 2808, 'rainbow': 2809, 'dr': 2810, 'gestures': 2811, 'hers': 2812, 'storm': 2813, 'positions': 2814, 'traditional': 2815, 'humor': 2816, 'earthquake': 2817, 'worn': 2818, 'headaches': 2819, 'cleaned': 2820, 'specifically': 2821, 'attacks': 2822, 'nightmares': 2823, 'benevolent': 2824, 'grocery': 2825, 'expression': 2826, 'examples': 2827, 'december': 2828, 'unprotected': 2829, 'truths': 2830, 'china': 2831, 'roommate': 2832, 'consequences': 2833, 'inviting': 2834, 'tech': 2835, 'setting': 2836, 'tube': 2837, 'grabbing': 2838, 'mile': 2839, 'realised': 2840, 'david': 2841, 'hired': 2842, 'adjust': 2843, 'stumbled': 2844, 'endure': 2845, 'offering': 2846, 'pained': 2847, 'surely': 2848, 'unusual': 2849, 'melody': 2850, 'ball': 2851, 'reunited': 2852, 'therapy': 2853, 'dig': 2854, 'waste': 2855, 'neatly': 2856, 'tied': 2857, 'exist': 2858, 'prevent': 2859, 'ends': 2860, 'curiosity': 2861, 'congratulating': 2862, 'star': 2863, 'international': 2864, 'cherished': 2865, 'quick': 2866, 'afterward': 2867, 'engage': 2868, 'youve': 2869, 'difficulty': 2870, 'obligated': 2871, 'greed': 2872, 'hence': 2873, 'goods': 2874, 'dump': 2875, 'foundation': 2876, 'discussion': 2877, 'avoiding': 2878, 'favourite': 2879, 'shock': 2880, 'supported': 2881, 'needle': 2882, 'performances': 2883, 'loki': 2884, 'sport': 2885, 'harry': 2886, 'packing': 2887, 'depths': 2888, 'fitness': 2889, 'jumped': 2890, 'critical': 2891, 'amazingly': 2892, 'religion': 2893, 'base': 2894, 'tiger': 2895, 'satisfaction': 2896, 'double': 2897, 'educated': 2898, 'dishes': 2899, 'singapore': 2900, 'designers': 2901, 'jewelry': 2902, 'fire': 2903, 'pounds': 2904, 'grabbed': 2905, 'homely': 2906, 'bathroom': 2907, 'rule': 2908, 'gt': 2909, 'loads': 2910, 'passes': 2911, 'bits': 2912, 'housewife': 2913, 'you”': 2914, 'singing': 2915, 'outcome': 2916, 'bi': 2917, 'district': 2918, 'info': 2919, 'including': 2920, 'sinking': 2921, 'bitten': 2922, 'everytime': 2923, 'session': 2924, 'kicked': 2925, 'replaced': 2926, 'outgoing': 2927, 'minor': 2928, 'angel': 2929, 'disgusting': 2930, 'jurer': 2931, 'constructions': 2932, 'largely': 2933, 'option': 2934, 'reacting': 2935, 'blush': 2936, 'snob': 2937, 'existance': 2938, 'asks': 2939, 'splendid': 2940, 'aren': 2941, 'speed': 2942, 'coworkers': 2943, 'private': 2944, 'elses': 2945, 'dessert': 2946, 'track': 2947, 'teen': 2948, 'terror': 2949, 'nurse': 2950, 'article': 2951, 'foggy': 2952, 'imagining': 2953, 'grounded': 2954, 'packed': 2955, 'weakness': 2956, 'wore': 2957, 'regards': 2958, 'someones': 2959, 'guessing': 2960, 'update': 2961, 'bar': 2962, 'extraordinary': 2963, 'witness': 2964, 'px': 2965, 'scenes': 2966, 'strengths': 2967, 'prayed': 2968, 'value': 2969, 'stare': 2970, 'lend': 2971, 'guts': 2972, 'terrifying': 2973, 'appointment': 2974, 'grandfather': 2975, 'plenty': 2976, 'haunt': 2977, 'causes': 2978, 'obligation': 2979, 'dismissed': 2980, 'homework': 2981, 'appeared': 2982, 'april': 2983, 'benefits': 2984, 'member': 2985, 'shirt': 2986, 'item': 2987, 'awards': 2988, 'depending': 2989, 'jason': 2990, 'original': 2991, 'cast': 2992, 'floor': 2993, 'pity': 2994, 'injury': 2995, 'raw': 2996, 'indeed': 2997, 'global': 2998, 'disaster': 2999, 'dreamy': 3000, 'compliments': 3001, 'we’d': 3002, 'everybody': 3003, 'temperature': 3004, 'understands': 3005, 'revenge': 3006, 'essence': 3007, 'substance': 3008, 'feminist': 3009, 'painful': 3010, 'scorers': 3011, 'freedoms': 3012, 'hole': 3013, 'stares': 3014, 'aches': 3015, 'unfairly': 3016, 'we’re': 3017, 'unmotivated': 3018, 'almond': 3019, 'milk': 3020, 'capacity': 3021, 'handled': 3022, 'machine': 3023, 'drawn': 3024, 'pretending': 3025, 'wild': 3026, 'center': 3027, 'ghosts': 3028, 'resentment': 3029, 'depth': 3030, 'harmful': 3031, 'access': 3032, 'falls': 3033, 'category': 3034, 'neutral': 3035, 'uneasy': 3036, 'inevitably': 3037, 'surround': 3038, 'depends': 3039, 'slip': 3040, 'spirits': 3041, 'beg': 3042, 'hardest': 3043, 'happily': 3044, 'bond': 3045, 'rely': 3046, 'nails': 3047, 'fallen': 3048, 'slight': 3049, 'movements': 3050, 'cafe': 3051, 'stressful': 3052, 'disliked': 3053, 'paternal': 3054, 'you’ve': 3055, 'emails': 3056, 'scott': 3057, 'fade': 3058, 'deny': 3059, 'typed': 3060, 'practically': 3061, 'chills': 3062, 'aggressive': 3063, 'touching': 3064, 'inability': 3065, 'impacted': 3066, 'gently': 3067, 'hum': 3068, 'ordered': 3069, 'bracelet': 3070, 'hero': 3071, 'sorrowful': 3072, 'affected': 3073, 'aid': 3074, 'accomplishing': 3075, 'she’s': 3076, 'curtains': 3077, 'gel': 3078, 'disoriented': 3079, 'heal': 3080, 'bottle': 3081, 'caffeine': 3082, 'responded': 3083, 'listed': 3084, 'nursing': 3085, 'pang': 3086, 'excellent': 3087, 'overcome': 3088, 'campaign': 3089, 'bodies': 3090, 'reserved': 3091, 'contractions': 3092, 'rubbish': 3093, 'attempting': 3094, 'bore': 3095, 'wood': 3096, 'actively': 3097, 'philosophy': 3098, 'cash': 3099, 'allows': 3100, 'countries': 3101, 'sooo': 3102, 'soo': 3103, 'boyfriends': 3104, 'spin': 3105, 'sundays': 3106, 'soooo': 3107, 'management': 3108, 'choke': 3109, 'addition': 3110, 'zealand': 3111, 'hundred': 3112, 'refreshed': 3113, 'wrestling': 3114, 'moody': 3115, 'upcoming': 3116, 'swimming': 3117, 'happier': 3118, 'wars': 3119, 'rolled': 3120, 'hopelessness': 3121, 'visual': 3122, 'aint': 3123, 'helpful': 3124, 'cloudy': 3125, 'snake': 3126, 'strutting': 3127, 'burnt': 3128, 'worlds': 3129, 'smiles': 3130, 'explanation': 3131, 'expense': 3132, 'juice': 3133, 'apparently': 3134, 'increase': 3135, 'temperatures': 3136, 'speaks': 3137, 'investing': 3138, 'spread': 3139, 'amongst': 3140, 'lurking': 3141, 'cutting': 3142, 'impression': 3143, 'twin': 3144, 'hint': 3145, 'switch': 3146, 'butt': 3147, 'television': 3148, 'browse': 3149, 'ah': 3150, 'giant': 3151, 'floating': 3152, 'stranger’s': 3153, 'foreign': 3154, 'tuesday': 3155, 'laid': 3156, 'realization': 3157, 'tossing': 3158, 'traffic': 3159, 'begins': 3160, 'lounge': 3161, 'belonged': 3162, 'vaguely': 3163, 'chaos': 3164, 'stable': 3165, 'academic': 3166, 'em': 3167, 'vegan': 3168, 'phase': 3169, 'similarly': 3170, 'conflicted': 3171, 'medical': 3172, 'dropped': 3173, 'scale': 3174, 'abroad': 3175, 'protein': 3176, 'stellar': 3177, 'freaked': 3178, 'flow': 3179, 'former': 3180, 'wow': 3181, 'vet': 3182, 'pace': 3183, 'larger': 3184, 'network': 3185, 'systems': 3186, 'hating': 3187, 'stumped': 3188, 'taylor': 3189, 'century': 3190, 'recruiter': 3191, 'https': 3192, 'burn': 3193, 'mailbox': 3194, 'limited': 3195, 'risk': 3196, 'nofollow': 3197, 'tightly': 3198, 'seek': 3199, 'stroke': 3200, 'bewildered': 3201, 'throbbing': 3202, 'loose': 3203, 'material': 3204, 'questioning': 3205, 'outstanding': 3206, 'pound': 3207, 'temple': 3208, 'attached': 3209, 'relatives': 3210, 'gender': 3211, 'thousand': 3212, 'forth': 3213, 'typically': 3214, 'suggestions': 3215, 'extraordinarily': 3216, 'sacrifice': 3217, 'enjoyable': 3218, 'customer': 3219, 'easiest': 3220, 'pie': 3221, 'sleepless': 3222, 'crossed': 3223, 'stores': 3224, 'shops': 3225, 'suffered': 3226, 'unit': 3227, 'driven': 3228, 'force': 3229, 'tug': 3230, 'movement': 3231, 'yearn': 3232, 'remarks': 3233, 'deals': 3234, 'conflict': 3235, 'rules': 3236, 'japanese': 3237, 'finds': 3238, 'usa': 3239, 'waits': 3240, 'jumping': 3241, 'jubilant': 3242, 'babysit': 3243, 'chemo': 3244, 'bookstore': 3245, 'affects': 3246, 'smoke': 3247, 'risks': 3248, 'fool': 3249, 'kisses': 3250, 'mixed': 3251, 'island': 3252, 'upside': 3253, 'twist': 3254, 'ultimate': 3255, 'romance': 3256, 'tips': 3257, 'mode': 3258, 'matt': 3259, 'anime': 3260, 'war': 3261, 'discovering': 3262, 'choosing': 3263, 'modern': 3264, 'informed': 3265, 'seconds': 3266, 'task': 3267, 'visiting': 3268, 'praise': 3269, 'resent': 3270, 'arrive': 3271, 'fragile': 3272, 'tempted': 3273, 'parenting': 3274, 'rice': 3275, 'offers': 3276, 'chinese': 3277, 'ness': 3278, 'motors': 3279, 'trauma': 3280, 'mercy': 3281, 'measure': 3282, 'greatness': 3283, 'lower': 3284, 'focusing': 3285, 'beliefs': 3286, 'hangs': 3287, 'supply': 3288, 'decent': 3289, 'veins': 3290, 'sticking': 3291, 'property': 3292, 'lee': 3293, 'lettuce': 3294, 'capable': 3295, 'transferred': 3296, 'anticipation': 3297, 'boil': 3298, 'shout': 3299, 'bands': 3300, 'happiest': 3301, 'consistently': 3302, 'achievers': 3303, 'alright': 3304, 'belonging': 3305, 'obtain': 3306, 'trouble': 3307, 'source': 3308, 'rare': 3309, 'billy': 3310, 'killer': 3311, 'distant': 3312, 'define': 3313, 'genre': 3314, 'print': 3315, 'toilet': 3316, 'amish': 3317, 'transition': 3318, 'forgets': 3319, 'fulfill': 3320, 'educational': 3321, 'tranquil': 3322, 'y': 3323, 'spark': 3324, 'hatred': 3325, 'childish': 3326, 'hubby': 3327, 'reactions': 3328, 'shots': 3329, 'wash': 3330, 'appear': 3331, 'hello': 3332, 'julie': 3333, 'presents': 3334, 'dying': 3335, 'korean': 3336, 'everyones': 3337, 'developed': 3338, 'sisters': 3339, 'masters': 3340, 'absence': 3341, 'lingers': 3342, 'achieving': 3343, 'charity': 3344, 'disadvantaged': 3345, 'talent': 3346, 'october': 3347, 'grows': 3348, 'paid': 3349, 'promise': 3350, 'demands': 3351, 'traitor': 3352, 'explained': 3353, 'opportunities': 3354, 'nutrition': 3355, 'lane': 3356, 'sh': 3357, 'organization': 3358, 'mainly': 3359, 'impending': 3360, 'misery': 3361, 'validation': 3362, 'smallest': 3363, 'subconscious': 3364, 'mantra': 3365, 'attend': 3366, 'stolen': 3367, 'adds': 3368, 'skinny': 3369, 'sees': 3370, 'dressed': 3371, 'porn': 3372, 'manager': 3373, 'cherish': 3374, 'thighs': 3375, 'calories': 3376, 'treasure': 3377, 'scroll': 3378, 'siren': 3379, 'director': 3380, 'decade': 3381, 'messed': 3382, 'soak': 3383, 'sooner': 3384, 'powder': 3385, 'disappointing': 3386, 'hardcore': 3387, 'paint': 3388, 'practical': 3389, 'fulfilling': 3390, 'moral': 3391, 'collar': 3392, 'vigorous': 3393, 'affair': 3394, 'werent': 3395, 'advertisements': 3396, 'fa': 3397, 'offered': 3398, 'graduation': 3399, 'recover': 3400, 'identify': 3401, 'tutor': 3402, 'circles': 3403, 'rights': 3404, 'kissing': 3405, 'foods': 3406, 'pasta': 3407, 'flashback': 3408, 'joining': 3409, 'lore': 3410, 'officially': 3411, 'welling': 3412, 'width': 3413, 'dramatic': 3414, 'wonders': 3415, 'available': 3416, 'legitimate': 3417, 'apology': 3418, 'infuriated': 3419, 'links': 3420, 'reputation': 3421, 'economic': 3422, 'basic': 3423, 'slut': 3424, 'craves': 3425, 'objects': 3426, 'farm': 3427, 'recording': 3428, 'accomplish': 3429, 'shallow': 3430, 'confusion': 3431, 'hits': 3432, 'healing': 3433, 'salary': 3434, 'uncaring': 3435, 'sofa': 3436, 'owe': 3437, 'castle': 3438, 'bat': 3439, 'formula': 3440, 'bite': 3441, 'app': 3442, 'maker': 3443, 'leeches': 3444, 'adapt': 3445, 'independent': 3446, 'portrayal': 3447, 'roof': 3448, 'extreme': 3449, 'justice': 3450, 'department': 3451, 'admitted': 3452, 'insist': 3453, 'doctor’s': 3454, 'voices': 3455, 'necessity': 3456, 'cheese': 3457, 'backs': 3458, 'strikes': 3459, 'belongs': 3460, 'depend': 3461, 'raphael': 3462, 'fish': 3463, 'gold': 3464, 'prone': 3465, 'strands': 3466, 'stock': 3467, 'considered': 3468, 'fog': 3469, 'sunrise': 3470, 'communication': 3471, 'fb': 3472, 'julia': 3473, 'junior': 3474, 'file': 3475, 'teary': 3476, 'australia': 3477, 'essentially': 3478, 'tracks': 3479, 'exposing': 3480, 'portrayed': 3481, 'thursday': 3482, 'loop': 3483, 'luckily': 3484, 'spanish': 3485, 'countless': 3486, 'italian': 3487, 'lists': 3488, 'booth': 3489, 'neglected': 3490, 'olds': 3491, 'delivery': 3492, 'throwing': 3493, 'drowning': 3494, 'crush': 3495, 'rex': 3496, 'isolation': 3497, 'idol': 3498, 'stillness': 3499, 'chat': 3500, 'embracing': 3501, 'faded': 3502, 'intentions': 3503, 'disagree': 3504, 'retrospect': 3505, 'articles': 3506, 'upper': 3507, 'progressing': 3508, 'dew': 3509, 'luxurious': 3510, 'ballet': 3511, 'doll': 3512, 'studio': 3513, 'contribution': 3514, 'reacted': 3515, 'handshake': 3516, 'committed': 3517, 'convoluted': 3518, 'village': 3519, 'cigarettes': 3520, 'fulfilled': 3521, 'meditating': 3522, 'warriors': 3523, 'videos': 3524, 'income': 3525, 'lush': 3526, 'refer': 3527, 'ideal': 3528, 'perceive': 3529, 'testimony': 3530, 'reduce': 3531, 'fuel': 3532, 'investment': 3533, 'regretting': 3534, 'landed': 3535, 'paris': 3536, 'pagetitle': 3537, 'unfair': 3538, 'wallet': 3539, 'mentality': 3540, 'g': 3541, 'heartfelt': 3542, 'handwritten': 3543, 'shell': 3544, 'trick': 3545, 'epic': 3546, 'crushing': 3547, 'sleepy': 3548, 'loyalty': 3549, 'unease': 3550, 'france': 3551, 'bleeding': 3552, 'heels': 3553, 'dreading': 3554, 'january': 3555, 'alex': 3556, 'collection': 3557, 'exes': 3558, 'extremley': 3559, 'complex': 3560, 'guild': 3561, 'ray': 3562, 'folk': 3563, 'straightforward': 3564, 'barry': 3565, 'hears': 3566, 'poisoned': 3567, 'cgi': 3568, 'frozen': 3569, 'lash': 3570, 'assist': 3571, 'nations': 3572, 'stiff': 3573, 'affect': 3574, 'excitment': 3575, 'select': 3576, 'directions': 3577, 'column': 3578, 'spare': 3579, 'cx': 3580, 'adams': 3581, 'chairs': 3582, 'evenings': 3583, 'obstacles': 3584, 'figuring': 3585, 'selling': 3586, 'nonsense': 3587, 'earn': 3588, 'dignity': 3589, 'profit': 3590, 'indulge': 3591, 'performing': 3592, 'baths': 3593, 'viewing': 3594, 'settling': 3595, 'pleasing': 3596, 'isn’t': 3597, 'catching': 3598, 'stubbornly': 3599, 'extension': 3600, 'bold': 3601, 'unfamiliar': 3602, 'shadows': 3603, 'lab': 3604, 'sons': 3605, 'bubble': 3606, 'enemy': 3607, 'wrap': 3608, 'thompson': 3609, 'fluff': 3610, 'sensory': 3611, 'disrespect': 3612, 'morally': 3613, 'indulgent': 3614, 'handing': 3615, 'swarming': 3616, 'landscape': 3617, 'proving': 3618, 'typical': 3619, 'possession': 3620, 'vertigo': 3621, 'alongside': 3622, 'tinge': 3623, 'regularly': 3624, 'rush': 3625, 'fighter': 3626, 'slightest': 3627, 'devastating': 3628, 'tsunami': 3629, 'stops': 3630, 'yall': 3631, 'drunk': 3632, 'rises': 3633, 'continuous': 3634, 'references': 3635, 'individuals': 3636, 'situated': 3637, 'impact': 3638, 'lifting': 3639, 'quietly': 3640, 'disappoint': 3641, 'figured': 3642, 'pants': 3643, 'gracias': 3644, 'por': 3645, 'todo': 3646, 'smelled': 3647, 'norm': 3648, 'percieve': 3649, 'assistant': 3650, 'dry': 3651, 'incident': 3652, 'concept': 3653, 'shook': 3654, 'rescue': 3655, 'inheritance': 3656, 'click': 3657, 'incapable': 3658, 'nd': 3659, 'baking': 3660, 'turkish': 3661, 'deadline': 3662, 'acknowledge': 3663, 'haze': 3664, 'notions': 3665, 'misfortunes': 3666, 'befall': 3667, 'warns': 3668, 'tribulation': 3669, 'stairs': 3670, 'vent': 3671, 'police': 3672, 'writes': 3673, 'shed': 3674, 'fireplace': 3675, 'ruined': 3676, 'miracles': 3677, 'misread': 3678, 'punch': 3679, 'lungs': 3680, 'sensations': 3681, 'meals': 3682, 'vividly': 3683, 'fierce': 3684, 'readings': 3685, 'youth': 3686, 'overwhelmingly': 3687, 'mindful': 3688, 'insignificant': 3689, 'hall': 3690, 'paths': 3691, 'er': 3692, 'grace': 3693, 'temper': 3694, 'pee': 3695, 'poo': 3696, 'intimacy': 3697, 'uncles': 3698, 'anti': 3699, 'bah': 3700, 'fairy': 3701, 'tale': 3702, 'intellect': 3703, 'youtube': 3704, 'resist': 3705, 'covering': 3706, 'clues': 3707, 'promises': 3708, 'science': 3709, 'distinct': 3710, 'dan': 3711, 'potentially': 3712, 'marketing': 3713, 'model': 3714, 'methods': 3715, 'drag': 3716, 'flesh': 3717, 'specially': 3718, 'compress': 3719, 'nation': 3720, 'foul': 3721, 'virginia': 3722, 'steal': 3723, 'disturb': 3724, 'dissolve': 3725, 'creating': 3726, 'barrier': 3727, 'nine': 3728, 'unseen': 3729, 'ed': 3730, 'ml': 3731, 'slipping': 3732, 'sweaty': 3733, 'trail': 3734, 'notion': 3735, 'moods': 3736, 'patch': 3737, 'wherever': 3738, 'photograph': 3739, 'meds': 3740, 'goddamn': 3741, 'netflix': 3742, 'stopping': 3743, 'mentioning': 3744, 'simultaneously': 3745, 'butterfly': 3746, 'nemo': 3747, 'weigh': 3748, 'grill': 3749, 'obama': 3750, 'bookstores': 3751, 'travelling': 3752, 'journeys': 3753, 'deceased': 3754, 'comforting': 3755, 'burst': 3756, 'blur': 3757, 'brew': 3758, 'pussy': 3759, 'naught': 3760, 'taryn': 3761, 'citizen': 3762, 'recognised': 3763, 'fandoms': 3764, 'promised': 3765, 'fruit': 3766, 'remaining': 3767, 'tween': 3768, 'footsteps': 3769, 'sam': 3770, 'moisturizer': 3771, 'spinning': 3772, 'butter': 3773, 'timing': 3774, 'arriving': 3775, 'whiney': 3776, 'emily': 3777, 'feared': 3778, 'polish': 3779, 'climbed': 3780, 'climb': 3781, 'pulse': 3782, 'dose': 3783, 'worship': 3784, 'literature': 3785, 'quilt': 3786, 'legacy': 3787, 'multitude': 3788, 'yuuki': 3789, 'notebook': 3790, 'bizarre': 3791, 'pampered': 3792, 'cramping': 3793, 'quicker': 3794, 'unsafe': 3795, 'wed': 3796, 'hanging': 3797, 'fly': 3798, 'comatose': 3799, 'immediate': 3800, 'serenity': 3801, 'backed': 3802, 'permanently': 3803, 'therapist': 3804, 'tackling': 3805, 'openly': 3806, 'mornings': 3807, 'logan': 3808, 'naked': 3809, 'blind': 3810, 'candidate': 3811, 'bowl': 3812, 'included': 3813, 'gun': 3814, 'connecting': 3815, 'q': 3816, 'muse': 3817, 'quirky': 3818, 'whispering': 3819, 'perception': 3820, 'separate': 3821, 'pinpoint': 3822, 'xmas': 3823, 'spouse': 3824, 'lovedi': 3825, 'heading': 3826, 'immature': 3827, 'nuts': 3828, 'politics': 3829, 'stands': 3830, 'goodness': 3831, 'stole': 3832, 'cliff': 3833, 'proved': 3834, 'crack': 3835, 'hurry': 3836, 'blown': 3837, 'ie': 3838, 'disbelieving': 3839, 'description': 3840, 'psycho': 3841, 'firmly': 3842, 'poke': 3843, 'engaged': 3844, 'lean': 3845, 'ms': 3846, 'ol': 3847, 'grab': 3848, 'racing': 3849, 'newborn': 3850, 'jim': 3851, 'aspect': 3852, 'cuts': 3853, 'mindset': 3854, 'uni': 3855, 'forest': 3856, 'weekends': 3857, 'comeback': 3858, 'convenience': 3859, 'route': 3860, 'necessarily': 3861, 'justified': 3862, 'generation': 3863, 'according': 3864, 'reilly': 3865, 'robbed': 3866, 'unnoticed': 3867, 'shadow': 3868, 'roots': 3869, 'theyve': 3870, 'scheme': 3871, 'endeavors': 3872, 'whispers': 3873, 'esteem': 3874, 'rant': 3875, 'logical': 3876, 'thai': 3877, 'debt': 3878, 'remarkably': 3879, 'electricity': 3880, 'yelling': 3881, 'subtle': 3882, 'relaxation': 3883, 'weapons': 3884, 'calmed': 3885, 'argue': 3886, 'promoted': 3887, 'un': 3888, 'leads': 3889, 'yay': 3890, 'cricket': 3891, 'junk': 3892, 'consumer': 3893, 'fireworks': 3894, 'perform': 3895, 'shrugged': 3896, 'regarding': 3897, 'queen': 3898, \"can't\": 3899, 'suspense': 3900, 'unprepared': 3901, 'rooms': 3902, 'flipped': 3903, 'besides': 3904, 'followers': 3905, 'handling': 3906, 'runner': 3907, 'eggs': 3908, 'brothers': 3909, 'resting': 3910, 'bill': 3911, 'craft': 3912, 'cube': 3913, 'stretching': 3914, 'imagination': 3915, 'method': 3916, 'finances': 3917, 'etsy': 3918, 'periods': 3919, 'freely': 3920, 'hurtful': 3921, 'ministry': 3922, 'avoided': 3923, 'resume': 3924, 'empowered': 3925, 'discomfort': 3926, 'sequel': 3927, 'ruin': 3928, 'clinic': 3929, 'praised': 3930, 'burned': 3931, 'spray': 3932, 'aced': 3933, 'automatically': 3934, 'tolerate': 3935, 'addictive': 3936, 'flattered': 3937, 'preference': 3938, 'claim': 3939, 'advance': 3940, 'forum': 3941, 'scientists': 3942, 'hundreds': 3943, 'sans': 3944, 'encouraging': 3945, 'lake': 3946, 'agreed': 3947, 'baker': 3948, 'preparing': 3949, 'fantasy': 3950, 'preferably': 3951, 'mates': 3952, 'annoyance': 3953, 'strain': 3954, 'daddy': 3955, 'candle': 3956, 'upload': 3957, 'players': 3958, 'dropping': 3959, 'mush': 3960, 'quarrel': 3961, 'verge': 3962, 'weariness': 3963, 'evil': 3964, 'chris': 3965, 'fridge': 3966, 'cookies': 3967, 'midst': 3968, 'bf': 3969, 'slide': 3970, 'remotely': 3971, 'tiredness': 3972, 'sale': 3973, 'weirdo': 3974, 'explore': 3975, 'constructivism': 3976, 'labour': 3977, 'dumbfounded': 3978, 'meaningless': 3979, 'appears': 3980, 'appreciation': 3981, 'downright': 3982, 'fellowship': 3983, 'targeted': 3984, 'pressed': 3985, 'budget': 3986, 'destroyed': 3987, 'venture': 3988, 'apologise': 3989, 'continually': 3990, 'nourished': 3991, 'goodnight': 3992, 'muscle': 3993, 'tub': 3994, 'unsettled': 3995, 'tastes': 3996, 'demons': 3997, 'theme': 3998, 'handful': 3999, 'unemployed': 4000, 'celebration': 4001, 'alcohol': 4002, 'mid': 4003, 'wierd': 4004, 'whatsoever': 4005, 'dvd': 4006, 'lj': 4007, 'chatter': 4008, 'til': 4009, 'horse': 4010, 'compliment': 4011, 'rave': 4012, 'twisted': 4013, 'permalink': 4014, 'coupled': 4015, 'famous': 4016, 'shooting': 4017, 'boat': 4018, 'labor': 4019, 'wrongly': 4020, 'completed': 4021, 'gross': 4022, 'ancestral': 4023, 'suit': 4024, 'bonka': 4025, 'neva': 4026, 'safer': 4027, 'windows': 4028, 'balls': 4029, 'prayers': 4030, 'lapping': 4031, 'cycling': 4032, 'dun': 4033, 'impolite': 4034, 'stirred': 4035, 'cheaper': 4036, 'west': 4037, 'thrift': 4038, 'privilege': 4039, 'suggest': 4040, 'prior': 4041, 'whiny': 4042, 'parties': 4043, 'fandom': 4044, 'smells': 4045, 'nausea': 4046, 'nightmare': 4047, 'adore': 4048, 'rainy': 4049, 'argument': 4050, 'south': 4051, 'bible': 4052, 'ministries': 4053, 'motor': 4054, 'canvas': 4055, 'essential': 4056, 'roles': 4057, 'alfred': 4058, 'molina': 4059, 'dimensional': 4060, 'caricatures': 4061, 'overshadowed': 4062, 'historical': 4063, 'massive': 4064, 'possibilities': 4065, 'pro': 4066, 'pub': 4067, 'november': 4068, 'quo': 4069, 'surprisingly': 4070, 'wallpaper': 4071, 'cell': 4072, 'trusted': 4073, 'heap': 4074, 'cravings': 4075, 'beer': 4076, 'decorative': 4077, 'split': 4078, 'colour': 4079, 'albeit': 4080, 'initially': 4081, 'crossing': 4082, 'listing': 4083, 'toddler': 4084, 'lined': 4085, 'todays': 4086, 'served': 4087, 'measurements': 4088, 'triggered': 4089, 'traditions': 4090, 'civil': 4091, 'da': 4092, 'awaken': 4093, 'blankets': 4094, 'inanimate': 4095, 'remains': 4096, 'today’s': 4097, 'gush': 4098, 'politicians': 4099, 'todd': 4100, 'troubles': 4101, 'legend': 4102, 'tomatoes': 4103, 'covers': 4104, 'chapters': 4105, 'searched': 4106, 'whereas': 4107, 'passionately': 4108, 'feeds': 4109, 'thick': 4110, 'stormed': 4111, 'united': 4112, 'spiritually': 4113, 'clenches': 4114, 'rally': 4115, 'faking': 4116, 'unnatural': 4117, 'healthier': 4118, 'heartsick': 4119, 'befriending': 4120, 'drives': 4121, 'seed': 4122, 'pot': 4123, 'soup': 4124, 'colored': 4125, 'baseball': 4126, 'horses': 4127, 'distress': 4128, 'entranced': 4129, 'cautious': 4130, 'aversion': 4131, 'seeking': 4132, 'powers': 4133, 'returning': 4134, 'provided': 4135, 'workouts': 4136, 'tbt': 4137, 'observing': 4138, 'stoned': 4139, 'justin': 4140, 'vibrant': 4141, 'accessories': 4142, 'determine': 4143, 'graduating': 4144, 'chicago': 4145, 'cap': 4146, 'liverpool': 4147, 'fuzzy': 4148, 'talents': 4149, 'chaotic': 4150, 'distanced': 4151, 'rage': 4152, 'grieve': 4153, 'sold': 4154, 'doors': 4155, 'brows': 4156, 'sacred': 4157, 'tom': 4158, 'occasion': 4159, 'commercial': 4160, 'hopelessly': 4161, 'crave': 4162, 'tuck': 4163, 'kingdom': 4164, 'watches': 4165, 'label': 4166, 'torn': 4167, 'newspapers': 4168, 'ceo': 4169, 'bob': 4170, 'denied': 4171, 'seven': 4172, 'luxury': 4173, 'consistent': 4174, 'reliable': 4175, 'cozy': 4176, 'mexican': 4177, 'refused': 4178, 'sleeps': 4179, 'affirmation': 4180, 'stupidity': 4181, 'ladder': 4182, 'spontaneous': 4183, 'amsterdam': 4184, 'persons': 4185, 'blink': 4186, 'quest': 4187, 'cave': 4188, 'centre': 4189, 'alice': 4190, 'irrational': 4191, 'variety': 4192, 'importantly': 4193, 'heartedly': 4194, 'enlist': 4195, 'perfection': 4196, 'sibling': 4197, 'approaching': 4198, 'pollution': 4199, 'moisturising': 4200, 'meetings': 4201, 'uggs': 4202, 'pump': 4203, 'immune': 4204, 'owned': 4205, 'whim': 4206, 'fleeting': 4207, 'march': 4208, 'fascinated': 4209, 'tissue': 4210, 'complaints': 4211, 'machines': 4212, 'san': 4213, 'antonio': 4214, 'spurs': 4215, 'monster': 4216, 'heaven': 4217, 'narrator': 4218, 'equation': 4219, 'recovery': 4220, 'grin': 4221, 'biofuels': 4222, 'chick': 4223, 'finland': 4224, 'blogosphere': 4225, 'agreement': 4226, 'abc': 4227, 'conducive': 4228, 'fuckin': 4229, 'european': 4230, 'bottoms': 4231, 'underneath': 4232, 'user': 4233, 'collected': 4234, 'abusive': 4235, 'torture': 4236, 'martin': 4237, 'casting': 4238, 'boast': 4239, 'decorate': 4240, 'diversity': 4241, 'instance': 4242, 'strokes': 4243, 'yarn': 4244, 'curse': 4245, 'existing': 4246, 'vintage': 4247, 'cubicle': 4248, 'doom': 4249, 'heater': 4250, 'muddling': 4251, 'wot': 4252, 'invited': 4253, 'challenged': 4254, 'effortless': 4255, 'destiny': 4256, 'chalice': 4257, 'copies': 4258, 'bloom': 4259, 'inches': 4260, 'piling': 4261, 'lip': 4262, 'owls': 4263, 'overeat': 4264, 'cuddle': 4265, 'crash': 4266, 'murder': 4267, 'multiple': 4268, 'disinterested': 4269, 'secretary': 4270, 'permanent': 4271, 'generations': 4272, 'cleared': 4273, 'mac': 4274, 'lipsticks': 4275, 'rocking': 4276, 'seldom': 4277, 'antisocial': 4278, 'cooperation': 4279, 'generic': 4280, 'giggle': 4281, 'teenagers': 4282, 'minority': 4283, 'buddy': 4284, 'angee': 4285, 'sighs': 4286, 'profoundly': 4287, 'you’re': 4288, 'activity': 4289, 'require': 4290, 'outfits': 4291, 'queer': 4292, 'shannon': 4293, 'philadelphia': 4294, 'statements': 4295, 'packet': 4296, 'socks': 4297, 'glances': 4298, 'mixer': 4299, 'sally': 4300, 'pangs': 4301, 'trash': 4302, 'nouveau': 4303, 'lauren': 4304, 'challenging': 4305, 'wifes': 4306, 'wings': 4307, 'closest': 4308, 'secondary': 4309, 'hesitate': 4310, 'opposed': 4311, 'carnivores': 4312, 'phrase': 4313, 'charlie': 4314, 'fitch': 4315, 'lifted': 4316, 'shined': 4317, 'smack': 4318, 'fists': 4319, 'tap': 4320, 'workday': 4321, 'via': 4322, 'lds': 4323, 'tango': 4324, 'heavenly': 4325, 'angle': 4326, 'internally': 4327, 'beachy': 4328, 'shield': 4329, 'bay': 4330, 'incoming': 4331, 'warn': 4332, 'heartache': 4333, 'consumers': 4334, 'ants': 4335, 'authority': 4336, 'perverse': 4337, 'fed': 4338, 'chambers': 4339, 'quenched': 4340, 'extinguished': 4341, 'roads': 4342, 'defensive': 4343, 'celebrating': 4344, 'prominent': 4345, 'switched': 4346, 'humility': 4347, 'sparkled': 4348, 'weights': 4349, 'totaled': 4350, 'canvases': 4351, 'div': 4352, 'excel': 4353, 'employees': 4354, 'testing': 4355, 'sophist': 4356, 'rings': 4357, 'footing': 4358, 'republic': 4359, 'glancing': 4360, 'theirs': 4361, 'adults': 4362, 'protection': 4363, 'rough': 4364, 'condemning': 4365, 'pumped': 4366, 'factor': 4367, 'swallow': 4368, 'toys': 4369, 'praying': 4370, 'home’s': 4371, 'asset': 4372, 'detox': 4373, 'definately': 4374, 'solutions': 4375, 'dreaded': 4376, 'plight': 4377, 'bam': 4378, 'pavement': 4379, 'sour': 4380, 'reread': 4381, 'separation': 4382, 'qualified': 4383, 'swift': 4384, 'presenting': 4385, 'named': 4386, 'leap': 4387, 'sis': 4388, 'darn': 4389, 'geek': 4390, 'amy': 4391, 'emerge': 4392, 'cd': 4393, 'garments': 4394, 'splash': 4395, 'unfit': 4396, 'haiku': 4397, 'ritalin': 4398, 'flias': 4399, 'potatoes': 4400, 'conscience': 4401, 'pounding': 4402, 'ra': 4403, 'aussie': 4404, 'sensible': 4405, 'yash': 4406, 'kuribayashi': 4407, 'conditions': 4408, 'tantrum': 4409, 'playroom': 4410, 'bombsite': 4411, 'conservatory': 4412, 'escaping': 4413, 'stream': 4414, 'policy': 4415, 'doc': 4416, 'melting': 4417, 'slumber': 4418, 'programming': 4419, 'entertainment': 4420, 'destroying': 4421, 'unsavory': 4422, 'slower': 4423, 'distract': 4424, 'tries': 4425, 'entertainers': 4426, 'dam': 4427, 'nudges': 4428, 'happenstances': 4429, 'unattractive': 4430, 'vanilla': 4431, 'tingle': 4432, 'integrity': 4433, 'uber': 4434, 'irrationally': 4435, 'organized': 4436, 'volunteered': 4437, 'obligations': 4438, 'mournful': 4439, 'metaphor': 4440, 'studies': 4441, 'introduction': 4442, 'digital': 4443, 'persona': 4444, 'eyed': 4445, 'psychologist': 4446, 'nerves': 4447, 'cheered': 4448, 'sasha': 4449, 'superficial': 4450, \"someone's\": 4451, 'impress': 4452, 'declined': 4453, 'accomplishments': 4454, 'pushover': 4455, 'authentic': 4456, 'persist': 4457, 'ferocious': 4458, 'england': 4459, 'begleiter': 4460, 'resonate': 4461, 'trials': 4462, 'integrated': 4463, 'generated': 4464, 'internal': 4465, 'disservice': 4466, 'strive': 4467, 'sugars': 4468, 'consideration': 4469, 'sounded': 4470, 'platonic': 4471, 'zoned': 4472, 'intent': 4473, 'queasy': 4474, 'tackle': 4475, 'what’s': 4476, 'attacked': 4477, 'peak': 4478, 'dirt': 4479, 'sometime': 4480, 'syndrome': 4481, 'cupcake': 4482, 'memorized': 4483, 'concentrating': 4484, 'flutter': 4485, 'pile': 4486, 'scares': 4487, 'enclose': 4488, 'indication': 4489, 'carefully': 4490, 'steady': 4491, 'offend': 4492, 'host': 4493, 'giveaway': 4494, 'nick': 4495, 'judging': 4496, 'hobica': 4497, 'hehehehehe': 4498, 'topics': 4499, 'adjustment': 4500, 'bum': 4501, 'india': 4502, 'questioned': 4503, 'chatted': 4504, 'masturbate': 4505, 'designed': 4506, 'oils': 4507, 'plays': 4508, 'nudge': 4509, 'king': 4510, 'oncologist': 4511, 'orbit': 4512, 'unfurling': 4513, 'smaller': 4514, 'hardship': 4515, 'excuses': 4516, 'recreate': 4517, 'blocked': 4518, 'constructive': 4519, 'they’re': 4520, 'combination': 4521, 'authors': 4522, 'genres': 4523, 'publisher': 4524, 'luke': 4525, 'cigarette': 4526, 'sucking': 4527, 'remained': 4528, 'baggage': 4529, 'offspring': 4530, 'regain': 4531, 'contemplating': 4532, 'cherry': 4533, 'snakes': 4534, 'sue': 4535, 'regard': 4536, 'lemon': 4537, 'wicked': 4538, 'mama': 4539, 'remarkable': 4540, 'bout': 4541, 'iphone': 4542, 'cited': 4543, 'scarce': 4544, 'doubts': 4545, 'starved': 4546, 'diverse': 4547, 'winner’s': 4548, 'bless': 4549, 'recipes': 4550, 'screenwriter': 4551, 'roberto': 4552, 'orcis': 4553, 'adoration': 4554, 'dubya': 4555, 'bush': 4556, 'orci': 4557, 'dieting': 4558, 'pursuing': 4559, 'devote': 4560, 'melted': 4561, 'wee': 4562, 'contributing': 4563, 'consumerism': 4564, 'corpse': 4565, 'revered': 4566, 'updates': 4567, 'vancouver': 4568, 'stated': 4569, 'sticky': 4570, 'finals': 4571, 'collective': 4572, 'costume': 4573, 'clarity': 4574, 'binge': 4575, 'learns': 4576, 'calming': 4577, 'jaw': 4578, 'laughed': 4579, 'acne': 4580, 'sidelines': 4581, 'suggested': 4582, 'psychological': 4583, 'noah': 4584, 'energies': 4585, 'dealt': 4586, 'abuse': 4587, 'assignments': 4588, 'hehe': 4589, 'wins': 4590, 'excuse': 4591, 'follower': 4592, 'danger': 4593, 'recognition': 4594, 'hangover': 4595, 'slighted': 4596, 'vase': 4597, 'swings': 4598, 'rapture': 4599, 'delight': 4600, 'functions': 4601, 'schools': 4602, 'household': 4603, 'itd': 4604, 'traveled': 4605, 'accessory': 4606, 'primer': 4607, 'admiration': 4608, 'shove': 4609, 'behave': 4610, 'sams': 4611, 'angsty': 4612, 'sole': 4613, 'convey': 4614, 'toned': 4615, 'angels': 4616, 'hike': 4617, 'rolls': 4618, 'false': 4619, 'earning': 4620, 'enamoured': 4621, 'flowy': 4622, 'pressures': 4623, 'enthusiasm': 4624, 'mondays': 4625, 'impressive': 4626, 'casually': 4627, 'represents': 4628, 'notification—someone': 4629, 'increases': 4630, 'someday': 4631, 'eternal': 4632, 'repetition': 4633, 'pointless': 4634, 'printing': 4635, 'biology': 4636, 'hunters': 4637, 'trappings': 4638, 'dressing': 4639, 'impossibly': 4640, 'nuclear': 4641, 'concert': 4642, 'shutting': 4643, 'extend': 4644, 'someway': 4645, 'positively': 4646, 'fetish': 4647, 'lily': 4648, 'dramatically': 4649, 'trimester': 4650, 'exceedingly': 4651, 'costly': 4652, 'reground': 4653, 'address': 4654, 'february': 4655, 'refrain': 4656, 'deserved': 4657, 'linux': 4658, 'feefyefo': 4659, 'blabber': 4660, 'transparent': 4661, 'horror': 4662, 'crew': 4663, 'contributions': 4664, 'strolling': 4665, 'applying': 4666, 'inclined': 4667, 'sales': 4668, 'gump': 4669, 'stayviolation': 4670, 'windy': 4671, 'unlike': 4672, 'manuscript': 4673, 'mural': 4674, 'redundant': 4675, 'drifting': 4676, 'guest': 4677, 'honey': 4678, 'screwed': 4679, 'miyavi': 4680, 'criticized': 4681, 'technique': 4682, 'improving': 4683, 'manipulated': 4684, 'tasted': 4685, 'believes': 4686, 'horrid': 4687, 'region': 4688, 'attended': 4689, 'partners': 4690, 'nude': 4691, 'sadly': 4692, 'measuring': 4693, 'consequently': 4694, 'justify': 4695, 'wipe': 4696, 'congregation': 4697, 'homosexual': 4698, 'heavily': 4699, 'dignified': 4700, 'progressive': 4701, 'determination': 4702, 'medication': 4703, 'alternative': 4704, 'missgivings': 4705, 'hesitation': 4706, 'noted': 4707, 'draft': 4708, 'follows': 4709, 'pms': 4710, 'kay': 4711, 'danced': 4712, 'scores': 4713, 'represent': 4714, 'lighting': 4715, 'remorse': 4716, 'temporary': 4717, 'lightheaded': 4718, 'girly': 4719, 'attraction': 4720, 'hats': 4721, 'walmart': 4722, 'maceys': 4723, 'sanity': 4724, 'jumps': 4725, 'limbs': 4726, 'gathering': 4727, 'defective': 4728, 'en': 4729, 'advertising': 4730, 'flip': 4731, 'brief': 4732, 'unhealthy': 4733, 'defeat': 4734, 'listens': 4735, 'cooler': 4736, 'insincere': 4737, 'ultimately': 4738, 'souls': 4739, 'shades': 4740, 'anticipated': 4741, 'coolum': 4742, 'gamer': 4743, 'nagging': 4744, 'prom': 4745, 'shells': 4746, 'inherent': 4747, 'greg': 4748, 'skill': 4749, 'jan': 4750, 'board': 4751, 'intellectual': 4752, 'trainer': 4753, 'serif': 4754, 'performed': 4755, 'questionable': 4756, 'laced': 4757, 'loathe': 4758, 'cynical': 4759, \"winner's\": 4760, 'wax': 4761, 'document': 4762, 'stone': 4763, 'commitment': 4764, 'yo': 4765, 'anyways': 4766, 'sucker': 4767, 'viewed': 4768, 'deciding': 4769, 'ward': 4770, 'hi': 4771, 'brilliant': 4772, 'pointing': 4773, 'unappreciated': 4774, 'rape': 4775, 'deposit': 4776, 'subconsciously': 4777, 'dubai': 4778, 'snapping': 4779, 'bliss': 4780, 'canada': 4781, 'sting': 4782, 'noises': 4783, 'shimmer': 4784, 'exists': 4785, 'pinterest': 4786, 'treats': 4787, 'sl': 4788, 'corn': 4789, 'bitches': 4790, 'ccs': 4791, 'massage': 4792, 'lauper': 4793, 'senior': 4794, 'compromised': 4795, 'nov': 4796, 'recreational': 4797, 'unwillingly': 4798, 'willingly': 4799, 'processing': 4800, 'safely': 4801, 'dip': 4802, 'montana': 4803, 'counted': 4804, 'bounce': 4805, 'ties': 4806, 'ica': 4807, 'association': 4808, 'types': 4809, 'sheep': 4810, 'belief': 4811, 'abdomen': 4812, 'narrow': 4813, 'chapter': 4814, 'limbo': 4815, 'beaubronz': 4816, 'tanning': 4817, 'boudoir': 4818, 'asma': 4819, 'docrat': 4820, 'blinded': 4821, 'idk': 4822, 'leadership': 4823, 'mesh': 4824, 'stages': 4825, 'divorce': 4826, 'panties': 4827, 'entering': 4828, 'fields': 4829, 'backward': 4830, 'harmony': 4831, 'productivity': 4832, 'wrapping': 4833, 'tourist': 4834, 'tenderly': 4835, 'santa': 4836, 'merely': 4837, 'minimum': 4838, 'treadmill': 4839, 'interacting': 4840, 'ego': 4841, 'facts': 4842, 'indulging': 4843, 'theory': 4844, 'pack': 4845, 'lightness': 4846, 'desirable': 4847, 'peeps': 4848, 'drug': 4849, 'articulate': 4850, 'guard': 4851, 'disabilities': 4852, 'rattled': 4853, 'hardships': 4854, 'overflowed': 4855, 'drake': 4856, 'heres': 4857, 'shorts': 4858, 'giddy': 4859, 'achievement': 4860, 'speaker': 4861, 'boob': 4862, 'officer': 4863, 'survive': 4864, 'gratefulness': 4865, 'btw': 4866, 'describing': 4867, 'warming': 4868, 'sober': 4869, 'mince': 4870, 'designer': 4871, 'newtown': 4872, 'despair': 4873, 'defending': 4874, 'heaviness': 4875, 'confession': 4876, 'credits': 4877, 'comparing': 4878, 'load': 4879, 'thyroid': 4880, 'playwright': 4881, 'robert': 4882, 'reid': 4883, 'laptop': 4884, 'conflicts': 4885, 'ailments': 4886, 'behalf': 4887, 'replies': 4888, 'sympathize': 4889, 'dot': 4890, 'excessive': 4891, 'considerable': 4892, 'lapse': 4893, 'exhibitions': 4894, 'riders': 4895, 'perfumed': 4896, 'salts': 4897, 'itll': 4898, 'v': 4899, 'diy': 4900, 'desert': 4901, 'frankly': 4902, 'weighing': 4903, 'phoned': 4904, 'advocate': 4905, 'river': 4906, 'traveling': 4907, 'passport': 4908, 'maternal': 4909, 'palette': 4910, 'mills': 4911, 'drank': 4912, 'thigh': 4913, 'relatively': 4914, 'flick': 4915, 'administration': 4916, 'throne': 4917, 'disappeared': 4918, 'undercurrent': 4919, 'blowing': 4920, 'fancy': 4921, 'unusually': 4922, 'dust': 4923, 'popped': 4924, 'toy': 4925, 'procedure': 4926, 'spiraling': 4927, 'thru': 4928, 'choir': 4929, 'solved': 4930, 'cramps': 4931, 'edgy': 4932, 'whore': 4933, 'venting': 4934, 'knitting': 4935, 'paused': 4936, 'underground': 4937, 'chip': 4938, 'downstairs': 4939, 'attribute': 4940, 'matched': 4941, 'easter': 4942, 'solve': 4943, 'creation': 4944, 'retirement': 4945, 'stripped': 4946, 'tangible': 4947, 'improvement': 4948, 'transcends': 4949, 'slipped': 4950, 'blake': 4951, 'sharply': 4952, 'panicky': 4953, 'yelled': 4954, 'vast': 4955, 'falsely': 4956, 'weirdly': 4957, 'releases': 4958, 'runners': 4959, 'yk': 4960, 'ironic': 4961, 'elated': 4962, 'severely': 4963, 'olympic': 4964, 'screw': 4965, 'depressing': 4966, 'humble': 4967, 'organised': 4968, 'relaxing': 4969, 'pedestrian': 4970, 'resources': 4971, 'betty': 4972, 'reunion': 4973, 'rolling': 4974, 'traumatic': 4975, 'combat': 4976, 'default': 4977, 'span': 4978, 'channel': 4979, 'highlight': 4980, 'james': 4981, 'princess': 4982, 'pale': 4983, 'glitter': 4984, 'lola': 4985, 'demographic': 4986, 'gladly': 4987, 'yearning': 4988, 'grandparents': 4989, 'homeschooling': 4990, 'shifted': 4991, 'sunny': 4992, 'headphones': 4993, 'shoved': 4994, 'sickening': 4995, 'sits': 4996, 'anatomy': 4997, 'try—just': 4998, 'responding': 4999, 'continuing': 5000, 'heartbreak': 5001, 'forcing': 5002, 'cow': 5003, 'pagetype': 5004, 'mimedoger': 5005, 'disclaimer': 5006, 'sums': 5007, 'apathetic': 5008, 'vortex': 5009, 'ha': 5010, 'comparison': 5011, 'cure': 5012, 'glory': 5013, 'ached': 5014, 'texts': 5015, 'chiangmai': 5016, 'endings': 5017, 'improved': 5018, 'dine': 5019, 'rainbows': 5020, 'jumper': 5021, 'wispy': 5022, 'k': 5023, 'unfortunately': 5024, 'empathize': 5025, 'decorated': 5026, 'trips': 5027, 'jackson': 5028, 'thousands': 5029, 'bridge': 5030, 'cheering': 5031, 'hellip': 5032, 'marvelous': 5033, 'begging': 5034, 'sounding': 5035, 'australians': 5036, 'behaviors': 5037, 'quilts': 5038, 'wandered': 5039, 'floral': 5040, 'judgment': 5041, 'memorizing': 5042, 'dreamworld': 5043, 'volunteer': 5044, 'contemplation': 5045, 'consolidation': 5046, 'businesses': 5047, 'invite': 5048, 'moronic': 5049, 'clue': 5050, 'borne': 5051, 'soothes': 5052, 'hasn': 5053, 'angst': 5054, 'marvel': 5055, 'belittled': 5056, 'gorgeously': 5057, 'thia': 5058, 'scruncher': 5059, 'handsome': 5060, 'masterpiece': 5061, 'italy': 5062, 'twitchy': 5063, 'highschool': 5064, 'relieve': 5065, 'platform': 5066, 'neglect': 5067, 'confrontation': 5068, 'dwelling': 5069, 'politely': 5070, 'clutter': 5071, 'lisa': 5072, 'sucked': 5073, 'wholly': 5074, 'gaze': 5075, 'rhetoric': 5076, 'concerning': 5077, 'precise': 5078, 'infection': 5079, 'tons': 5080, 'aa': 5081, 'oscar': 5082, 'hollywood': 5083, 'km': 5084, 'mirrors': 5085, 'addicted': 5086, 'mildly': 5087, 'blues': 5088, 'racism': 5089, 'cultures': 5090, 'league': 5091, 'injustice': 5092, 'florida': 5093, 'neglecting': 5094, 'gown': 5095, 'commented': 5096, 'calorie': 5097, 'intake': 5098, 'grieving': 5099, 'ugg': 5100, 'mandarin': 5101, 'edible': 5102, 'garnishes': 5103, 'samphire': 5104, 'selection': 5105, 'ridden': 5106, 'dint': 5107, 'montagues': 5108, 'tales': 5109, 'disconnected': 5110, 'license': 5111, 'croissants': 5112, 'flew': 5113, 'kg': 5114, 'performers': 5115, 'one’s': 5116, 'mall': 5117, 'eyes—i': 5118, 'beings': 5119, 'paranoia': 5120, 'mia': 5121, 'christians': 5122, 'algebra': 5123, 'overhearing': 5124, 'trigonometry': 5125, 'tutee': 5126, 'profile': 5127, 'heavier': 5128, 'eco': 5129, 'audiences': 5130, 'lovers': 5131, 'attitudes': 5132, 'shinobi': 5133, 'inconvenience': 5134, 'sum': 5135, 'lapped': 5136, 'applications': 5137, 'sachets': 5138, 'rose': 5139, 'sleek': 5140, 'smoother': 5141, 'blaster': 5142, 'apparent': 5143, 'bla': 5144, 'reps': 5145, 'burger': 5146, 'uncharacteristically': 5147, 'unheard': 5148, 'polar': 5149, 'fluffy': 5150, 'overtake': 5151, 'cudnt': 5152, 'frens': 5153, 'philippines': 5154, 'dat': 5155, 'rapid': 5156, 'solo': 5157, 'wandering': 5158, 'vocalize': 5159, 'classmates': 5160, 'clumps': 5161, 'mph': 5162, 'waters': 5163, 'nothings': 5164, 'wiggle': 5165, 'decidedly': 5166, 'egalitarian': 5167, 'canning': 5168, 'uncontrollably': 5169, 'underway': 5170, 'blocking': 5171, 'constitution': 5172, 'instinct': 5173, 'halloween': 5174, 'cries': 5175, 'melodious': 5176, 'imprinted': 5177, 'vibrates': 5178, 'nothingness': 5179, 'overreacting': 5180, 'eventual': 5181, 'funky': 5182, 'enormously': 5183, 'mira': 5184, 'poppy': 5185, 'poems': 5186, 'activist': 5187, 'official': 5188, 'disability': 5189, 'publish': 5190, 'comedy': 5191, 'outer': 5192, 'stumble': 5193, 'celebrations': 5194, 'versus': 5195, 'native': 5196, 'bruises': 5197, 'hips': 5198, 'confessing': 5199, 'glycerin': 5200, 'blogstalkers': 5201, 'joeys': 5202, 'stride': 5203, 'nonstop': 5204, 'negativity': 5205, 'planting': 5206, 'occupied': 5207, 'kleinkinders': 5208, 'remembrance': 5209, 'aryiku': 5210, 'latter': 5211, 'clutch': 5212, 'workplace': 5213, 'truck': 5214, 'michael': 5215, 'nowadays': 5216, 'oceans': 5217, 'lands': 5218, 'discussed': 5219, 'artisans': 5220, 'specialized': 5221, 'emoticons': 5222, 'clients': 5223, 'torso': 5224, 'siwons': 5225, 'flooding': 5226, 'wig': 5227, 'shouldn’t': 5228, 'abstract': 5229, 'picking': 5230, 'silver': 5231, 'nest': 5232, 'richard': 5233, 'councillors': 5234, 'precisely': 5235, 'relented': 5236, 'corrected': 5237, 'accomplishment': 5238, 'seventy': 5239, 'sms': 5240, 'reviews': 5241, 'blaming': 5242, 'tweet': 5243, 'cracked': 5244, 'serves': 5245, 'ta': 5246, 'royal': 5247, 'floated': 5248, 'pools': 5249, 'crutches': 5250, 'dwelled': 5251, 'gradually': 5252, 'succumb': 5253, 'docs': 5254, 'insults': 5255, 'crochet': 5256, 'squares': 5257, 'fooled': 5258, 'screams': 5259, 'droop': 5260, 'stereotype': 5261, 'increasing': 5262, 'volume': 5263, 'correctly': 5264, 'tests': 5265, 'arcade': 5266, 'sassy': 5267, 'animal': 5268, 'innate': 5269, 'lingering': 5270, 'despise': 5271, 'louder': 5272, 'revelation': 5273, 'ancient': 5274, 'slapped': 5275, 'extremly': 5276, 'unfulfilled': 5277, 'cop': 5278, 'trace': 5279, 'disgrace': 5280, 'thief': 5281, 'temples': 5282, 'colours': 5283, 'boobs': 5284, 'gag': 5285, 'dejected': 5286, 'readership': 5287, 'labeled': 5288, 'disagreement': 5289, 'stinging': 5290, 'courtesy': 5291, 'journalism': 5292, 'charged': 5293, 'bandwagon': 5294, 'rag': 5295, 'nurture': 5296, 'waving': 5297, 'alternate': 5298, 'soda': 5299, 'pills': 5300, 'hospitals': 5301, 'motherhood': 5302, 'teetering': 5303, 'hoarding': 5304, 'insanity': 5305, 'stored': 5306, 'handedly': 5307, 'admiring': 5308, 'sends': 5309, 'distractions': 5310, 'senator': 5311, 'marginalized': 5312, 'disregarded': 5313, 'explode': 5314, 'nervousness': 5315, 'anticipating': 5316, 'analyzed': 5317, 'actuality': 5318, 'vunerable': 5319, 'sweating': 5320, 'bothers': 5321, 'exhilarated': 5322, 'munch': 5323, 'savory': 5324, 'relish': 5325, 'withdraw': 5326, 'trigger': 5327, 'redeem': 5328, 'halfway': 5329, 'psychologically': 5330, 'snuggle': 5331, 'belongings': 5332, 'programs': 5333, 'residents': 5334, 'doodle': 5335, 'pac': 5336, 'depict': 5337, 'congestion': 5338, 'tribute': 5339, 'amvassago': 5340, 'beefy': 5341, 'clubbing': 5342, 'bundle': 5343, 'creates': 5344, 'paining': 5345, 'twinges': 5346, 'relentlessly': 5347, 'owner': 5348, 'reconcile': 5349, 'wwii': 5350, 'established': 5351, 'subjected': 5352, 'thunder': 5353, 'lightening': 5354, 'weren’t': 5355, 'loathing': 5356, 'barbie': 5357, 'joie': 5358, 'de': 5359, 'vivre': 5360, 'faced': 5361, 'louis': 5362, 'court': 5363, 'ebay': 5364, 'factors': 5365, 'squad': 5366, 'length': 5367, 'exceptionally': 5368, 'timetable': 5369, 'di': 5370, 'strict': 5371, 'torment': 5372, 'jerked': 5373, 'tutorial': 5374, 'queries': 5375, 'displayed': 5376, 'abandoning': 5377, 'pineapple': 5378, 'flavor': 5379, 'coconut': 5380, 'dolls': 5381, 'canal': 5382, 'alignment': 5383, 'castanets': 5384, 'raposa': 5385, 'crested': 5386, 'scripture': 5387, 'talkative': 5388, 'strengthen': 5389, 'division': 5390, 'transformed': 5391, 'again—yes': 5392, 'reflected': 5393, 'combine': 5394, 'tire': 5395, 'overworked': 5396, 'unpredictability': 5397, 'arguments': 5398, 'stadium': 5399, 'cardboard': 5400, 'romeo': 5401, 'juliet': 5402, 'beautifully': 5403, 'spa': 5404, 'haven’t': 5405, 'listener': 5406, 'shore': 5407, 'artwork': 5408, 'showered': 5409, 'lunchtime': 5410, 'locks': 5411, 'tmr': 5412, 'xd': 5413, 'museum': 5414, 'visitors': 5415, 'dublin': 5416, 'believer': 5417, 'grip': 5418, 'shade': 5419, 'premature': 5420, 'longest': 5421, 'failures': 5422, 'noisy': 5423, 'smoothly': 5424, 'resolve': 5425, 'boisterous': 5426, 'surfacing': 5427, 'exercising': 5428, 'unintelligent': 5429, 'ringing': 5430, 'roller': 5431, 'coaster': 5432, 'um': 5433, 'charge': 5434, 'fitting': 5435, 'protective': 5436, 'pa': 5437, 'flag': 5438, 'reciprocated': 5439, 'bacuse': 5440, 'generate': 5441, 'passerby': 5442, 'tremble': 5443, 'nathan': 5444, 'theyll': 5445, 'mop': 5446, 'atop': 5447, 'scar': 5448, 'sought': 5449, 'population': 5450, 'texted': 5451, 'contrary': 5452, 'wakes': 5453, 'josh': 5454, 'dd': 5455, 'distracting': 5456, 'pompous': 5457, 'jerk': 5458, 'scrutiny': 5459, 'definite': 5460, 'square': 5461, 'mailman': 5462, 'dancers': 5463, 'zen': 5464, 'jazz': 5465, 'ambitious': 5466, 'veil': 5467, 'immense': 5468, 'thoughtless': 5469, 'urgent': 5470, 'katy': 5471, 'surreal': 5472, 'virgin': 5473, 'deranged': 5474, 'carter': 5475, 'raped': 5476, 'americans': 5477, 'dependent': 5478, 'unclear': 5479, 'mourn': 5480, 'trade': 5481, 'republicans': 5482, 'rawr': 5483, 'ugliness': 5484, 'steep': 5485, 'hills': 5486, 'shoot': 5487, 'provides': 5488, 'paced': 5489, 'lacks': 5490, 'encouraged': 5491, 'barrage': 5492, 'empathizing': 5493, 'ballistic': 5494, 'owl': 5495, 'thereby': 5496, 'dh': 5497, 'conceal': 5498, 'watcher': 5499, 'validity': 5500, 'disciples': 5501, 'yknow': 5502, 'investigate': 5503, 'subaru': 5504, 'cooped': 5505, 'enthusiastic': 5506, 'floats': 5507, 'titled': 5508, 'hung': 5509, 'stature': 5510, 'advanced': 5511, 'boldly': 5512, 'bouts': 5513, 'bumps': 5514, 'jack': 5515, 'boards': 5516, 'reproduce': 5517, 'analyses': 5518, 'vendors': 5519, 'mocked': 5520, 'knees': 5521, 'endured': 5522, 'data': 5523, 'medium': 5524, 'shopper': 5525, 'striking': 5526, 'peep': 5527, 'toe': 5528, 'expose': 5529, 'raced': 5530, 'rd': 5531, 'familiarity': 5532, 'personnel': 5533, 'compensated': 5534, 'energetics': 5535, 'cinnamon': 5536, 'chatting': 5537, 'sacrificed': 5538, 'sports': 5539, 'definitive': 5540, 'faux': 5541, 'diamond': 5542, 'hugs': 5543, 'assure': 5544, 'dominican': 5545, 'brat': 5546, 'production': 5547, 'vs': 5548, 'manager’s': 5549, 'sarah': 5550, 'invaded': 5551, 'risen': 5552, 'hyper': 5553, 'bogged': 5554, 'iced': 5555, 'addressing': 5556, 'programme': 5557, 'harshly': 5558, 'parcel': 5559, 'skincare': 5560, 'apothecary': 5561, 'organic': 5562, 'tat': 5563, 'hopped': 5564, 'polite': 5565, 'assignment': 5566, 'dresses': 5567, 'solely': 5568, 'interactions': 5569, 'automation': 5570, 'memset': 5571, 'stitch': 5572, 'screen': 5573, 'paul': 5574, 'unsatisfied': 5575, 'basks': 5576, 'presentations': 5577, 'professors': 5578, 'performer': 5579, 'criminal': 5580, 'painted': 5581, 'sep': 5582, 'preparation': 5583, 'fulfillment': 5584, 'swimsuit': 5585, 'individually': 5586, 'disgruntled': 5587, 'studied': 5588, 'cara': 5589, 'adf': 5590, 'unity': 5591, 'rite': 5592, 'consecrated': 5593, 'rachel': 5594, 'benedict': 5595, 'ballroom': 5596, 'driver': 5597, 'dorky': 5598, 'sloth': 5599, 'deepika': 5600, 'anguish': 5601, 'rated': 5602, 'screenshot': 5603, 'flung': 5604, 'harm': 5605, 'minister': 5606, 'beforehand': 5607, 'doorbell': 5608, 'complainy': 5609, 'prescribed': 5610, 'rollered': 5611, 'twins': 5612, 'diapers': 5613, 'forgiving': 5614, 'trillion': 5615, 'publicly': 5616, 'ignorance': 5617, 'conditioning': 5618, 'obese': 5619, 'instincts': 5620, 'intuition': 5621, 'tank': 5622, 'governments': 5623, 'distinctly': 5624, 'degrees': 5625, 'temptation': 5626, 'provocation': 5627, 'williams': 5628, 'alarm': 5629, 'mountains': 5630, 'logging': 5631, 'authorities': 5632, 'resort': 5633, 'brotherhood': 5634, 'morbid': 5635, 'apologizes': 5636, 'northern': 5637, 'undone': 5638, 'davids': 5639, 'obedient': 5640, 'opener': 5641, 'harms': 5642, 'disturbing': 5643, 'insidious': 5644, 'myspace': 5645, 'insatiably': 5646, 'inspires': 5647, 'ian': 5648, 'tendency': 5649, 'narcissism': 5650, 'justifying': 5651, 'strengthening': 5652, 'utopia': 5653, 'evaluate': 5654, 'marriages': 5655, 'academy': 5656, 'beyonc': 5657, 'holly': 5658, 'renewed': 5659, 'revert': 5660, 'greeted': 5661, 'hive': 5662, 'verse': 5663, 'battling': 5664, 'nearness': 5665, 'chewie': 5666, 'stuffed': 5667, 'blade': 5668, 'beneficial': 5669, 'complications': 5670, 'comings': 5671, 'processes': 5672, 'transformers': 5673, 'fluidly': 5674, 'plugged': 5675, 'allergies': 5676, 'freaky': 5677, 'quarter': 5678, 'suppressed': 5679, 'counsel': 5680, 'resource': 5681, 'solemn': 5682, 'garage': 5683, 'yellow': 5684, 'ish': 5685, 'unnaturally': 5686, 'informal': 5687, 'falter': 5688, 'offends': 5689, 'interpretation': 5690, 'trend': 5691, 'impatience': 5692, 'misunderstanding': 5693, 'secured': 5694, 'appropriately': 5695, 'caleb': 5696, 'sublimed': 5697, 'birthed': 5698, 'ragged': 5699, 'predictably': 5700, 'grant': 5701, 'rep': 5702, 'reciting': 5703, 'spiel': 5704, 'paralysis': 5705, 'culprit': 5706, 'digging': 5707, 'husbands': 5708, 'deleted': 5709, 'loan': 5710, 'hotel': 5711, 'victorious': 5712, 'trusty': 5713, 'retail': 5714, 'dumped': 5715, 'privacy': 5716, 'teammates': 5717, 'backpacking': 5718, 'french': 5719, 'claret': 5720, 'jug': 5721, 'twelve': 5722, 'battles': 5723, 'msg': 5724, 'nerd': 5725, 'convention': 5726, 'resorted': 5727, 'housebound': 5728, 'peckish': 5729, 'appeal': 5730, 'disdain': 5731, 'incomplete': 5732, 'lisas': 5733, 'plastic': 5734, 'rollercoaster': 5735, 'freeze': 5736, 'earliest': 5737, 'lessen': 5738, 'ingredients': 5739, 'blossoms': 5740, 'misplaced': 5741, 'mulling': 5742, 'vibrate': 5743, 'morph': 5744, 'shares': 5745, 'galleries': 5746, 'sheet': 5747, 'radiation': 5748, 'nasal': 5749, 'realistic': 5750, 'portion': 5751, 'christmassy': 5752, 'potter': 5753, 'inspire': 5754, 'relation': 5755, 'fades': 5756, 'suggestion': 5757, 'respectful': 5758, 'enormous': 5759, 'trudgers': 5760, 'attempts': 5761, 'crime': 5762, 'accused': 5763, 'afield': 5764, 'retiring': 5765, 'cops': 5766, 'disorder': 5767, 'mormon': 5768, 'replace': 5769, 'lifes': 5770, 'caterpillar': 5771, 'crawling': 5772, 'jungle': 5773, 'coughing': 5774, 'runny': 5775, 'uncertainties': 5776, 'sorrows': 5777, 'sabotaging': 5778, 'bars': 5779, 'heartburn': 5780, 'graders': 5781, 'humping': 5782, 'moaning': 5783, 'prospect': 5784, 'suitcase': 5785, 'anne': 5786, 'organise': 5787, 'adoring': 5788, 'monthly': 5789, 'hire': 5790, 'chain': 5791, 'proof': 5792, 'listeners': 5793, 'schemes': 5794, 'implement': 5795, 'organizational': 5796, 'masochist': 5797, 'intervention': 5798, 'europe': 5799, 'israelites': 5800, 'lucy': 5801, 'shinae': 5802, 'looter': 5803, 'sloppy': 5804, 'forearm': 5805, 'puzzle': 5806, 'viewers': 5807, 'federal': 5808, 'incorporated': 5809, 'orange': 5810, 'senses': 5811, 'ceiling': 5812, 'election': 5813, 'beware': 5814, 'spoilers': 5815, 'auster': 5816, 'clenched': 5817, 'bellingham': 5818, 'copping': 5819, 'viewer': 5820, 'jens': 5821, 'occupational': 5822, 'merry': 5823, 'oregon': 5824, 'fought': 5825, 'mammoth': 5826, 'starve': 5827, 'keyboard': 5828, 'recollection': 5829, 'hyphen': 5830, 'faults': 5831, 'asshole': 5832, 'substitute': 5833, 'hometown': 5834, 'plants': 5835, 'borders': 5836, 'rot': 5837, 'creatures': 5838, 'bloody': 5839, 'ongoing': 5840, 'flirty': 5841, 'observant': 5842, 'cheerleader': 5843, 'eh': 5844, 'arrangements': 5845, 'demand': 5846, 'creativecommons': 5847, 'saint': 5848, 'patrick': 5849, 'appetite': 5850, 'tempura': 5851, 'independence': 5852, 'tempting': 5853, 'spritzer': 5854, 'nagalene': 5855, 'wifi': 5856, 'stellarium': 5857, 'overcoming': 5858, 'stash': 5859, 'additional': 5860, 'insdie': 5861, 'intrigued': 5862, 'tops': 5863, 'impractical': 5864, 'mature': 5865, 'headspace': 5866, 'jensens': 5867, 'bon': 5868, 'jovi': 5869, 'daycare': 5870, 'separately': 5871, 'pursued': 5872, 'au': 5873, 'ng': 5874, 'intimate': 5875, 'inevitable': 5876, 'creme': 5877, 'youthful': 5878, 'divulge': 5879, 'supremely': 5880, 'arrives': 5881, 'bonding': 5882, 'tidying': 5883, 'penis': 5884, 'posh': 5885, 'cushy': 5886, 'portray': 5887, 'testicle': 5888, 'burner': 5889, 'banana': 5890, 'agencies': 5891, 'sucky': 5892, 'spelled': 5893, 'snaps': 5894, 'comfy': 5895, 'springy': 5896, 'experimented': 5897, 'plagued': 5898, 'influenced': 5899, 'dash': 5900, 'colons': 5901, 'enhance': 5902, 'realm': 5903, 'sparkle': 5904, 'banks': 5905, 'coeur': 5906, 'alene': 5907, 'fist': 5908, 'heights': 5909, 'instruction': 5910, 'tomorrows': 5911, 'rabbits': 5912, 'violin': 5913, 'spectator': 5914, 'appearances': 5915, 'futile': 5916, 'tastic': 5917, 'cam': 5918, 'crushes': 5919, 'twitch': 5920, 'assumptions': 5921, 'christianity': 5922, 'stinks': 5923, 'eve': 5924, 'kim': 5925, 'tutorials': 5926, 'defiance': 5927, 'framework': 5928, 'branches': 5929, 'believers': 5930, 'shifting': 5931, 'marginalised': 5932, 'starring': 5933, 'excluded': 5934, 'deepest': 5935, 'stray': 5936, 'flames': 5937, 'smelling': 5938, 'differences': 5939, 'sniffles': 5940, 'honesty': 5941, 'repeated': 5942, 'successfully': 5943, 'sunlight': 5944, 'beast': 5945, 'exited': 5946, 'curveballs': 5947, 'interviews': 5948, 'coats': 5949, 'spots': 5950, 'marrying': 5951, 'worldly': 5952, 'contentment': 5953, 'mudder': 5954, 'rip': 5955, 'crimes': 5956, 'associate': 5957, 'manifesting': 5958, 'destructive': 5959, 'creations': 5960, 'engaging': 5961, 'aim': 5962, 'chained': 5963, 'he’d': 5964, 'wire': 5965, 'grove': 5966, 'slate': 5967, 'intentionally': 5968, 'evidenced': 5969, 'cookie': 5970, 'nursery': 5971, 'curriculum': 5972, 'si': 5973, 'buildings': 5974, 'raids': 5975, 'wilder': 5976, 'intend': 5977, 'watchers': 5978, 'heads': 5979, 'bald': 5980, 'inspite': 5981, 'badass': 5982, 'sickness': 5983, 'cultural': 5984, 'aftermath': 5985, 'gutted': 5986, 'deem': 5987, 'penny': 5988, 'mainstream': 5989, 'calmer': 5990, 'chats': 5991, 'superman': 5992, 'sterile': 5993, 'burdening': 5994, 'foundations': 5995, 'reminding': 5996, 'purchasing': 5997, 'resulting': 5998, 'features': 5999, 'absurd': 6000, 'haircute': 6001, 'haircut': 6002, 'zest': 6003, 'keenly': 6004, 'greatly': 6005, 'assuredly': 6006, 'freezing': 6007, 'bell': 6008, 'arvo': 6009, 'slowing': 6010, 'slacked': 6011, 'discovery': 6012, 'vulnerability': 6013, 'deceived': 6014, 'satan': 6015, 'childs': 6016, 'webpage': 6017, 'lift': 6018, 'visibly': 6019, 'evidence': 6020, 'suburban': 6021, 'pursuits': 6022, 'economy': 6023, 'picks': 6024, 'owning': 6025, 'chinas': 6026, 'copyright': 6027, 'violations': 6028, 'machiavellian': 6029, 'metal': 6030, 'plug': 6031, 'tape': 6032, 'alleys': 6033, 'muffin': 6034, 'recognized': 6035, 'practise': 6036, 'pictured': 6037, 'gunong': 6038, 'ledang': 6039, 'quilting': 6040, 'offense': 6041, 'fills': 6042, 'remedy': 6043, 'xx': 6044, 'xelliealicex': 6045, 'stays': 6046, 'there’s': 6047, 'isaac': 6048, 'marry': 6049, 'happenings': 6050, 'devil': 6051, 'rays': 6052, 'empathy': 6053, 'heroine': 6054, 'enjoyment': 6055, 'protests': 6056, 'responses': 6057, 'laws': 6058, 'merit': 6059, 'mock': 6060, 'promising': 6061, 'speculation': 6062, 'assumption': 6063, 'contagious': 6064, 'albino': 6065, 'mosquito': 6066, 'executed': 6067, 'engineering': 6068, 'lifts': 6069, 'tracking': 6070, 'immersed': 6071, 'indian': 6072, 'theater': 6073, 'scenarios': 6074, 'devotee': 6075, 'bump': 6076, 'fluffed': 6077, 'lectures': 6078, 'definetly': 6079, 'wholesale': 6080, 'obey': 6081, 'vampire': 6082, 'legions': 6083, 'disney': 6084, 'bernie': 6085, 'guaranteed': 6086, 'enthusiasts': 6087, 'lunge': 6088, 'statistics': 6089, 'shaun': 6090, 'physicality': 6091, 'nerve': 6092, 'web': 6093, 'bully': 6094, 'tickles': 6095, 'monastery': 6096, 'anna': 6097, 'adopt': 6098, 'hints': 6099, 'builds': 6100, 'bunion': 6101, 'rat': 6102, 'slave': 6103, 'tapped': 6104, 'fluid': 6105, 'weaker': 6106, 'homemade': 6107, 'translated': 6108, 'consequence': 6109, 'oxygen': 6110, 'attract': 6111, 'neuropathy': 6112, 'fingernails': 6113, 'benign': 6114, 'courtney': 6115, 'hows': 6116, 'slug': 6117, 'mona': 6118, 'factory': 6119, 'spontaneously': 6120, 'erratic': 6121, 'swoons': 6122, 'communion': 6123, 'reporting': 6124, 'plunging': 6125, 'moonlight': 6126, 'educate': 6127, 'lloyd': 6128, 'ditched': 6129, 'neighbors': 6130, 'uh': 6131, 'significantly': 6132, 'combo': 6133, 'hiccups': 6134, 'frustrating': 6135, 'fired': 6136, 'maria': 6137, 'glaring': 6138, 'corners': 6139, 'eats': 6140, 'hauled': 6141, 'cramp': 6142, 'whining': 6143, 'riding': 6144, 'shimmered': 6145, 'crystals': 6146, 'intercourse': 6147, 'georgia': 6148, 'petronas': 6149, 'funds': 6150, 'pounded': 6151, 'poking': 6152, 'humanity': 6153, 'embarrassing': 6154, 'globe': 6155, 'jean': 6156, 'actors': 6157, 'musician': 6158, 'insights': 6159, 'we’ll': 6160, 'replacement': 6161, 'nyc': 6162, 'folded': 6163, 'refusing': 6164, 'drastically': 6165, 'medications': 6166, 'supporters': 6167, 'lb': 6168, 'suspiciously': 6169, 'turkey': 6170, 'joined': 6171, 'jewellery': 6172, 'harrassment': 6173, 'summary': 6174, 'stinking': 6175, 'villain': 6176, 'lured': 6177, 'champagne': 6178, 'pent': 6179, 'communing': 6180, 'influence': 6181, 'soap': 6182, 'supposedly': 6183, 'campus': 6184, 'involving': 6185, 'chanel': 6186, 'sew': 6187, 'competing': 6188, 'dent': 6189, 'betraying': 6190, 'energizing': 6191, 'eid': 6192, 'cm': 6193, 'thickness': 6194, 'slats': 6195, 'mattress': 6196, 'unsurprisingly': 6197, 'al': 6198, 'lasted': 6199, 'floods': 6200, 'deemed': 6201, 'damned': 6202, 'banking': 6203, 'interact': 6204, 'liberal': 6205, 'teddy': 6206, 'kiyoshi': 6207, 'widow': 6208, 'acutely': 6209, 'ghost': 6210, 'denial': 6211, 'wearily': 6212, 'cracks': 6213, 'hacking': 6214, 'tickets': 6215, 'distraction': 6216, 'makin': 6217, 'strip': 6218, 'finke': 6219, 'aroused': 6220, 'societys': 6221, 'agonized': 6222, 'undertaking': 6223, 'tuned': 6224, 'rent': 6225, 'cinema': 6226, 'trap': 6227, 'debate': 6228, 'counting': 6229, 'accurate': 6230, 'crises': 6231, 'supreme': 6232, 'calves': 6233, 'yoked': 6234, 'hamburger': 6235, 'steak': 6236, 'whipped': 6237, 'central': 6238, 'reigns': 6239, 'bears': 6240, 'harbor': 6241, 'newest': 6242, 'suggesting': 6243, 'denying': 6244, 'christchurch': 6245, 'fridays': 6246, 'alarming': 6247, 'friggin': 6248, 'yahoo': 6249, 'verrrrrrrryyyy': 6250, 'ntoward': 6251, 'impulsive': 6252, 'bucks': 6253, 'scheduled': 6254, 'occured': 6255, 'midterm': 6256, 'erik': 6257, 'heroes': 6258, 'released': 6259, 'edit': 6260, 'subsequently': 6261, 'medically': 6262, 'lulled': 6263, 'remote': 6264, 'location': 6265, 'cliched': 6266, 'wholeness': 6267, 'jo': 6268, 'submit': 6269, 'repercussions': 6270, 'denounced': 6271, 'sessions': 6272, 'luggage': 6273, 'appearing': 6274, 'embarrased': 6275, 'parallel': 6276, 'guiding': 6277, 'kuwait': 6278, 'proceed': 6279, 'sceptical': 6280, 'racist': 6281, 'dish': 6282, 'pushy': 6283, 'apologizing': 6284, 'glam': 6285, 'nuptials': 6286, 'pavilion': 6287, 'national': 6288, 'fifteen': 6289, 'peas': 6290, 'carrots': 6291, 'stinky': 6292, 'scattered': 6293, 'med': 6294, 'diabetes': 6295, 'participants': 6296, 'slugging': 6297, 'rewarding': 6298, 'owners': 6299, 'associations': 6300, 'soothing': 6301, 'tunnel': 6302, 'injured': 6303, 'recluse': 6304, 'sufficiently': 6305, 'mediocre': 6306, 'measures': 6307, 'toby': 6308, 'gosh': 6309, 'flipping': 6310, 'signs': 6311, 'dates': 6312, 'nod': 6313, 'rebels': 6314, 'funding': 6315, 'root': 6316, 'begged': 6317, 'locker': 6318, 'induced': 6319, 'shiny': 6320, 'alaska': 6321, 'placed': 6322, 'anothers': 6323, 'analyzing': 6324, 'trial': 6325, 'pertaining': 6326, 'repay': 6327, 'wayne': 6328, 'nikki': 6329, 'minaj': 6330, 'dope': 6331, 'warehouse': 6332, 'abit': 6333, 'eyelids': 6334, 'possessive': 6335, 'nodded': 6336, 'compete': 6337, 'commands': 6338, 'vitamins': 6339, 'crisis': 6340, 'triumph': 6341, 'offset': 6342, 'annoy': 6343, 'beats': 6344, 'confirm': 6345, 'betray': 6346, 'slacking': 6347, 'mrs': 6348, 'enriched': 6349, 'toddlerhood': 6350, 'losses': 6351, 'guarantee': 6352, 'pleasures': 6353, 'prejudiced': 6354, 'kills': 6355, 'gallery': 6356, 'shiraishi': 6357, 'pat': 6358, 'tensions': 6359, 'philips': 6360, 'woeful': 6361, 'territory': 6362, 'sensationalist': 6363, 'reports': 6364, 'connecticut': 6365, 'resisting': 6366, 'envelope': 6367, 'east': 6368, 'involves': 6369, 'tsa': 6370, 'unreasonable': 6371, 'hormone': 6372, 'cashier': 6373, 'relishing': 6374, 'mathematics': 6375, 'describes': 6376, 'armor': 6377, 'ignorant': 6378, 'op': 6379, 'douche': 6380, 'tag': 6381, 'masala': 6382, 'anguished': 6383, 'swallowed': 6384, 'ugh': 6385, 'menswear': 6386, 'inclusive': 6387, 'teenage': 6388, 'figures': 6389, 'vibrations': 6390, 'pit': 6391, 'corinthians': 6392, 'personalities': 6393, 'psalm': 6394, \"heart's\": 6395, 'crumbling': 6396, 'concentrated': 6397, 'chemicals': 6398, 'wing': 6399, 'creaminess': 6400, 'accent': 6401, 'jaws': 6402, 'toronto': 6403, 'swamp': 6404, 'refuses': 6405, 'complicated': 6406, 'freshman': 6407, 'disorients': 6408, 'offer—best': 6409, 'mashmellows': 6410, 'orgasm': 6411, 'swell': 6412, 'incorporate': 6413, 'conducted': 6414, 'ridiculed': 6415, 'flop': 6416, 'beaches': 6417, 'softer': 6418, 'military': 6419, 'trained': 6420, 'disasters': 6421, 'tighten': 6422, 'kindly': 6423, 'los': 6424, 'angeles': 6425, 'tended': 6426, 'quiltcon': 6427, 'lizzy': 6428, 'creatively': 6429, 'stimulating': 6430, 'thebalm': 6431, 'tude': 6432, 'dorothy': 6433, 'kelsey': 6434, 'vocalists': 6435, 'embarassed': 6436, 'femininely': 6437, 'attacking': 6438, 'emphasize': 6439, 'springer': 6440, 'cheers': 6441, 'requires': 6442, 'gaia': 6443, 'crushed': 6444, 'freakishly': 6445, 'nylons': 6446, 'mill': 6447, 'instant': 6448, 'excruciating': 6449, 'annoyingly': 6450, 'whale': 6451, 'punched': 6452, 'shirley': 6453, 'softest': 6454, 'sins': 6455, 'fiber': 6456, 'madness': 6457, 'adjectives': 6458, 'paw': 6459, 'partially': 6460, 'conveniently': 6461, 'endurance': 6462, 'woods': 6463, 'alittle': 6464, 'lest': 6465, 'motivator': 6466, 'recognizing': 6467, 'rightfully': 6468, 'earned': 6469, 'crunch': 6470, 'multi': 6471, 'momentarily': 6472, 'melt': 6473, 'downs': 6474, 'antique': 6475, 'underwears': 6476, 'indifferent': 6477, 'kit': 6478, 'wheel': 6479, 'legitemately': 6480, 'astonishment': 6481, 'starters': 6482, 'treasures': 6483, 'examination': 6484, 'prick': 6485, 'sinister': 6486, 'cocoa': 6487, 'flannel': 6488, 'nighties': 6489, 'summers': 6490, 'soundtrack': 6491, 'nightmarish': 6492, 'vows': 6493, 'oatmeal': 6494, 'jon': 6495, 'qualify': 6496, 'fame': 6497, 'deliver': 6498, 'apathy': 6499, 'wit': 6500, 'teens': 6501, 'rightly': 6502, 'insensitive': 6503, 'unconditional': 6504, 'knock': 6505, 'abandon': 6506, 'swollen': 6507, 'bug': 6508, 'submitting': 6509, 'forces': 6510, 'accompanied': 6511, 'secrets': 6512, 'assessment': 6513, 'simplest': 6514, 'introduce': 6515, 'examine': 6516, 'decently': 6517, 'indonesia': 6518, 'breaks': 6519, 'similarities': 6520, 'chase': 6521, 'stems': 6522, 'bladder': 6523, 'appreciating': 6524, 'pic': 6525, 'survivor': 6526, 'layers': 6527, 'anyones': 6528, 'nominees': 6529, 'scotland': 6530, 'analogy': 6531, 'sip': 6532, 'compulsion': 6533, 'com': 6534, 'euphoria': 6535, 'bathing': 6536, 'thankfully': 6537, 'crystal': 6538, 'shelves': 6539, 'inflated': 6540, 'mothering': 6541, 'stoop': 6542, 'slogging': 6543, 'fractured': 6544, 'wrist': 6545, 'reluctantly': 6546, 'spying': 6547, 'unrewarding': 6548, 'encounter': 6549, 'stuffs': 6550, 'darren': 6551, 'glance': 6552, 'asians': 6553, 'spreading': 6554, 'hostel': 6555, 'mumbai': 6556, 'slums': 6557, 'egg': 6558, 'binding': 6559, 'outbursts': 6560, 'knocked': 6561, 'kicking': 6562, 'exceptions': 6563, 'critically': 6564, 'flawed': 6565, 'joints': 6566, 'sites': 6567, 'shine': 6568, 'inch': 6569, 'rubber': 6570, 'dong': 6571, 'transport': 6572, 'mack': 6573, 'michaels': 6574, 'phrases': 6575, 'engine': 6576, 'karen': 6577, 'nationality': 6578, 'karate': 6579, 'homosexuality': 6580, 'mentions': 6581, 'naive': 6582, 'isolating': 6583, 'welcoming': 6584, 'charm': 6585, 'savings': 6586, 'sensibilities': 6587, 'sleeves': 6588, 'willed': 6589, 'bitterness': 6590, 'wat': 6591, 'exchange': 6592, 'panicked': 6593, 'sustained': 6594, 'incidents': 6595, 'yomis': 6596, 'crown': 6597, 'skinned': 6598, 'picnic': 6599, 'racked': 6600, 'wip': 6601, 'angie': 6602, 'blowouts': 6603, 'tantrums': 6604, 'permanence': 6605, 'fingertips': 6606, 'decades': 6607, 'effective': 6608, 'grandpa': 6609, 'relating': 6610, 'whereby': 6611, 'supermarket': 6612, 'coaching': 6613, 'vineman': 6614, 'racin': 6615, 'rested': 6616, 'pimp': 6617, 'raini': 6618, 'rocky': 6619, 'texture': 6620, 'rugby': 6621, 'segments': 6622, 'wildly': 6623, 'tables': 6624, 'sentences': 6625, 'limitations': 6626, 'hunt': 6627, 'akin': 6628, 'surge': 6629, 'graduate': 6630, 'request': 6631, 'drain': 6632, 'totes': 6633, 'soothe': 6634, 'consecutive': 6635, 'bow': 6636, 'ini': 6637, 'odds': 6638, 'insecurity': 6639, 'dancer': 6640, 'microsoft': 6641, 'vista': 6642, 'crotch': 6643, 'planted': 6644, 'preaching': 6645, 'dearly': 6646, 'winners': 6647, 'sufferers': 6648, 'surrounding': 6649, 'insomnia': 6650, 'wonderland': 6651, 'bearable': 6652, 'traded': 6653, 'rotation': 6654, 'backyard': 6655, 'creeped': 6656, 'alll': 6657, 'veryy': 6658, 'snacks': 6659, 'evident': 6660, 'built': 6661, 'broad': 6662, 'categorie': 6663, 'cray': 6664, 'glamourous': 6665, 'loaded': 6666, 'accustomed': 6667, 'stumbling': 6668, 'scratch': 6669, 'spell': 6670, 'victory': 6671, 'hymn': 6672, 'proffers': 6673, 'mystery': 6674, 'nephew': 6675, 'gettin': 6676, 'scheduling': 6677, 'seattle': 6678, 'showcase': 6679, 'contained': 6680, 'socializing': 6681, 'goat': 6682, 'condemned': 6683, 'necklace': 6684, 'themed': 6685, 'lecture': 6686, 'tattoo': 6687, 'thirsty': 6688, 'reinforce': 6689, 'ceases': 6690, 'scratches': 6691, 'net': 6692, 'ing': 6693, 'intelligence': 6694, 'labels': 6695, 'loosing': 6696, 'gnawing': 6697, 'bursting': 6698, 'input': 6699, 'erm': 6700, 'marred': 6701, 'prose': 6702, 'theories': 6703, 'materials': 6704, 'sincerity': 6705, 'educating': 6706, 'skies': 6707, 'bowled': 6708, 'stretch': 6709, 'usage': 6710, 'graham': 6711, 'sketch': 6712, 'ryan': 6713, 'mount': 6714, 'sighed': 6715, 'frantically': 6716, 'skdd': 6717, 'kidnapped': 6718, 'bury': 6719, 'punk': 6720, 'upbeat': 6721, 'pc': 6722, 'revulsion': 6723, 'elicits': 6724, 'fascination': 6725, 'wailing': 6726, 'epiphanies': 6727, 'dragged': 6728, 'ignites': 6729, 'dragon': 6730, 'unfold': 6731, 'apt': 6732, 'tubes': 6733, 'godaddy': 6734, 'privellege': 6735, 'domain': 6736, 'vehemently': 6737, 'oppose': 6738, 'bbq': 6739, 'pizza': 6740, 'sauce': 6741, 'markets': 6742, 'triangle': 6743, 'executing': 6744, 'ordeal': 6745, 'fading': 6746, 'hesei': 6747, 'kamen': 6748, 'urgency': 6749, 'drift': 6750, 'condescending': 6751, 'coffin': 6752, 'camp': 6753, 'greys': 6754, 'relying': 6755, 'iv': 6756, 'css': 6757, 'wears': 6758, 'allah': 6759, 'winston': 6760, 'churchill': 6761, 'randythomas': 6762, 'preservation': 6763, 'insides': 6764, 'counselor': 6765, 'gardens': 6766, 'shoots': 6767, 'sluggish': 6768, 'annual': 6769, 'stationary': 6770, 'tune': 6771, 'slice': 6772, 'brag': 6773, 'fattie': 6774, 'brands': 6775, 'opens': 6776, 'prospects': 6777, 'pianos': 6778, 'smother': 6779, 'meantime': 6780, 'preschool': 6781, 'grandmothers': 6782, 'miracle': 6783, 'reasonably': 6784, 'violently': 6785, 'backing': 6786, 'aimless': 6787, 'controlled': 6788, 'sang': 6789, 'invested': 6790, 'teaches': 6791, 'soulmate': 6792, 'mi': 6793, 'overweight': 6794, 'becuz': 6795, 'brewing': 6796, 'cornbread': 6797, 'massively': 6798, 'shirts': 6799, 'unrealistic': 6800, 'ideals': 6801, 'readjust': 6802, 'notes': 6803, 'flustered': 6804, 'leaf': 6805, 'clover': 6806, 'maid': 6807, 'sets': 6808, 'toxins': 6809, 'pakistan': 6810, 'ups': 6811, 'beginnings': 6812, 'expert': 6813, 'outlet': 6814, 'hogmanay': 6815, 'rosa': 6816, 'chasm': 6817, 'entertaining': 6818, 'discipline': 6819, 'pouring': 6820, 'norma': 6821, 'scenario': 6822, 'prolonged': 6823, 'spice': 6824, 'adulthood': 6825, 'buzzing': 6826, 'proclaiming': 6827, 'snail': 6828, 'wrinkles': 6829, 'manufacturing': 6830, 'finance': 6831, 'positivity': 6832, 'radiant': 6833, 'wooden': 6834, 'blows': 6835, 'pretentious': 6836, 'energised': 6837, 'sandblog': 6838, 'bruce': 6839, 'puzzled': 6840, 'pelvis': 6841, 'crashed': 6842, 'draws': 6843, 'notify': 6844, 'infidelity': 6845, 'sweety': 6846, 'savingyourmarriagebeforeitstarts': 6847, 'dwell': 6848, 'register': 6849, 'eagleandhammer': 6850, 'nao': 6851, 'cinematic': 6852, 'esp': 6853, 'templates': 6854, 'frosting': 6855, 'inarticulate': 6856, 'ours': 6857, 'loner': 6858, 'adomen': 6859, 'candy': 6860, 'validate': 6861, 'dave': 6862, 'consumed': 6863, 'technology': 6864, 'punctures': 6865, 'overlooked': 6866, 'ipod': 6867, 'toll': 6868, 'distribution': 6869, 'intentional': 6870, 'shubhi': 6871, 'feb': 6872, 'jerry': 6873, 'hype': 6874, 'pony': 6875, 'questionnaire': 6876, 'candles': 6877, 'shattered': 6878, 'ignoring': 6879, 'mobile': 6880, 'laurie': 6881, 'whimsical': 6882, 'retorted': 6883, 'zimbabwe': 6884, 'jokes': 6885, 'circumstance': 6886, 'buddhism': 6887, 'rash': 6888, 'lighten': 6889, 'provocative': 6890, 'fluids': 6891, 'hilarious': 6892, 'dried': 6893, 'gaining': 6894, 'giver': 6895, 'anniversary': 6896, 'devils': 6897, 'tablets': 6898, 'knot': 6899, 'ali': 6900, 'sources': 6901, 'boot': 6902, 'bagel': 6903, 'osteopath': 6904, 'boulder': 6905, 'healthcare': 6906, 'pesky': 6907, 'padding': 6908, 'signals': 6909, 'railway': 6910, 'unfairness': 6911, 'virtually': 6912, 'occupy': 6913, 'mail': 6914, 'react': 6915, 'tragedy': 6916, 'forms': 6917, 'shining': 6918, 'behaviour': 6919, 'piano': 6920, 'pip': 6921, 'prince': 6922, 'artistry': 6923, 'expectation': 6924, 'dumps': 6925, 'rejuvenated': 6926, 'motivational': 6927, 'linger': 6928, 'agony': 6929, 'adequately': 6930, 'umbrella': 6931, 'swing': 6932, 'hussein': 6933, 'nineteen': 6934, 'surgeon': 6935, 'puzzles': 6936, 'effecting': 6937, 'relative': 6938, 'raging': 6939, 'unattainable': 6940, 'hobby': 6941, 'programmed': 6942, 'eyeliner': 6943, 'coping': 6944, 'pranked': 6945, 'dee': 6946, 'ukrainian': 6947, 'literary': 6948, 'relates': 6949, 'taiwan': 6950, 'subdue': 6951, 'ethics': 6952, 'disorders': 6953, 'recovered': 6954, 'careful': 6955, 'sane': 6956, 'ipad': 6957, 'payday': 6958, 'loans': 6959, 'spazzing': 6960, 'scratched': 6961, 'absentmindedly': 6962, 'launch': 6963, 'sarcasm': 6964, 'coke': 6965, 'integral': 6966, 'operation': 6967, 'abide': 6968, 'unpaid': 6969, 'drops': 6970, 'instructions': 6971, 'silky': 6972, 'etape': 6973, 'prep': 6974, 'inferior': 6975, 'timmy': 6976, 'ytear': 6977, 'justwhen': 6978, 'futrue': 6979, 'timesa': 6980, 'efeeling': 6981, 'susceptible': 6982, 'deer': 6983, 'profession': 6984, 'publicity': 6985, 'classy': 6986, 'readily': 6987, 'satisfying': 6988, 'brimming': 6989, 'allocated': 6990, 'cock': 6991, 'threads': 6992, 'jonah': 6993, 'nosy': 6994, 'pill': 6995, 'simplicity': 6996, 'devour': 6997, 'sufficient': 6998, 'cases': 6999, 'survived': 7000, 'jude': 7001, 'counter': 7002, 'revving': 7003, 'hollow': 7004, 'needlessly': 7005, 'injuries': 7006, 'pb': 7007, 'thomas': 7008, 'poorly': 7009, 'july': 7010, 'novels': 7011, 'teeny': 7012, 'ds': 7013, 'clay': 7014, 'workings': 7015, 'fared': 7016, 'yeast': 7017, 'originally': 7018, 'mistake—it': 7019, 'object': 7020, 'kenny': 7021, 'serving': 7022, 'laughs': 7023, 'loudly': 7024, 'devices': 7025, 'assumed': 7026, 'mere': 7027, 'flattened': 7028, 'effectively': 7029, 'harsh': 7030, 'lump': 7031, 'advances': 7032, 'attractive': 7033, 'drinkin': 7034, 'whiskey': 7035, 'dreadful': 7036, 'resistant': 7037, 'conspiracy': 7038, 'lords': 7039, 'boiling': 7040, 'backwards': 7041, 'maze': 7042, 'iron': 7043, 'transcend': 7044, 'muas': 7045, 'roommates': 7046, 'andover': 7047, 'dawn': 7048, 'ken': 7049, 'upsetting': 7050, 'solace': 7051, 'uploading': 7052, 'cage': 7053, 'fingernail': 7054, 'fuss': 7055, 'diary': 7056, 'clingy': 7057, 'taller': 7058, 'awkwardness': 7059, 'clammy': 7060, 'flashes': 7061, 'doubly': 7062, 'layer': 7063, 'surprising': 7064, 'daydream': 7065, 'wheat': 7066, 'console': 7067, 'port': 7068, 'comparatively': 7069, 'enemies': 7070, 'preform': 7071, 'girlfriends': 7072, 'stealing': 7073, 'homeless': 7074, 'limits': 7075, 'spoiled': 7076, 'auto': 7077, 'harmed': 7078, 'expressions': 7079, 'sensing': 7080, 'wistful': 7081, 'baffled': 7082, 'protest': 7083, 'wander': 7084, 'wouldve': 7085, 'winced': 7086, 'tones': 7087, 'michelle': 7088, 'attachment': 7089, 'collapse': 7090, 'kai': 7091, 'sliding': 7092, 'mouthed': 7093, 'confirmed': 7094, 'realness': 7095, 'rpgs': 7096, 'everythings': 7097, 'skirt': 7098, 'toon': 7099, 'holes': 7100, 'attach': 7101, 'musicianship': 7102, 'incense': 7103, 'figs': 7104, 'comfortably': 7105, 'gripped': 7106, 'ahaha': 7107, 'patted': 7108, 'upstairs': 7109, 'delightful': 7110, 'webkit': 7111, 'wushu': 7112, 'possessing': 7113, 'fleece': 7114, 'unliked': 7115, 'pole': 7116, 'deedee': 7117, 'renaissance': 7118, 'baroque': 7119, 'jamie': 7120, 'neferet': 7121, 'ths': 7122, 'advocates': 7123, 'lobbying': 7124, 'sympathic': 7125, 'wading': 7126, 'dispersed': 7127, 'fragmented': 7128, 'womb': 7129, 'genentech': 7130, 'takeover': 7131, 'idle': 7132, 'snapped': 7133, 'sheets': 7134, 'descend': 7135, 'jonalyn': 7136, 'finchers': 7137, 'soulation': 7138, 'glowing': 7139, 'thoughtful': 7140, 'tracy': 7141, 'atention': 7142, 'misstreated': 7143, 'affeccion': 7144, 'nonchalant': 7145, 'easi': 7146, 'particulary': 7147, 'packages': 7148, 'swore': 7149, 'shaved': 7150, 'refrence': 7151, 'comics': 7152, 'serendipity': 7153, 'collide': 7154, 'wounding': 7155, 'intrusive': 7156, 'knitter': 7157, 'siting': 7158, 'suppliments': 7159, 'nesting': 7160, 'homemaking': 7161, 'reprieve': 7162, 'heed': 7163, 'chipping': 7164, 'everyone’s': 7165, 'judgmental': 7166, 'paranormal': 7167, 'haunts': 7168, 'johann': 7169, 'accompany': 7170, 'khartoum': 7171, 'descara': 7172, 'ignorantly': 7173, 'convenient': 7174, 'receivers': 7175, 'steamy': 7176, 'zine': 7177, 'quixote': 7178, 'blinding': 7179, 'windmill': 7180, 'tazi': 7181, 'strives': 7182, 'compromising': 7183, 'individuality': 7184, 'varies': 7185, 'fantabulous': 7186, 'bake': 7187, 'noodle': 7188, 'fragment': 7189, 'metaphorically': 7190, 'destinys': 7191, 'printer': 7192, 'whingeing': 7193, 'biblical': 7194, 'scales': 7195, 'deteriorated': 7196, 'sabrina': 7197, 'notting': 7198, 'affirmations': 7199, 'harmonious': 7200, 'elbows': 7201, 'banged': 7202, 'valentines': 7203, 'jin': 7204, 'hee': 7205, 'lotte': 7206, 'lizards': 7207, 'darting': 7208, 'tia': 7209, 'vegetable': 7210, 'cleansing': 7211, 'leveled': 7212, 'faint': 7213, 'lll': 7214, 'inducing': 7215, 'deprecation': 7216, 'exertion': 7217, 'proves': 7218, 'oft': 7219, 'weeding': 7220, 'harvesting': 7221, 'amusement': 7222, 'irrevocably': 7223, 'scrapbook': 7224, 'velvet': 7225, 'patent': 7226, 'metallic': 7227, 'nemesis': 7228, 'tow': 7229, 'pickup': 7230, 'retreating': 7231, 'ignited': 7232, 'jordan': 7233, 'bulls': 7234, 'celtics': 7235, 'granting': 7236, 'titanium': 7237, 'hedgehog': 7238, 'vague': 7239, 'carl': 7240, 'clarke': 7241, 'blissfully': 7242, 'unaware': 7243, 'locate': 7244, 'margaret': 7245, 'jeff': 7246, 'grasping': 7247, 'eloquence': 7248, 'blending': 7249, 'sparked': 7250, 'ceramics': 7251, 'repairment': 7252, 'atelier': 7253, 'patrimony': 7254, 'primitive': 7255, 'arts': 7256, 'antiquities': 7257, 'ashtray': 7258, 'oldest': 7259, 'klysta': 7260, 'andrea': 7261, 'defenses': 7262, 'alt': 7263, 'onion': 7264, 'bundles': 7265, 'exhaustion': 7266, 'devastation': 7267, 'bobbing': 7268, 'exploring': 7269, 'formed': 7270, 'venerate': 7271, 'threaten': 7272, 'conducting': 7273, 'divided': 7274, 'housing': 7275, 'computers': 7276, 'extensions': 7277, 'goddamned': 7278, 'stereotypical': 7279, 'bullshit': 7280, 'grain': 7281, 'salt': 7282, 'submission': 7283, 'tickle': 7284, 'airplane': 7285, 'stretched': 7286, 'enviously': 7287, 'ping': 7288, 'savouring': 7289, 'unbound': 7290, 'biscuit': 7291, 'tin': 7292, 'guilted': 7293, 'boardwalk': 7294, 'twosongs': 7295, 'shaming': 7296, 'scolded': 7297, 'transportation': 7298, 'milligrams': 7299, 'recommended': 7300, 'protectiveness': 7301, 'witty': 7302, 'enought': 7303, 'counts': 7304, 'mun': 7305, 'jz': 7306, 'opera': 7307, 'shhhhhhh': 7308, 'rippling': 7309, 'fabrics': 7310, 'moe': 7311, 'coasted': 7312, 'figuratively': 7313, 'dale': 7314, 'frusterated': 7315, 'momentum': 7316, 'enacting': 7317, 'arrogance': 7318, 'clarify': 7319, 'adopting': 7320, 'repeating': 7321, 'partying': 7322, 'hairstyle': 7323, 'frizz': 7324, 'scandalized': 7325, 'nfl': 7326, 'dunham': 7327, 'hannahs': 7328, 'minimise': 7329, 'annotation': 7330, 'thequeenbuzz': 7331, 'nerdy': 7332, 'sciences': 7333, 'stoic': 7334, 'offline': 7335, 'fabolous': 7336, 'awaited': 7337, 'losos': 7338, 'aluminum': 7339, 'poetic': 7340, 'urgh': 7341, 'thirteen': 7342, 'shishido': 7343, 'senpai': 7344, 'stalled': 7345, 'cornered': 7346, 'browsers': 7347, 'uncoiling': 7348, 'caress': 7349, 'palms': 7350, 'dubstep': 7351, 'tatsuma': 7352, 'aoi': 7353, 'tidbit': 7354, 'departure': 7355, 'liriano': 7356, 'mate': 7357, 'dingler': 7358, 'absorbed': 7359, 'tomes': 7360, 'strewn': 7361, 'maddening': 7362, 'worsen': 7363, 'services': 7364, 'rad': 7365, 'mcdonalds': 7366, 'leers': 7367, 'noticeable': 7368, 'mums': 7369, 'refered': 7370, 'outta': 7371, 'peeing': 7372, 'irritability': 7373, 'sniffer': 7374, 'reflex': 7375, 'craftisan': 7376, 'organisation': 7377, 'demostrators': 7378, 'superstorm': 7379, 'sandy': 7380, 'newsprint': 7381, 'accuser': 7382, 'babychaser': 7383, 'extrememly': 7384, 'segregated': 7385, 'bro': 7386, 'limply': 7387, 'mayor': 7388, 'byron': 7389, 'acause': 7390, 'tossed': 7391, 'rob': 7392, 'unsophisticated': 7393, 'alteration': 7394, 'jumpy': 7395, 'bouncier': 7396, 'boiled': 7397, 'grandma': 7398, 'tail': 7399, 'accord': 7400, 'loathed': 7401, 'stirrings': 7402, 'ruins': 7403, 'farther': 7404, 'gig': 7405, 'winetasting': 7406, 'wines': 7407, 'smoker': 7408, 'regurgitate': 7409, 'irwins': 7410, 'absurdity': 7411, 'jerks': 7412, 'unsatisfying': 7413, 'internetsphere': 7414, 'lurk': 7415, 'theo': 7416, 'eli': 7417, 'quarters': 7418, 'bodega': 7419, 'devoid': 7420, 'coin': 7421, 'changer': 7422, 'doodlesandscrapsofme': 7423, 'rubble': 7424, 'solitary': 7425, 'romantically': 7426, 'sophat': 7427, 'kandal': 7428, 'crim': 7429, 'hefty': 7430, 'weighting': 7431, 'buckets': 7432, 'razor': 7433, 'blades': 7434, 'lowdown': 7435, 'countering': 7436, 'aims': 7437, 'provoke': 7438, 'bumbed': 7439, 'fil': 7440, 'supernatural': 7441, 'rammstein': 7442, 'proposals': 7443, 'crop': 7444, 'fossil': 7445, 'peril': 7446, 'nuance': 7447, 'wally': 7448, 'lamb': 7449, 'destruction': 7450, 'janne': 7451, 'suominen': 7452, 'normative': 7453, 'mighty': 7454, 'roar': 7455, 'ttc': 7456, 'laundering': 7457, 'miraculously': 7458, 'conquer': 7459, 'arranged': 7460, 'outings': 7461, 'whinging': 7462, 'acknowledgment': 7463, 'obsessing': 7464, 'blackburn': 7465, 'blackpool': 7466, 'holloway': 7467, 'shrinking': 7468, 'babysitter': 7469, 'accumulated': 7470, 'subpar': 7471, 'genuine': 7472, 'lacy': 7473, 'clawed': 7474, 'jajaja': 7475, 'interactive': 7476, 'beholding': 7477, 'indulged': 7478, 'generosity': 7479, 'amkris': 7480, 'toshibalol': 7481, 'amits': 7482, 'beef': 7483, 'nooo': 7484, 'paralysed': 7485, 'void': 7486, 'exit': 7487, 'elevator': 7488, 'booked': 7489, 'pet': 7490, 'revel': 7491, 'affords': 7492, 'transgender': 7493, 'brainwashing': 7494, 'deceive': 7495, 'physicians': 7496, 'germany': 7497, 'intersex': 7498, 'handprints': 7499, 'achy': 7500, 'blahness': 7501, 'vuitton': 7502, 'lv': 7503, 'thanking': 7504, 'permitting': 7505, 'regrets': 7506, 'crafting': 7507, 'screenwriters': 7508, 'spazzola': 7509, 'prima': 7510, 'andare': 7511, 'dormire': 7512, 'ply': 7513, 'tweedy': 7514, 'rowan': 7515, 'shawl': 7516, 'vocab': 7517, 'dashboard': 7518, 'containing': 7519, 'nickname': 7520, 'grapes': 7521, 'watermelon': 7522, 'berries': 7523, 'chopped': 7524, 'mint': 7525, 'liqueur': 7526, 'rum': 7527, 'drambuie': 7528, 'symbol': 7529, 'overtones': 7530, 'ink': 7531, 'sixties': 7532, 'regents': 7533, 'hierarchies': 7534, 'evolution': 7535, 'dorks': 7536, 'censorship': 7537, 'eagles': 7538, 'cooper': 7539, 'alotta': 7540, 'mumbling': 7541, 'addison': 7542, 'reed': 7543, 'collector': 7544, 'happend': 7545, 'nipping': 7546, 'overcompensate': 7547, 'mihm': 7548, 'divas': 7549, 'wrestlers': 7550, 'anesthetized': 7551, 'headless': 7552, 'fumes': 7553, 'purposeless': 7554, 'originals': 7555, 'rebekah': 7556, 'satisfactory': 7557, 'klaus': 7558, 'stefan': 7559, 'damon': 7560, 'cognize': 7561, 'disregarding': 7562, 'cosmos': 7563, 'yearses': 7564, 'ounce': 7565, 'apple': 7566, 'hiring': 7567, 'belt': 7568, 'instructors': 7569, 'dojo': 7570, 'bs': 7571, 'gladiator': 7572, 'constructed': 7573, 'outsiders': 7574, 'separating': 7575, 'ladybits': 7576, 'thaw': 7577, 'saddest': 7578, 'flaky': 7579, 'streaky': 7580, 'unhappiness': 7581, 'instructor': 7582, 'math': 7583, 'xdd': 7584, 'hohoho': 7585, 'foward': 7586, 'cya': 7587, 'skid': 7588, 'cooperative': 7589, 'slam': 7590, 'bosses': 7591, 'harass': 7592, 'fran': 7593, 'holyhead': 7594, 'jeannie': 7595, 'softball': 7596, 'hydration': 7597, 'pg': 7598, 'graying': 7599, 'barking': 7600, 'squirrels': 7601, 'roslin': 7602, 'lucks': 7603, 'hahaha': 7604, 'nikos': 7605, 'niko': 7606, 'funeral': 7607, 'phoenix': 7608, '“you’re': 7609, 'strong”': 7610, 'rumour': 7611, 'natures': 7612, 'diego': 7613, 'corrupting': 7614, 'vm': 7615, 'waxing': 7616, 'buried': 7617, 'amd': 7618, 'chuffed': 7619, 'xango': 7620, 'taryns': 7621, 'brushed': 7622, 'unlovable': 7623, 'confront': 7624, 'openness': 7625, 'lovebox': 7626, 'photographers': 7627, 'edits': 7628, 'fri': 7629, 'spain': 7630, 'mariah': 7631, 'carey': 7632, 'twd': 7633, 'dual': 7634, 'excellence': 7635, 'tedious': 7636, 'superhero': 7637, 'likewise': 7638, 'prints': 7639, 'leopard': 7640, 'haley': 7641, 'tightening': 7642, 'potted': 7643, 'fuchsia': 7644, 'cuttings': 7645, 'nephews': 7646, 'bin': 7647, 'statistic': 7648, 'hsps': 7649, 'hsp': 7650, 'remembers': 7651, 'interrupts': 7652, 'patriotism': 7653, 'debacle': 7654, 'atleast': 7655, 'nicest': 7656, 'kindest': 7657, 'clique': 7658, 'chooses': 7659, 'triple': 7660, 'notoriety': 7661, 'michigans': 7662, 'yorks': 7663, 'governor': 7664, 'prostitutes': 7665, 'wherefore': 7666, 'ableness': 7667, 'breed': 7668, 'concepts': 7669, 'drags': 7670, 'module': 7671, 'interacted': 7672, 'outstretched': 7673, 'bookworms': 7674, 'kiddies': 7675, 'sample': 7676, 'chaperone': 7677, 'humanly': 7678, 'observation': 7679, 'improvising': 7680, 'chilling': 7681, 'colourful': 7682, 'heaving': 7683, 'midcentury': 7684, 'paired': 7685, 'dresser': 7686, 'injected': 7687, 'venom': 7688, 'stating': 7689, 'beers': 7690, 'sidewalk': 7691, 'pothole': 7692, 'perry': 7693, 'brightly': 7694, 'litte': 7695, 'inadequacy': 7696, 'helena': 7697, 'bonham': 7698, 'sweeney': 7699, 'defiled': 7700, 'olivia': 7701, 'clench': 7702, 'jane': 7703, 'pollicino': 7704, 'hunch': 7705, 'purest': 7706, 'perplexed': 7707, 'liam': 7708, 'johnny': 7709, 'certified': 7710, 'ace': 7711, 'brazil': 7712, 'daylight': 7713, 'claustrophobic': 7714, 'crunched': 7715, 'prisoner': 7716, 'guidelines': 7717, 'milonga': 7718, 'bunking': 7719, 'throngs': 7720, 'fervor': 7721, 'photographing': 7722, 'radiates': 7723, 'ffs': 7724, 'inconsequential': 7725, 'illicit': 7726, 'ungraciously': 7727, 'imbibed': 7728, 'incalculable': 7729, 'mischief': 7730, 'hyenas': 7731, 'bohemian': 7732, 'foundry': 7733, 'lending': 7734, 'wherewithal': 7735, 'deepening': 7736, 'dukes': 7737, 'manifestations': 7738, 'whiff': 7739, 'mushy': 7740, 'feverishly': 7741, 'heartrending': 7742, 'marketer': 7743, 'motel': 7744, 'appts': 7745, 'diktats': 7746, 'inform': 7747, 'arsenal': 7748, 'relieving': 7749, 'mastered': 7750, 'piddi': 7751, 'maggie': 7752, 'lees': 7753, 'vol': 7754, 'reel': 7755, 'pros': 7756, 'bishan': 7757, 'fetch': 7758, 'refresh': 7759, 'warned': 7760, 'sorted': 7761, 'unappreciative': 7762, 'retreat': 7763, 'migraine': 7764, 'laden': 7765, 'roasted': 7766, 'understandable': 7767, 'dedicated': 7768, 'luminary': 7769, 'aligncenter': 7770, 'wp': 7771, 'mrdanbaird': 7772, 'imperfection': 7773, 'coerced': 7774, 'pendant': 7775, 'clocking': 7776, 'mcraven': 7777, 'ut': 7778, 'plusone': 7779, 'wilcfry': 7780, 'painless': 7781, 'flirt': 7782, 'identifying': 7783, 'cease': 7784, 'facial': 7785, 'modifying': 7786, 'resumes': 7787, 'reactive': 7788, 'wheeeeee': 7789, 'nurses': 7790, 'boo': 7791, 'friggety': 7792, 'hoo': 7793, 'decaf': 7794, 'wretch': 7795, 'nothnig': 7796, 'someoen': 7797, 'lauging': 7798, 'lyric': 7799, 'smitten': 7800, 'eyelashes': 7801, 'rucksack': 7802, 'vented': 7803, 'schindlers': 7804, 'rereading': 7805, 'portraying': 7806, 'mollusk': 7807, 'cloth': 7808, 'stabbed': 7809, 'marlins': 7810, 'pitiful': 7811, 'tempered': 7812, 'hiit': 7813, 'interval': 7814, 'poured': 7815, 'liv': 7816, 'recurring': 7817, 'bridgewater': 7818, 'burns': 7819, 'victims': 7820, 'eaters': 7821, 'wearers': 7822, 'coolness': 7823, 'paraphrase': 7824, 'ranted': 7825, 'crafted': 7826, 'therapi': 7827, 'packaging': 7828, 'luxe': 7829, 'retains': 7830, 'sumthg': 7831, 'thk': 7832, 'pops': 7833, 'monopoly': 7834, 'thatrupert': 7835, 'sustainability': 7836, 'batting': 7837, 'milestones': 7838, 'filmic': 7839, 'orgy': 7840, 'depravity': 7841, 'delivered': 7842, 'divorcee': 7843, 'handrail': 7844, 'basement': 7845, 'apron': 7846, 'revalidation': 7847, 'portfolio': 7848, 'outing': 7849, 'grimaced': 7850, 'moribund': 7851, 'condemn': 7852, 'thrifted': 7853, 'krista': 7854, 'heals': 7855, 'impoverished': 7856, 'folds': 7857, 'unpaved': 7858, 'johnnykaje': 7859, 'graduated': 7860, 'racial': 7861, 'slur': 7862, 'aimed': 7863, 'agiatated': 7864, 'geez': 7865, 'mord': 7866, 'sith': 7867, 'exhaling': 7868, 'vapor': 7869, 'clerk': 7870, 'willingness': 7871, 'va': 7872, 'prandi': 7873, 'tasting': 7874, 'bottling': 7875, 'dumping': 7876, 'liveagainsttheflow': 7877, 'nearby': 7878, 'rotund': 7879, 'buffed': 7880, 'bloke': 7881, 'alexis': 7882, 'silhouette': 7883, 'gaping': 7884, 'controlling': 7885, 'wary': 7886, 'optimism': 7887, 'refusal': 7888, 'confessions': 7889, 'planner': 7890, 'bridezillas': 7891, 'grooms': 7892, 'dramas': 7893, 'rating': 7894, 'glare': 7895, 'directed': 7896, 'tornado': 7897, 'lethal': 7898, 'overdose': 7899, 'kissed': 7900, 'smarter': 7901, 'quicken': 7902, 'abandonment': 7903, 'cliche': 7904, 'traced': 7905, 'constellations': 7906, 'aligned': 7907, 'illogically': 7908, 'mug': 7909, 'festivals': 7910, 'fateh': 7911, 'var': 7912, 'spiders': 7913, 'sharia': 7914, 'union': 7915, 'thesis': 7916, 'glc': 7917, 'diazepam': 7918, 'takeing': 7919, 'exposure': 7920, 'humbugs': 7921, 'displaced': 7922, 'acceptances': 7923, 'allowances': 7924, 'prettiest': 7925, 'starbucks': 7926, 'forefoot': 7927, 'lateral': 7928, 'adrift': 7929, 'terrain': 7930, 'inconsistent': 7931, 'darned': 7932, 'zara': 7933, 'shits': 7934, 'petition': 7935, 'juliannas': 7936, 'murt': 7937, 'tactics': 7938, 'booking': 7939, 'pe': 7940, 'solves': 7941, 'conscientious': 7942, 'maschke': 7943, 'cruel': 7944, 'risked': 7945, 'unsettling': 7946, 'paramilitary': 7947, 'unza': 7948, 'intimidating': 7949, 'lends': 7950, 'projected': 7951, 'overtook': 7952, 'breathless': 7953, 'juggling': 7954, 'environmental': 7955, 'wishful': 7956, 'unconcern': 7957, 'callous': 7958, 'unfaithful': 7959, 'flogger': 7960, 'wielded': 7961, 'phases': 7962, 'caramel': 7963, 'syrup': 7964, 'shhh': 7965, 'cellular': 7966, 'batch': 7967, 'mortuary': 7968, 'compasionate': 7969, 'greiving': 7970, 'intact': 7971, 'saskatchewan': 7972, 'fold': 7973, 'embarked': 7974, 'goliath': 7975, 'humblest': 7976, 'continent': 7977, 'messes': 7978, 'commandments': 7979, 'strengthened': 7980, 'bummed': 7981, 'regained': 7982, 'bulletin': 7983, 'ecology': 7984, 'slicing': 7985, 'knife': 7986, 'creamy': 7987, 'cheesecake': 7988, 'varvel': 7989, 'tolerated': 7990, 'continuously': 7991, 'suicidalness': 7992, 'tougher': 7993, 'laziness': 7994, 'gratuitously': 7995, 'dysphoria': 7996, 'fend': 7997, 'ick': 7998, 'delve': 7999, 'sec': 8000, 'deaths': 8001, 'seriousness': 8002, 'oven': 8003, 'bunny': 8004, 'seafood': 8005, 'clams': 8006, 'prawns': 8007, 'shark': 8008, 'fins': 8009, 'innanimate': 8010, 'carpet': 8011, 'contracted': 8012, 'sti': 8013, 'condone': 8014, 'sensed': 8015, 'reestablish': 8016, 'bravely': 8017, 'dannika': 8018, 'travelogue': 8019, 'clung': 8020, 'uniform': 8021, 'glove': 8022, 'pig': 8023, 'cordial': 8024, 'exemplified': 8025, 'blowout': 8026, 'ramadan': 8027, 'liberated': 8028, 'bound': 8029, 'wizarding': 8030, 'mudbloods': 8031, 'breeds': 8032, 'whatnot': 8033, 'external': 8034, 'heightened': 8035, 'seduce': 8036, 'conned': 8037, 'connived': 8038, 'treacherous': 8039, 'ideally': 8040, 'acim': 8041, 'abraham': 8042, 'shouted': 8043, 'outshines': 8044, 'brightest': 8045, 'unencumberedness': 8046, 'joshua': 8047, 'rockabilly': 8048, 'occasions': 8049, 'vegitarianism': 8050, 'boundary': 8051, 'projecting': 8052, 'everchanging': 8053, 'sailormoon': 8054, 'gateway': 8055, 'devestated': 8056, 'grave': 8057, 'explains': 8058, 'prided': 8059, 'unbreakable': 8060, 'suppress': 8061, 'tiring': 8062, 'render': 8063, 'thearchitecturality': 8064, 'utopian': 8065, 'coldplays': 8066, 'digesting': 8067, 'sweeteners': 8068, 'refined': 8069, 'guitars': 8070, 'blurt': 8071, 'stab': 8072, 'reexplain': 8073, 'endorphins': 8074, 'flowing': 8075, 'marveling': 8076, 'hurricanes': 8077, 'storms': 8078, 'centuries': 8079, 'seized': 8080, 'maxs': 8081, 'crib': 8082, 'ashame': 8083, 'providence': 8084, 'protecting': 8085, 'nano': 8086, 'consignment': 8087, 'goodwill': 8088, 'paratroopers': 8089, 'conduct': 8090, 'missions': 8091, 'multitasking': 8092, 'destination': 8093, 'ibs': 8094, 'bowel': 8095, 'awkwardly': 8096, 'melbourne': 8097, 'ima': 8098, 'tethered': 8099, 'suitcases': 8100, 'cashmere': 8101, 'sweaters': 8102, 'rainboots': 8103, 'linda': 8104, 'confrontational': 8105, 'thrive': 8106, 'executive': 8107, 'corporate': 8108, 'spreads': 8109, 'pregant': 8110, 'forefingers': 8111, 'thumbs': 8112, 'pinned': 8113, 'inferiority': 8114, 'socket': 8115, 'breakthrough': 8116, 'imminent': 8117, 'pristine': 8118, 'boutique': 8119, 'nuh': 8120, 'ranbir': 8121, 'directors': 8122, 'ayan': 8123, 'mukerji': 8124, 'filmfare': 8125, 'brassed': 8126, 'louche': 8127, 'laminate': 8128, 'bgr': 8129, 'seriouly': 8130, 'tody': 8131, 'irritate': 8132, 'guinea': 8133, 'pigs': 8134, 'acumen': 8135, 'ensues': 8136, 'weren': 8137, 'blogland': 8138, 'locking': 8139, 'abortion': 8140, 'yelp': 8141, 'emillionstars': 8142, 'workload': 8143, 'upfront': 8144, 'conclude': 8145, 'maintained': 8146, 'outset': 8147, 'mccanns': 8148, 'disappearance': 8149, 'giveaways': 8150, 'scratchy': 8151, 'marge': 8152, 'simpson': 8153, 'reuse': 8154, 'scrap': 8155, 'sized': 8156, 'haka': 8157, 'unplanned': 8158, 'saints': 8159, 'wets': 8160, 'californians': 8161, 'wink': 8162, 'argued': 8163, 'verdicts': 8164, 'oblige': 8165, 'sights': 8166, 'peacefulness': 8167, 'oily': 8168, 'moisturizing': 8169, 'brokeup': 8170, 'sharpe': 8171, 'sheri': 8172, 'initally': 8173, 'internist': 8174, 'sarcoma': 8175, 'insult': 8176, 'surgeries': 8177, 'emergencies': 8178, 'coherent': 8179, 'tangent': 8180, 'nutrient': 8181, 'dense': 8182, 'spaghetti': 8183, 'meatballs': 8184, 'shoulding': 8185, 'admires': 8186, 'rooster': 8187, 'underwhelmed': 8188, 'mustered': 8189, 'dismantle': 8190, 'stiffly': 8191, 'blunt': 8192, 'paints': 8193, 'plein': 8194, 'overanalyzed': 8195, 'submissions': 8196, 'conforming': 8197, 'yearnings': 8198, 'toenails': 8199, 'nokia': 8200, 'blanked': 8201, 'seamlessly': 8202, 'inferring': 8203, 'hackles': 8204, 'shapeshifter': 8205, 'concidence': 8206, 'percolated': 8207, 'synonym': 8208, 'rooted': 8209, 'carcenogenic': 8210, 'pleasantness': 8211, 'illusion': 8212, 'trembly': 8213, 'provokingbeauty': 8214, 'excelling': 8215, 'warnings': 8216, 'msm': 8217, 'rudely': 8218, 'scolding': 8219, 'sobriety': 8220, 'fanatics': 8221, 'toughest': 8222, 'resonance': 8223, 'woodlands': 8224, 'incase': 8225, 'forums': 8226, 'hasan': 8227, 'modest': 8228, 'schadenfreude': 8229, 'dealer': 8230, 'philters': 8231, 'paaker': 8232, 'hastings': 8233, 'insisted': 8234, 'mins': 8235, 'rightful': 8236, 'predecessor': 8237, 'digust': 8238, 'gusto': 8239, 'multiplication': 8240, 'suuuper': 8241, 'caterpillars': 8242, 'uplift': 8243, 'unreal': 8244, 'blender': 8245, 'prowl': 8246, 'waning': 8247, 'portrayals': 8248, 'sparkly': 8249, 'lighted': 8250, 'attempted': 8251, 'nevermind': 8252, 'hip': 8253, 'haves': 8254, 'dvds': 8255, 'grumbled': 8256, 'cynicism': 8257, 'clubbed': 8258, 'mary': 8259, 'caffeined': 8260, 'replica': 8261, 'restore': 8262, 'kneel': 8263, 'attain': 8264, 'hapiness': 8265, 'nashville': 8266, 'stranded': 8267, 'fraser': 8268, 'submerged': 8269, 'wd': 8270, 'vehicle': 8271, 'applebees': 8272, 'behaves': 8273, '“toughen': 8274, 'up”': 8275, 'heir': 8276, 'defination': 8277, 'perils': 8278, 'villian': 8279, 'vault': 8280, 'judges': 8281, 'fortunately': 8282, 'ample': 8283, 'migrate': 8284, 'cruise': 8285, 'expressway': 8286, 'disappears': 8287, 'unintentionally': 8288, 'blew': 8289, 'caretaker': 8290, 'biopsies': 8291, 'energetically': 8292, 'athf': 8293, 'robot': 8294, 'adress': 8295, 'replaying': 8296, 'ripped': 8297, 'permission': 8298, 'buns': 8299, 'reveling': 8300, 'header': 8301, 'blowjob': 8302, 'excelent': 8303, 'thankk': 8304, 'predatory': 8305, 'deform': 8306, 'shortlisted': 8307, 'dashed': 8308, 'jades': 8309, 'spencers': 8310, 'sacrifices': 8311, 'prizecompetition': 8312, 'transient': 8313, 'par': 8314, 'faculties': 8315, 'crosswords': 8316, 'coulter': 8317, 'schultz': 8318, 'outrage': 8319, 'tirades': 8320, 'reluctance': 8321, 'employ': 8322, 'splashes': 8323, 'conventional': 8324, 'surfaces': 8325, 'soulbitesblog': 8326, 'flooded': 8327, 'influx': 8328, 'disbelief': 8329, 'rounds': 8330, 'floors': 8331, 'strained': 8332, 'rlsh': 8333, 'gimmick': 8334, 'occurs': 8335, 'explosive': 8336, 'mend': 8337, 'greetings': 8338, 'waft': 8339, 'guardian': 8340, 'contests': 8341, 'indiscriminately': 8342, 'temporarily': 8343, 'ratings': 8344, 'iris': 8345, 'mobility': 8346, 'vey': 8347, 'oncology': 8348, 'dpt': 8349, 'paranoiud': 8350, 'oppressive': 8351, 'tropical': 8352, 'torch': 8353, 'fiddly': 8354, 'necessities': 8355, 'survives': 8356, 'jonesing': 8357, 'renovations': 8358, 'resulted': 8359, 'bangs': 8360, 'oprah': 8361, 'alert': 8362, 'dozens': 8363, 'thirty': 8364, 'predicted': 8365, 'gallows': 8366, 'zooms': 8367, 'foibles': 8368, 'entertains': 8369, 'storytelling': 8370, 'rustie': 8371, 'dean': 8372, 'moose': 8373, 'tighter': 8374, 'nancy': 8375, 'differs': 8376, 'jonny': 8377, 'gardening': 8378, 'magnificent': 8379, 'kook': 8380, 'nicos': 8381, 'tab': 8382, 'incessant': 8383, 'bitching': 8384, 'coloured': 8385, 'pinch': 8386, 'quantity': 8387, 'awesomeness': 8388, 'tdy': 8389, 'interrupt': 8390, 'gospel': 8391, 'savior': 8392, 'unsteady': 8393, 'postgraduate': 8394, 'bestfriend': 8395, 'bff': 8396, 'coward': 8397, 'archdiocese': 8398, 'restoration': 8399, 'cathedral': 8400, 'strategic': 8401, 'noodles': 8402, 'potatoe': 8403, 'miso': 8404, 'withdrawing': 8405, 'discomforting': 8406, 'interpreted': 8407, 'twat': 8408, 'advertised': 8409, 'joking': 8410, 'approaches': 8411, 'shackles': 8412, 'norms': 8413, 'overdo': 8414, 'busting': 8415, 'mouse': 8416, 'perpetually': 8417, 'sheltered': 8418, 'battered': 8419, 'upheaval': 8420, 'avenue': 8421, 'goin': 8422, 'moshav': 8423, 'dancin': 8424, 'beatles': 8425, 'mythology': 8426, 'kiddos': 8427, 'daniel': 8428, 'sweetheart': 8429, 'preceptor': 8430, 'humming': 8431, 'melty': 8432, 'crisp': 8433, 'autumn': 8434, 'drugged': 8435, 'supersensitive': 8436, 'cleary': 8437, 'overtly': 8438, 'pretends': 8439, 'khi': 8440, 'rephrase': 8441, 'assess': 8442, 'grandeur': 8443, 'lotta': 8444, 'bodily': 8445, 'thinker': 8446, 'loopy': 8447, 'trivial': 8448, 'opis': 8449, 'sashy': 8450, 'purple': 8451, 'lavander': 8452, 'interpretations': 8453, 'employment': 8454, 'stylings': 8455, 'bleh': 8456, 'unwarranted': 8457, 'dis': 8458, 'federer': 8459, 'fury': 8460, 'synchronicity': 8461, 'mopping': 8462, 'uphill': 8463, 'flaccid': 8464, 'erased': 8465, 'intermarrying': 8466, 'decrease': 8467, 'urinate': 8468, 'semen': 8469, 'gatorade': 8470, 'butttt': 8471, 'semuanya': 8472, 'sudah': 8473, 'terlambat': 8474, 'miller': 8475, 'canadas': 8476, 'inspection': 8477, 'govern': 8478, 'ptsd': 8479, 'modeling': 8480, 'robin': 8481, 'duet': 8482, 'spurging': 8483, 'breakdowns': 8484, 'amped': 8485, 'dinks': 8486, 'prettymuch': 8487, 'acronym': 8488, 'pearly': 8489, 'labors': 8490, 'gloss': 8491, 'sor': 8492, 'emm': 8493, 'gillard': 8494, 'undertaken': 8495, 'dawning': 8496, 'marlowe': 8497, 'humanitys': 8498, 'ruthless': 8499, 'rapacity': 8500, 'schalm': 8501, 'lightning': 8502, 'uncanny': 8503, 'dickinson': 8504, 'dashes': 8505, 'semi': 8506, 'enjambment': 8507, 'sonnet': 8508, 'agreeing': 8509, 'doorway': 8510, 'flicking': 8511, 'contacts': 8512, 'equilibrium': 8513, 'sims': 8514, 'popping': 8515, 'wettest': 8516, 'rec': 8517, 'reagan': 8518, 'nic': 8519, 'apendages': 8520, 'organs': 8521, 'direct': 8522, 'clown': 8523, 'coppers': 8524, 'disinfected': 8525, 'cooking': 8526, 'mystique': 8527, 'peeking': 8528, 'boughs': 8529, 'reducing': 8530, 'empties': 8531, 'uneffected': 8532, 'bombed': 8533, 'recless': 8534, 'mamma': 8535, 'headlock': 8536, 'whooooos': 8537, 'whooooooooos': 8538, 'whooooo': 8539, 'craaaaaaack': 8540, 'resurrect': 8541, 'lengthy': 8542, 'celebrity': 8543, 'completing': 8544, 'choice—one': 8545, 'culmination': 8546, 'clubs': 8547, 'dancefloor': 8548, 'tempo': 8549, 'inexcusable': 8550, 'bestial': 8551, 'macho': 8552, 'tenge': 8553, 'concurrently': 8554, 'trajectory': 8555, 'jeremy': 8556, 'murua': 8557, 'careess': 8558, 'reaches': 8559, 'criticism': 8560, 'risky': 8561, 'underage': 8562, 'kardashion': 8563, 'arabia': 8564, 'indigenous': 8565, 'deployed': 8566, 'weapon': 8567, 'civilians': 8568, 'facilities': 8569, 'concise': 8570, 'accurately': 8571, 'singular': 8572, 'permanenter': 8573, 'zum': 8574, 'eintrag': 8575, 'chased': 8576, 'velocity': 8577, 'singed': 8578, 'frail': 8579, 'concoction': 8580, 'libertine': 8581, 'saudi': 8582, 'scented': 8583, 'terminal': 8584, 'dulles': 8585, 'scissor': 8586, 'fob': 8587, 'scad': 8588, 'gastric': 8589, 'indigo': 8590, 'originality': 8591, 'conformity': 8592, 'chabad': 8593, 'sukkah': 8594, 'filter': 8595, 'woven': 8596, 'schach': 8597, 'lattice': 8598, 'anchorage': 8599, 'joint': 8600, 'stroll': 8601, 'addict': 8602, 'riled': 8603, 'unsheathe': 8604, 'sword': 8605, 'transformations': 8606, 'emerged': 8607, 'tilt': 8608, 'foodie': 8609, 'inaction': 8610, 'defriended': 8611, 'alcest': 8612, 'deborah': 8613, 'lippmann': 8614, 'staining': 8615, 'ws': 8616, 'modified': 8617, 'peachy': 8618, 'jelly': 8619, 'sation': 8620, 'byte': 8621, 'dotting': 8622, 'fullest': 8623, 'karma': 8624, 'cosmetic': 8625, 'restricted': 8626, 'captain': 8627, 'criminals': 8628, 'interrupted': 8629, 'benadryl': 8630, 'effin': 8631, 'neal': 8632, 'cohort': 8633, 'institution': 8634, 'dubbed': 8635, 'brethren': 8636, 'screamed': 8637, 'discriminated': 8638, 'ny': 8639, 'notices': 8640, 'soley': 8641, 'itchy': 8642, 'likeaudrey': 8643, 'hepburn': 8644, 'tiffanys': 8645, 'venus': 8646, 'obedience': 8647, 'cajoled': 8648, 'bullied': 8649, 'hahahahahha': 8650, 'unilaterally': 8651, 'carelessness': 8652, 'perceived': 8653, 'abuses': 8654, 'congress': 8655, 'intellectually': 8656, 'obrian': 8657, 'characterisation': 8658, 'pupils': 8659, 'contributed': 8660, 'biochem': 8661, 'hyde': 8662, 'gem': 8663, 'luftwaffe': 8664, 'trickery': 8665, 'expands': 8666, 'glanced': 8667, 'sidewalks': 8668, 'dazzling': 8669, 'cert': 8670, 'comedies': 8671, 'woody': 8672, 'allen': 8673, 'brooks': 8674, 'earl': 8675, 'valorized': 8676, 'dangerously': 8677, 'khezef': 8678, 'pileon': 8679, 'newborns': 8680, 'photographed': 8681, 'constellation': 8682, 'justly': 8683, 'traders': 8684, 'spoiler': 8685, 'accumulation': 8686, 'elusive': 8687, 'halls': 8688, 'residence': 8689, 'audre': 8690, 'lorde': 8691, 'girlie': 8692, 'reassures': 8693, 'cats': 8694, 'hauntings': 8695, 'blanks': 8696, 'fierceness': 8697, 'caffeinated': 8698, 'xia': 8699, 'l': 8700, 'omegle': 8701, 'polyvore': 8702, 'advent': 8703, 'tacos': 8704, 'vowed': 8705, 'scafell': 8706, 'fangirls': 8707, 'estrangement': 8708, 'batman': 8709, 'envous': 8710, 'canceled': 8711, 'senegal': 8712, 'rejections': 8713, 'farafina': 8714, 'cassava': 8715, 'bombs': 8716, 'journals': 8717, 'principles': 8718, 'proximity': 8719, 'credential': 8720, 'nyquil': 8721, 'bent': 8722, 'knee': 8723, 'irresponcible': 8724, 'diagnosis': 8725, 'generalised': 8726, 'cluttered': 8727, 'embossed': 8728, 'feather': 8729, 'nevercontrary': 8730, 'injuring': 8731, 'sizes': 8732, 'divinity': 8733, 'taxation': 8734, 'clueless': 8735, 'branding': 8736, 'mesmerism': 8737, 'punctual': 8738, 'crol': 8739, 'tl': 8740, 'babe': 8741, 'peaches': 8742, 'pickle': 8743, 'ducks': 8744, 'pondered': 8745, 'witches': 8746, 'countryside': 8747, 'fresher': 8748, 'bobby': 8749, 'melodramatically': 8750, 'sweatshirt': 8751, 'taco': 8752, 'shoeless': 8753, 'tpt': 8754, 'aversary': 8755, 'journaling': 8756, 'untrieds': 8757, 'generator': 8758, 'incessantly': 8759, 'alway': 8760, 'elusively': 8761, 'patio': 8762, 'storming': 8763, 'flush': 8764, 'natives': 8765, 'equivalent': 8766, 'slr': 8767, 'impostor': 8768, 'visitor': 8769, 'intoxicating': 8770, 'vexed': 8771, 'hertha': 8772, 'moz': 8773, 'ativan': 8774, 'eurgh': 8775, 'serina': 8776, 'cleaner': 8777, 'carniola': 8778, 'announcing': 8779, 'consultation': 8780, 'efficiently': 8781, 'classwork': 8782, 'ac': 8783, 'embark': 8784, 'shyness': 8785, 'aloof': 8786, 'adolescence': 8787, 'guns': 8788, 'inquire': 8789, 'incheswhyinches': 8790, 'relocating': 8791, 'droves': 8792, 'plantar': 8793, 'fascitis': 8794, 'disorganised': 8795, 'uuuugh': 8796, 'intolerably': 8797, 'lifeline': 8798, 'cleat': 8799, 'duct': 8800, 'gentrified': 8801, 'ghettos': 8802, 'fam': 8803, 'ditlevsen': 8804, 'veggie': 8805, 'camilla': 8806, 'autistic': 8807, 'copper': 8808, 'pipes': 8809, 'contemplated': 8810, 'flowed': 8811, 'outward': 8812, 'puteri': 8813, 'evoking': 8814, 'legends': 8815, 'fairies': 8816, 'instinctively': 8817, 'passer': 8818, 'destinies': 8819, 'disco': 8820, 'frightening': 8821, 'frightful': 8822, 'diabetics': 8823, 'subscriber': 8824, 'chunky': 8825, 'commissions': 8826, 'bride': 8827, 'reeeeeeeeally': 8828, 'clicked': 8829, 'cuffs': 8830, 'anklets': 8831, 'flats': 8832, 'pockets': 8833, 'sox': 8834, 'tampa': 8835, 'advise': 8836, 'sleeve': 8837, 'flirtiness': 8838, 'peeta': 8839, 'katnisss': 8840, 'buti': 8841, 'arlovski': 8842, 'ufc': 8843, 'johnson': 8844, 'considers': 8845, 'riots': 8846, 'immedietly': 8847, 'wal': 8848, 'mart': 8849, 'mojo': 8850, 'consulting': 8851, 'newspaper': 8852, 'incestuous': 8853, 'twoyear': 8854, 'abhorrent': 8855, 'medicated': 8856, \"everyone's\": 8857, 'anythings': 8858, 'virtual': 8859, 'dennis': 8860, 'covingtons': 8861, 'emphasise': 8862, 'entertain': 8863, 'mulatto': 8864, 'libido': 8865, 'firefly': 8866, \"you're\": 8867, 'teasing': 8868, 'neighbour': 8869, 'muze': 8870, 'mujhe': 8871, 'zay': 8872, 'subsided': 8873, 'shakiness': 8874, 'strangling': 8875, 'bastards': 8876, 'banging': 8877, 'boats': 8878, 'syaing': 8879, 'superpowers': 8880, 'witted': 8881, 'dontknow': 8882, 'linus': 8883, 'sri': 8884, 'lankas': 8885, 'entirelly': 8886, 'rekindle': 8887, 'mysalvagedtreasures': 8888, 'unpleasantly': 8889, 'zooming': 8890, 'trinity': 8891, 'reeling': 8892, 'filtered': 8893, 'behaving': 8894, 'stills': 8895, 'deen': 8896, 'bandhu': 8897, 'uplifter': 8898, 'devotees': 8899, 'progresses': 8900, 'usmleasy': 8901, 'lyman': 8902, 'psychologists': 8903, 'poll': 8904, 'zhu': 8905, 'snapbacks': 8906, 'lotus': 8907, 'snapback': 8908, 'revealthestaryoutrulyare': 8909, 'conquerer': 8910, 'endlessly': 8911, 'proclaim': 8912, 'clamouring': 8913, 'exicting': 8914, 'slips': 8915, 'thatd': 8916, 'trousers': 8917, 'looser': 8918, 'truthfully': 8919, 'salad': 8920, 'homis': 8921, 'modes': 8922, 'fullness': 8923, 'hawk': 8924, 'dykey': 8925, 'substantially': 8926, 'edition': 8927, 'mormons': 8928, 'depressants': 8929, 'startling': 8930, 'recommendation': 8931, 'sadhana': 8932, 'trailer': 8933, 'frames': 8934, 'flaking': 8935, 'remix': 8936, 'reliving': 8937, 'prequel': 8938, 'jedi': 8939, 'unsuitable': 8940, 'twas': 8941, 'bedside': 8942, 'embarrass': 8943, 'spitball': 8944, 'pillow': 8945, 'luring': 8946, 'lair': 8947, 'benedictine': 8948, 'monastic': 8949, 'blister': 8950, 'flops': 8951, 'beanbag': 8952, \"it's\": 8953, 'twists': 8954, 'moffat': 8955, 'foreshadowing': 8956, 'narrative': 8957, 'kiat': 8958, 'obsessive': 8959, 'anal': 8960, 'mails': 8961, 'andintrupte': 8962, 'trad': 8963, 'bagan': 8964, 'asciatic': 8965, 'pi': 8966, 'ata': 8967, 'spewing': 8968, 'lowest': 8969, 'models': 8970, 'jun': 8971, 'nachos': 8972, 'spats': 8973, 'pause': 8974, 'flirtiing': 8975, 'copycat': 8976, 'hoops': 8977, 'enable': 8978, 'befuddled': 8979, 'bengals': 8980, 'documenti': 8981, 'becasue': 8982, 'endeavor': 8983, 'deke': 8984, 'butchery': 8985, 'elementary': 8986, 'coerce': 8987, 'lunchroom': 8988, 'imagebox': 8989, 'clinique': 8990, 'chakotay': 8991, 'approached': 8992, 'enveloped': 8993, 'tremendous': 8994, 'theologically': 8995, 'tychelle': 8996, 'nonexistent': 8997, 'muaz': 8998, 'pencils': 8999, 'nonetheless': 9000, 'exhibit': 9001, 'grossman': 9002, 'farewell': 9003, 'sponsors': 9004, 'releasing': 9005, 'escaped': 9006, 'interminable': 9007, 'bods': 9008, 'gowns': 9009, 'lapels': 9010, 'spectacle': 9011, 'intents': 9012, 'purposes': 9013, 'lurker': 9014, 'haggle': 9015, 'explodes': 9016, 'debris': 9017, 'bombing': 9018, 'coca': 9019, 'cola': 9020, 'teams': 9021, 'backup': 9022, 'bites': 9023, 'hmmmmm': 9024, 'jene': 9025, 'braved': 9026, 'misjudged': 9027, 'harmfully': 9028, 'cheat': 9029, 'defiant': 9030, 'solomon': 9031, 'whales': 9032, 'seals': 9033, 'horned': 9034, 'insular': 9035, 'minuscule': 9036, 'xviith': 9037, 'strick': 9038, 'van': 9039, 'den': 9040, 'velde': 9041, 'traction': 9042, 'denise': 9043, 'seeps': 9044, 'valid': 9045, 'complaint': 9046, 'subjective': 9047, 'commodities': 9048, 'dissolving': 9049, 'frosty': 9050, 'wills': 9051, 'rumors': 9052, 'submarine': 9053, 'cartwheel': 9054, 'ankle': 9055, 'calf': 9056, 'ribcage': 9057, 'metals': 9058, 'sector': 9059, 'futures': 9060, 'perusal': 9061, 'brooms': 9062, 'colin': 9063, 'disconsolate': 9064, 'exert': 9065, 'weighed': 9066, 'munching': 9067, 'craisins': 9068, 'detailed': 9069, 'jag': 9070, 'jointly': 9071, 'omitted': 9072, 'nyps': 9073, 'stimulation': 9074, 'snooped': 9075, 'idiocy': 9076, 'fastforwarding': 9077, 'gloom': 9078, 'possessions': 9079, 'le': 9080, 'attire': 9081, 'attainable': 9082, 'kierkegaard': 9083, 'philosopher': 9084, 'directing': 9085, 'zenos': 9086, 'homelands': 9087, 'aconfident': 9088, 'overcomet': 9089, 'announce': 9090, 'aoa': 9091, 'operating': 9092, 'manifest': 9093, 'tactic': 9094, 'progressively': 9095, 'dumpee': 9096, 'stem': 9097, 'execute': 9098, 'dishwasher': 9099, 'jersey': 9100, 'sheepish': 9101, 'gauge': 9102, 'flogged': 9103, 'pierced': 9104, 'paste': 9105, 'sniping': 9106, 'pulls': 9107, 'heinous': 9108, 'bikini': 9109, 'shafted': 9110, 'flux': 9111, 'doha': 9112, 'womens': 9113, 'befc': 9114, 'ebooks': 9115, 'monitoring': 9116, 'resenting': 9117, 'paparazzi': 9118, 'zq': 9119, 'jcho': 9120, 'cpine': 9121, 'moist': 9122, 'stuffings': 9123, 'ahhh': 9124, 'veer': 9125, 'disorientated': 9126, 'carping': 9127, 'bothersome': 9128, 'distrustful': 9129, 'minimal': 9130, 'revenue': 9131, 'sarcoidosis': 9132, 'expanding': 9133, 'thrilling': 9134, 'implications': 9135, 'uganda': 9136, 'normalcy': 9137, 'zumba': 9138, 'esque': 9139, 'epileptic': 9140, 'cathy': 9141, 'smidgen': 9142, 'negligible': 9143, 'blip': 9144, 'benched': 9145, 'disappointments': 9146, 'tingles': 9147, 'dependence': 9148, 'jillian': 9149, 'drenched': 9150, 'abundance': 9151, 'constructively': 9152, 'herd': 9153, 'mindless': 9154, 'hoards': 9155, 'bestselling': 9156, 'kathy': 9157, 'lette': 9158, 'yawwwn': 9159, 'boosted': 9160, 'fertile': 9161, 'uninteresting': 9162, 'undesired': 9163, 'unsupported': 9164, 'whistles': 9165, 'grossly': 9166, 'pervert': 9167, 'comic': 9168, 'arc': 9169, 'gwen': 9170, 'stacey': 9171, 'woodstock': 9172, 'herpes': 9173, 'checkup': 9174, 'declaring': 9175, 'externally': 9176, 'prematurely': 9177, 'breakup': 9178, 'wen': 9179, 'fedex': 9180, 'flakiness': 9181, 'hampered': 9182, 'papamoka': 9183, 'cancel': 9184, 'hyundai': 9185, 'tucson': 9186, 'correspond': 9187, 'catsa': 9188, 'afternoons': 9189, 'colognes': 9190, 'attic': 9191, 'nvm': 9192, 'deliberations': 9193, 'sasuke': 9194, 'fatally': 9195, 'frustrations': 9196, 'reviewing': 9197, 'radar': 9198, 'fling': 9199, 'registration': 9200, 'uneventful': 9201, 'menopause': 9202, 'recycled': 9203, 'suitably': 9204, 'panel': 9205, 'briton': 9206, 'germans': 9207, 'grits': 9208, 'polenta': 9209, 'intensifying': 9210, 'bubbling': 9211, 'undoubtedly': 9212, 'pundits': 9213, 'hovel': 9214, 'lifelong': 9215, 'analysing': 9216, 'intimidation': 9217, 'strapping': 9218, 'sturdy': 9219, 'signifies': 9220, 'undue': 9221, 'anipike': 9222, 'fanfictions': 9223, 'mu': 9224, 'tou': 9225, 'khatsii': 9226, 'pester': 9227, 'ain': 9228, 'strings': 9229, 'slung': 9230, 'embalming': 9231, 'ahem': 9232, 'feminism': 9233, 'bauer': 9234, 'proclaims': 9235, 'unconvinced': 9236, 'lagging': 9237, 'explanations': 9238, 'pleas': 9239, 'unconsciousness': 9240, 'noticeably': 9241, 'thundershowers': 9242, 'ginormous': 9243, 'venomous': 9244, 'screening': 9245, 'flashed': 9246, 'cineplex': 9247, 'lawyer': 9248, 'treble': 9249, 'bobo': 9250, 'gop': 9251, 'drinky': 9252, 'lemur': 9253, 'acquaintances': 9254, 'opinionated': 9255, 'owen': 9256, 'morgan': 9257, 'democrats': 9258, 'districts': 9259, 'choc': 9260, 'bloc': 9261, 'purposely': 9262, 'stuffing': 9263, 'parlor': 9264, 'evgeni': 9265, 'malkin': 9266, 'jackpot': 9267, 'other’s': 9268, 'station': 9269, 'fled': 9270, 'underbelly': 9271, 'subway': 9272, 'map': 9273, 'frazzle': 9274, 'meltdown': 9275, 'indulgence': 9276, 'audacity': 9277, 'upsets': 9278, 'pushes': 9279, 'buys': 9280, 'shoplifting': 9281, 'package': 9282, 'gummy': 9283, 'archeological': 9284, 'imposter': 9285, 'unconsciously': 9286, 'sonam': 9287, 'genelia': 9288, 'contaminated': 9289, 'outcast': 9290, 'enriching': 9291, 'kindergarteners': 9292, 'rejecting': 9293, 'seo': 9294, 'leisurely': 9295, 'unforgiving': 9296, 'excess': 9297, 'snicker': 9298, 'fortune': 9299, 'numbness': 9300, 'partnership': 9301, 'glued': 9302, 'waterside': 9303, 'attentions': 9304, 'affections': 9305, 'leather': 9306, 'sandals': 9307, 'drape': 9308, 'bondmusings': 9309, 'somethings': 9310, 'burrowing': 9311, 'tickling': 9312, 'matching': 9313, 'bows': 9314, 'pervasive': 9315, 'fixed': 9316, 'hillary': 9317, 'tenure': 9318, 'unwilling': 9319, 'perfumes': 9320, 'segregate': 9321, 'christine': 9322, 'gervase': 9323, 'piped': 9324, 'motives': 9325, 'inbalance': 9326, 'committment': 9327, 'counselling': 9328, 'reconciliation': 9329, 'recite': 9330, 'shiftless': 9331, 'esily': 9332, 'airritated': 9333, 'welfare': 9334, 'narrated': 9335, 'princes': 9336, 'autobiography': 9337, 'civilian': 9338, 'blackwater': 9339, 'unsung': 9340, 'unfinished': 9341, 'freud': 9342, 'irma': 9343, 'injection': 9344, 'completion': 9345, 'reduced': 9346, 'mistreated': 9347, 'transformation': 9348, 'dabble': 9349, 'supervising': 9350, 'restlessness': 9351, 'arena': 9352, 'treachery': 9353, 'intermittent': 9354, 'lacklustre': 9355, 'brendon': 9356, 'zayne': 9357, 'finality': 9358, 'misinformed': 9359, 'shocking': 9360, 'chanting': 9361, 'reverberate': 9362, 'unlikely': 9363, 'distortion': 9364, 'catapulted': 9365, 'magi': 9366, 'herod': 9367, 'manifests': 9368, 'shack': 9369, 'elizabeth': 9370, 'movers': 9371, 'ecker': 9372, 'evey': 9373, 'packaged': 9374, 'waitrose': 9375, 'parking': 9376, 'hookah': 9377, 'desserts': 9378, 'suits': 9379, 'shortness': 9380, 'chocolates': 9381, 'encouragement': 9382, 'announcement': 9383, 'adoption': 9384, 'inadaquate': 9385, 'vengeance': 9386, 'granny': 9387, 'quilted': 9388, 'avalanche': 9389, 'certifiably': 9390, 'screenshots': 9391, 'shire': 9392, 'kyuhyun': 9393, 'apgujeong': 9394, 'hyunjin': 9395, 'breathed': 9396, 'predictions': 9397, 'sandwiches': 9398, 'uploaded': 9399, 'thinner': 9400, 'oneself': 9401, 'getyourprettyon': 9402, 'endorsed': 9403, 'littered': 9404, 'capital': 9405, 'uttered': 9406, 'squeal': 9407, 'coercive': 9408, 'texting': 9409, 'chalk': 9410, 'pigeons': 9411, 'uninhabited': 9412, 'formation': 9413, 'tec': 9414, 'parishes': 9415, 'roughly': 9416, 'forgiveness': 9417, 'chalking': 9418, 'academia': 9419, 'overpowers': 9420, 'feeble': 9421, 'exhibition': 9422, 'immigration': 9423, 'plateau': 9424, 'province': 9425, 'prudent': 9426, 'ehb': 9427, 'ow': 9428, 'togehter': 9429, 'demonstrations': 9430, 'specimens': 9431, 'glistening': 9432, 'accentuating': 9433, 'comedian': 9434, 'defence': 9435, 'mechanism': 9436, 'katrinas': 9437, 'slink': 9438, 'unravels': 9439, 'spout': 9440, 'lulu': 9441, 'isms': 9442, 'pilates': 9443, 'katie': 9444, 'arugh': 9445, 'aaron': 9446, 'underestimated': 9447, 'douevenlift': 9448, 'attorneys': 9449, 'persecuted': 9450, 'grandchildren': 9451, 'revolve': 9452, 'whistle': 9453, 'opponent': 9454, 'tournament': 9455, 'disqualifications': 9456, 'fines': 9457, 'godly': 9458, 'unresolved': 9459, 'psych': 9460, 'defined': 9461, 'commute': 9462, 'overseas': 9463, 'exhilarating': 9464, 'scenery': 9465, 'dictated': 9466, 'scrolled': 9467, 'relive': 9468, 'suffocated': 9469, 'fudgy': 9470, 'doodles': 9471, 'reception': 9472, 'drastic': 9473, 'flickr': 9474, 'jareths': 9475, 'labyrinth': 9476, 'tease': 9477, 'entitled': 9478, 'popeye': 9479, 'cartoons': 9480, 'pickles': 9481, 'fifth': 9482, 'yearbook': 9483, 'mes': 9484, 'sod': 9485, 'forgave': 9486, 'mating': 9487, 'assessed': 9488, 'calculated': 9489, 'addiction': 9490, 'specialness': 9491, 'kubricks': 9492, 'oooh': 9493, 'gander': 9494, 'donut': 9495, 'mousse': 9496, 'swedish': 9497, 'turnips': 9498, 'reshaped': 9499, 'vellas': 9500, 'evaporate': 9501, 'cyberspace': 9502, 'gazing': 9503, 'sundaes': 9504, 'suppport': 9505, 'wryly': 9506, 'banal': 9507, 'errors': 9508, 'soccer': 9509, 'cents': 9510, 'revis': 9511, 'reporters': 9512, 'jets': 9513, 'prius': 9514, 'gore': 9515, 'patagonia': 9516, 'laze': 9517, 'pajamas': 9518, 'tasteful': 9519, 'toni': 9520, 'ight': 9521, 'excesses': 9522, 'merican': 9523, 'witnessed': 9524, 'meanness': 9525, 'magnitude': 9526, 'compelled': 9527, 'meek': 9528, 'asian': 9529, 'obstacle': 9530, 'leaden': 9531, 'moonlighting': 9532, 'projector': 9533, 'displeasing': 9534, 'musty': 9535, 'clint': 9536, 'fund': 9537, 'dinn': 9538, 'burdens': 9539, 'purchased': 9540, 'creaking': 9541, 'hockney': 9542, 'collecting': 9543, 'exaggerated': 9544, 'upstream': 9545, 'ole': 9546, 'espa': 9547, 'hd': 9548, 'pouting': 9549, 'yoshidas': 9550, 'communications': 9551, 'amazement': 9552, 'whined': 9553, 'procure': 9554, 'boston': 9555, 'jew': 9556, 'prohibition': 9557, 'airtime': 9558, 'scraped': 9559, 'nook': 9560, 'cranny': 9561, 'juicy': 9562, 'morsels': 9563, 'putter': 9564, 'resupplied': 9565, 'nakahara': 9566, 'mai': 9567, 'misrepresent': 9568, 'ecstasy': 9569, 'boasting': 9570, 'gawd': 9571, 'convicted': 9572, 'forays': 9573, 'latex': 9574, 'hungover': 9575, 'marketplace': 9576, 'perpetuate': 9577, 'dynamic': 9578, 'educators': 9579, 'celebrated': 9580, 'cardio': 9581, 'longlasting': 9582, 'endzone': 9583, 'unspoilt': 9584, 'variants': 9585, 'overrrrrrrrrrrr': 9586, 'ahkman': 9587, 'enchanting': 9588, 'bleeds': 9589, 'janine': 9590, 'slapping': 9591, 'recovering': 9592, \"doesn't\": 9593, 'yardage': 9594, 'sycf': 9595, 'kenya': 9596, 'nugget': 9597, 'opposites': 9598, 'practiced': 9599, 'echo': 9600, 'chamber': 9601, 'correctness': 9602, 'supports': 9603, 'rewriting': 9604, 'noticable': 9605, 'different—brighter': 9606, 'materialist': 9607, 'straits': 9608, 'mistress': 9609, 'frilly': 9610, 'bloomers': 9611, 'babydoll': 9612, 'untidiness': 9613, 'hoarders': 9614, 'jumble': 9615, 'inhalers': 9616, 'socialising': 9617, 'caged': 9618, 'treading': 9619, 'tremendously': 9620, 'peregrinos': 9621, 'rapist': 9622, 'rigorously': 9623, 'hanged': 9624, 'bullying': 9625, 'speedy': 9626, 'outcomes': 9627, 'vanquished': 9628, 'arose': 9629, 'gulped': 9630, 'muffled': 9631, 'hideakis': 9632, 'forcefully': 9633, 'daiki': 9634, 'prompt': 9635, 'cbc': 9636, 'jazzyboy': 9637, 'quitter': 9638, 'immerse': 9639, 'alternated': 9640, 'blurry': 9641, 'piles': 9642, 'flushing': 9643, 'fictional': 9644, 'pesters': 9645, 'sheriff': 9646, 'commodore': 9647, 'sweden': 9648, 'spreadsheet': 9649, 'someplace': 9650, 'gifting': 9651, 'subscription': 9652, 'converting': 9653, 'currency': 9654, 'quantum': 9655, 'struck': 9656, 'focuses': 9657, 'lent': 9658, 'scissors': 9659, 'bench': 9660, 'georges': 9661, 'wanatribe': 9662, 'taunted': 9663, 'frailty': 9664, 'exterior': 9665, 'masculinity': 9666, 'semipro': 9667, 'elevated': 9668, 'metabolism': 9669, 'hyperthyroidism': 9670, 'undecorating': 9671, 'tod': 9672, 'pissy': 9673, 'deaf': 9674, 'ship': 9675, 'sailed': 9676, 'kairi': 9677, 'hannah': 9678, 'brd': 9679, 'brds': 9680, 'canoes': 9681, 'unrest': 9682, 'tna': 9683, 'crimson': 9684, 'amazingness': 9685, 'lick': 9686, 'facilitate': 9687, 'interference': 9688, 'stunted': 9689, 'instilled': 9690, 'anxiously': 9691, 'awaiting': 9692, 'pacified': 9693, 'coordinate': 9694, 'organizing': 9695, 'wolfiewolfgang': 9696, 'whelming': 9697, 'colby': 9698, 'ratbagx': 9699, 'npr': 9700, 'lashing': 9701, 'craps': 9702, 'reaffirmed': 9703, 'snare': 9704, 'trusts': 9705, 'mimm': 9706, 'thislifeissparkling': 9707, 'editor': 9708, 'teachable': 9709, 'tiphany': 9710, 'hallucinations': 9711, 'cadore': 9712, 'bloodshed': 9713, 'fps': 9714, 'persistent': 9715, 'joan': 9716, 'ia': 9717, 'gathered': 9718, 'unsaid': 9719, 'pistil': 9720, 'manliness': 9721, 'technically': 9722, 'encased': 9723, 'unused': 9724, 'plateaus': 9725, 'huhuhu': 9726, 'pipsqueak': 9727, 'volumes': 9728, 'longevity': 9729, 'jubilations': 9730, 'mombasa': 9731, 'wardrode': 9732, 'aroma': 9733, 'bhubaneswar': 9734, 'orissa': 9735, 'sausage': 9736, 'crone': 9737, 'andy': 9738, 'flavors': 9739, 'sadistic': 9740, 'behaved': 9741, 'shedding': 9742, 'revise': 9743, 'appropriate': 9744, 'acknowledged': 9745, 'h': 9746, 'sonogram': 9747, 'coldstone': 9748, 'waaaaayyyy': 9749, 'delicous': 9750, 'manitz': 9751, 'jammed': 9752, 'nosebands': 9753, 'mouths': 9754, 'outdoor': 9755, 'motivating': 9756, 'julian': 9757, 'elaborate': 9758, 'ww': 9759, 'nitche': 9760, 'bolts': 9761, 'bayou': 9762, 'cypress': 9763, 'wildlife': 9764, 'clots': 9765, 'resolutions': 9766, 'shielding': 9767, 'revision': 9768, 'mg': 9769, 'seroquel': 9770, 'truley': 9771, 'learing': 9772, 'dampening': 9773, 'ensigns': 9774, 'mumbled': 9775, 'alli': 9776, 'portugu': 9777, 'unnoticeable': 9778, 'burrowed': 9779, 'conor': 9780, 'digress': 9781, 'perceives': 9782, 'messing': 9783, 'articulated': 9784, 'parting': 9785, 'sxe': 9786, 'chocolating': 9787, 'survey': 9788, 'onel': 9789, 'creators': 9790, 'eminent': 9791, 'patriotic': 9792, 'deeds': 9793, 'taboo': 9794, 'looses': 9795, 'colic': 9796, 'noleans': 9797, 'wihtout': 9798, 'shown': 9799, 'antagonism': 9800, 'wholeheartedly': 9801, 'armistice': 9802, 'remembrances': 9803, 'handsomefamily': 9804, 'dial': 9805, 'morsel': 9806, 'appease': 9807, 'downsize': 9808, 'layoff': 9809, 'eyebrows': 9810, 'waxed': 9811, 'filling': 9812, 'olympics': 9813, 'yearned': 9814, 'homey': 9815, 'filed': 9816, 'karmardav': 9817, 'emergency': 9818, 'issued': 9819, 'supplied': 9820, 'consulate': 9821, 'audie': 9822, 'multiplied': 9823, 'confronted': 9824, 'taps': 9825, 'sneha': 9826, 'eurodancemix': 9827, 'uninspiring': 9828, 'disgust': 9829, 'dissect': 9830, 'hausa': 9831, 'motorcyclist': 9832, 'resemblance': 9833, 'pairs': 9834, 'heeled': 9835, 'cru': 9836, 'swans': 9837, 'brig': 9838, 'atlanta': 9839, 'excercising': 9840, 'hernia': 9841, 'zz': 9842, 'logo': 9843, 'keychain': 9844, 'ploy': 9845, 'ashraf': 9846, 'pakistani': 9847, 'ruach': 9848, 'hakodesh': 9849, 'dummies': 9850, 'pariah': 9851, 'moping': 9852, 'venerable': 9853, 'realising': 9854, 'harden': 9855, 'suppous': 9856, 'refocus': 9857, 'pediatrician': 9858, 'superstitions': 9859, 'rituals': 9860, 'invincible': 9861, 'highs': 9862, 'pitied': 9863, 'aac': 9864, 'introvert': 9865, 'galley': 9866, 'handfuls': 9867, 'backpacks': 9868, 'backfires': 9869, 'solondz': 9870, 'gimmicks': 9871, 'gritted': 9872, 'woop': 9873, 'wuss': 9874, 'maclaine': 9875, 'roberts': 9876, 'shameful': 9877, 'revelations': 9878, 'allegation': 9879, 'untalented': 9880, 'citizens': 9881, 'naega': 9882, 'deo': 9883, 'apaya': 9884, 'hae': 9885, 'dasi': 9886, 'neol': 9887, 'chajeul': 9888, 'su': 9889, 'itge': 9890, 'sigani': 9891, 'heureulsurok': 9892, 'gaseumi': 9893, 'apawa': 9894, 'hanbeon': 9895, 'manirado': 9896, 'wo': 9897, 'doedollil': 9898, 'suman': 9899, 'itdamyeon': 9900, 'gotong': 9901, 'ttawin': 9902, 'naegen': 9903, 'caresse': 9904, 'fourth': 9905, 'glint': 9906, 'pathological': 9907, 'crumbles': 9908, 'craziness': 9909, 'terrorised': 9910, 'organising': 9911, 'atm': 9912, 'cantina': 9913, 'invisible': 9914, 'liar': 9915, 'uninformed': 9916, 'specifics': 9917, 'therell': 9918, 'woodland': 9919, 'lungfuls': 9920, 'exposes': 9921, 'leo': 9922, 'clara': 9923, 'tch': 9924, 'cohesive': 9925, 'arist': 9926, 'demise': 9927, 'respects': 9928, 'artifically': 9929, 'cluster': 9930, 'suspicions': 9931, 'brandish': 9932, 'clodia': 9933, 'everitt': 9934, 'chickie': 9935, 'conversion': 9936, 'inflicted': 9937, 'asd': 9938, 'lego': 9939, 'hedge': 9940, 'fundraiser': 9941, 'mistresses': 9942, 'guessed': 9943, 'lookout': 9944, 'pr': 9945, 'doer': 9946, 'affordable': 9947, 'pompoms': 9948, 'braided': 9949, 'flaps': 9950, 'assholes': 9951, 'mishaps': 9952, 'poked': 9953, 'unfolding': 9954, 'tucks': 9955, 'mircowaved': 9956, 'gambia': 9957, 'supping': 9958, 'hardworking': 9959, 'effing': 9960, 'sniiiiifff': 9961, 'stammer': 9962, 'stones': 9963, 'grumble': 9964, 'groan': 9965, 'emptied': 9966, 'animated': 9967, 'blinked': 9968, 'symptom': 9969, 'minimize': 9970, 'witnesed': 9971, 'favorable': 9972, 'willfully': 9973, 'ebb': 9974, 'tingly': 9975, 'mummy': 9976, 'venturing': 9977, 'reconciled': 9978, 'inaccurate': 9979, 'ardmore': 9980, 'kaikohe': 9981, 'pilot': 9982, 'licence': 9983, 'squeek': 9984, 'grossed': 9985, 'mistaken': 9986, 'setbacks': 9987, 'thailand': 9988, 'cello': 9989, 'abou': 9990, 'manageable': 9991, 'thatll': 9992, 'bryan': 9993, 'deceptively': 9994, 'visions': 9995, 'js': 9996, 'jilted': 9997, 'j': 9998, 'childlike': 9999, 'imagi': 10000, 'antipasti': 10001, 'mozzarella': 10002, 'proscuito': 10003, 'logged': 10004, 'calvaryccv': 10005, 'memoir': 10006, 'mommyhood': 10007, 'breastfeed': 10008, 'britney': 10009, 'varnish': 10010, 'fro': 10011, 'dt': 10012, 'seniors': 10013, 'batchmates': 10014, 'melee': 10015, 'dps': 10016, 'prompted': 10017, 'maury': 10018, 'soil': 10019, 'antidote': 10020, 'flee': 10021, 'baltic': 10022, 'universality': 10023, 'voluntary': 10024, 'mankind': 10025, 'decompress': 10026, 'innovations': 10027, 'parody': 10028, 'backlogs': 10029, 'psyche': 10030, 'gloominess': 10031, 'kindda': 10032, 'motivate': 10033, 'glands': 10034, 'agnostics': 10035, 'atheists': 10036, 'judeo': 10037, 'fundamentalists': 10038, 'culturally': 10039, 'feelingless': 10040, 'twiggy': 10041, 'holder': 10042, 'trepidatious': 10043, 'uncommon': 10044, 'atheist': 10045, 'chore': 10046, 'exploration': 10047, 'wristwatch': 10048, 'firm': 10049, 'architects': 10050, 'baltimore': 10051, 'lenghth': 10052, 'pp': 10053, 'swag': 10054, 'frequented': 10055, 'exempted': 10056, 'forgiven': 10057, 'inventory': 10058, 'sauces': 10059, 'spices': 10060, 'perishables': 10061, 'hb': 10062, 'sitter': 10063, 'bouncing': 10064, 'backpacker': 10065, 'overland': 10066, 'azul': 10067, 'undergraduate': 10068, 'degrassi': 10069, 'weep': 10070, 'wendy': 10071, 'alexa': 10072, 'burning': 10073, 'droppings': 10074, 'millennia': 10075, 'brainstorming': 10076, 'vices': 10077, 'bang': 10078, 'bod': 10079, 'rocked': 10080, 'temp': 10081, 'iterations': 10082, 'loreal': 10083, 'max': 10084, 'shortlist': 10085, 'congratulate': 10086, 'tonights': 10087, 'intro': 10088, 'fff': 10089, 'trebuchet': 10090, 'helvetica': 10091, 'bitstream': 10092, 'vera': 10093, 'lovecraft': 10094, 'freestone': 10095, 'darkest': 10096, 'capp': 10097, 'tower': 10098, 'approve': 10099, 'disapprove': 10100, 'familys': 10101, 'inverted': 10102, 'suspension': 10103, 'aftereffects': 10104, 'detatched': 10105, 'milly': 10106, 'pail': 10107, 'elation': 10108, 'shatter': 10109, 'explored': 10110, 'styles': 10111, 'sub': 10112, 'claims': 10113, 'adaption': 10114, 'stymied': 10115, 'unintended': 10116, 'whisperings': 10117, 'ranging': 10118, 'queezy': 10119, 'passage': 10120, 'sporkgasm': 10121, 'metropolitan': 10122, 'intrusion': 10123, 'resonates': 10124, 'weekly': 10125, 'sips': 10126, 'founder': 10127, 'poverty': 10128, 'akron': 10129, 'volunteers': 10130, 'passersby': 10131, 'misscariage': 10132, 'nipples': 10133, 'gina': 10134, 'misgivings': 10135, 'athleticism': 10136, 'drowned': 10137, 'aspire': 10138, 'fathers': 10139, 'folksy': 10140, 'anything—now': 10141, 'theofilou': 10142, 'nods': 10143, 'kastrioti': 10144, 'goddess': 10145, 'memorable': 10146, 'hipster': 10147, 'dragging': 10148, 'schedules': 10149, 'muslims': 10150, 'generalizing': 10151, 'retaliation': 10152, 'florence': 10153, 'fertility': 10154, 'gosman': 10155, 'touristy': 10156, 'montauk': 10157, 'infrequent': 10158, 'cawing': 10159, 'seagulls': 10160, 'pilings': 10161, 'blinds': 10162, 'abdominal': 10163, 'asserting': 10164, 'comprehend': 10165, 'realism': 10166, 'pin': 10167, 'robins': 10168, 'remotional': 10169, 'ade': 10170, 'contractual': 10171, 'vietnamese': 10172, 'elf': 10173, 'acctually': 10174, 'wonderfull': 10175, 'israel': 10176, 'sexaholic': 10177, 'disengaged': 10178, 'affecting': 10179, 'accounted': 10180, 'backaches': 10181, 'rub': 10182, 'layout': 10183, 'bicycle': 10184, 'blogspot': 10185, 'advocacy': 10186, 'veggies': 10187, 'grains': 10188, 'fronts': 10189, 'shailene': 10190, 'associated': 10191, 'diagonal': 10192, 'kendo': 10193, 'leas': 10194, 'pleasent': 10195, 'ther': 10196, 'lik': 10197, 'lap': 10198, 'monica': 10199, 'humbug': 10200, 'wanderlust': 10201, 'bee': 10202, 'wrongs': 10203, 'thicker': 10204, 'mascara': 10205, 'shortage': 10206, 'overpower': 10207, 'costs': 10208, 'urges': 10209, 'cottage': 10210, 'rustling': 10211, 'accumulate': 10212, 'conifer': 10213, 'shoveling': 10214, 'insert': 10215, 'worthlessness': 10216, 'bodyworks': 10217, 'scents': 10218, 'momma': 10219, 'tx': 10220, 'sassiness': 10221, 'beam': 10222, 'metres': 10223, 'paulie': 10224, 'flexible': 10225, 'toddlers': 10226, 'celexa': 10227, 'oakland': 10228, 'seoul': 10229, 'actresses': 10230, 'walia': 10231, 'tarun': 10232, 'bani': 10233, 'revovles': 10234, 'ansi': 10235, 'swirling': 10236, 'flab': 10237, 'hickory': 10238, 'lenoir': 10239, 'morganton': 10240, 'mooching': 10241, 'clich': 10242, 'newly': 10243, 'warrick': 10244, 'naivety': 10245, 'outs': 10246, 'popcorn': 10247, 'pinot': 10248, 'gris': 10249, 'blair': 10250, 'passions': 10251, 'ambulatory': 10252, 'recognizes': 10253, 'trophy': 10254, 'upbringing': 10255, 'contradicts': 10256, 'fasts': 10257, 'irreparably': 10258, 'linked': 10259, 'frenh': 10260, 'dontt': 10261, 'zipline': 10262, 'teeter': 10263, 'totering': 10264, 'vein': 10265, '“we': 10266, 'talk”': 10267, 'prelim': 10268, 'maths': 10269, 'cheating': 10270, 'ened': 10271, 'dick': 10272, 'dullness': 10273, 'evoked': 10274, 'tartandheathered': 10275, 'snippet': 10276, 'homelessness': 10277, 'societies': 10278, 'daunting': 10279, 'yup': 10280, 'placce': 10281, 'outright': 10282, 'cal': 10283, 'knelt': 10284, 'mutual': 10285, 'communicated': 10286, 'organ': 10287, 'clip': 10288, 'cuddles': 10289, 'bishop': 10290, 'fervent': 10291, 'jongwoon': 10292, 'teases': 10293, 'ryeowook': 10294, 'ghosting': 10295, 'oakwood': 10296, 'wrinkle': 10297, 'prevention': 10298, 'traumatised': 10299, 'pestilence': 10300, 'starvation': 10301, 'nightlife': 10302, 'withdrew': 10303, 'lex': 10304, 'martha': 10305, 'misty': 10306, 'shies': 10307, 'discouraging': 10308, 'caribbean': 10309, 'diving': 10310, 'dive': 10311, 'homeschool': 10312, 'ingrained': 10313, 'onset': 10314, 'payoff': 10315, 'mccarthy': 10316, 'humanize': 10317, 'balancing': 10318, 'platitudes': 10319, 'quitting': 10320, 'residue': 10321, 'brownish': 10322, 'tint': 10323, 'congratulation': 10324, 'stressors': 10325, 'scotty': 10326, 'priced': 10327, 'naomi': 10328, 'klein': 10329, 'honduras': 10330, 'subbing': 10331, 'bonded': 10332, 'touchy': 10333, 'feely': 10334, 'arches': 10335, 'footbed': 10336, 'jacket': 10337, 'scarf': 10338, 'seal': 10339, 'hitler': 10340, 'wimp': 10341, 'adrenaline': 10342, 'marbled': 10343, 'murrelets': 10344, 'budding': 10345, 'careers': 10346, 'improvements': 10347, 'sympathizing': 10348, 'frame': 10349, 'aout': 10350, 'videotape': 10351, 'devin': 10352, 'seemad': 10353, 'favour': 10354, 'skips': 10355, 'pacing': 10356, 'constraints': 10357, 'dir': 10358, 'ltr': 10359, 'henypire': 10360, 'honed': 10361, 'powerlessness': 10362, 'tizzy': 10363, 'haagen': 10364, 'dazs': 10365, 'glitches': 10366, 'crabs': 10367, 'salvaging': 10368, 'kneels': 10369, 'ni': 10370, 'zach': 10371, 'sauna': 10372, 'steam': 10373, 'goldilocks': 10374, 'danielle': 10375, 'wives': 10376, 'sulk': 10377, 'agility': 10378, 'genetic': 10379, 'stats': 10380, 'reported': 10381, 'dissassociated': 10382, 'iam': 10383, 'bittersweet': 10384, 'donning': 10385, 'vip': 10386, 'sticker': 10387, 'dom': 10388, 'tide': 10389, 'ollie': 10390, 'shifty': 10391, 'brooklyn': 10392, 'latch': 10393, 'skipping': 10394, 'hihi': 10395, 'blatant': 10396, 'olivias': 10397, 'characteristic': 10398, 'alsways': 10399, 'bask': 10400, 'gabriella': 10401, 'relived': 10402, 'truely': 10403, 'permeate': 10404, 'headmaster': 10405, 'weaning': 10406, 'caveman': 10407, 'journalists': 10408, 'morris': 10409, 'preface': 10410, 'peta': 10411, 'benches': 10412, 'favs': 10413, 'insulting': 10414, 'spritz': 10415, 'moisturized': 10416, 'flies': 10417, 'dusted': 10418, 'glared': 10419, 'syncing': 10420, 'scotched': 10421, 'expedition': 10422, 'tallest': 10423, 'oops': 10424, 'geocentric': 10425, 'ingrate': 10426, 'gears': 10427, 'snotface': 10428, 'predawn': 10429, 'mundane': 10430, 'delusion': 10431, 'admittedly': 10432, 'unfeeling': 10433, 'humanbeings': 10434, 'asses': 10435, 'uttering': 10436, 'gatsby': 10437, 'cassandra': 10438, 'we’ve': 10439, 'glamour': 10440, 'laughs—it’s': 10441, 'bqff': 10442, 'sd': 10443, 'subscribers': 10444, 'rocketed': 10445, 'bodys': 10446, 'aging': 10447, 'tearful': 10448, 'winehouse': 10449, 'ford': 10450, 'unexplainable': 10451, 'lodged': 10452, 'oesophagus': 10453, 'desolate': 10454, 'soundscapes': 10455, 'weightless': 10456, 'ptl': 10457, 'nauseas': 10458, 'accidents': 10459, 'yorkshire': 10460, 'fatigue': 10461, 'redden': 10462, 'manhood': 10463, 'doubles': 10464, 'struff': 10465, 'fedtastic': 10466, 'tennis': 10467, 'laps': 10468, 'bareminerals': 10469, 'filmed': 10470, 'ryder': 10471, 'tomoe': 10472, 'venue': 10473, 'counsellor': 10474, 'bfd': 10475, 'cambodia': 10476, 'lax': 10477, 'cruz': 10478, 'caf': 10479, 'rockers': 10480, 'buffs': 10481, 'mommys': 10482, 'def': 10483, 'semblance': 10484, 'normality': 10485, 'arabs': 10486, 'armed': 10487, 'soldier': 10488, 'chunk': 10489, 'victorian': 10490, 'niece': 10491, 'woah': 10492, 'statesmen': 10493, 'mobbed': 10494, 'lynched': 10495, 'mob': 10496, 'gimme': 10497, 'tbh': 10498, 'freeer': 10499, 'manged': 10500, 'retaining': 10501, 'flourish': 10502, 'dorama': 10503, 'buffy': 10504, 'pan': 10505, 'developments': 10506, 'sience': 10507, 'greatbritain': 10508, 'vietnam': 10509, 'ganging': 10510, 'tote': 10511, 'tricky': 10512, 'stitched': 10513, 'pegged': 10514, 'differ': 10515, 'shouldve': 10516, 'includes': 10517, 'vindictive': 10518, 'threatening': 10519, 'rememberiing': 10520, 'vomit': 10521, 'unlucky': 10522, 'genetics': 10523, 'orthodontist': 10524, 'pediatric': 10525, 'dentist': 10526, 'aj': 10527, 'frowned': 10528, 'numbing': 10529, 'stickiness': 10530, 'balanced': 10531, 'exiting': 10532, 'electing': 10533, 'danny': 10534, 'stalk': 10535, 'erica': 10536, 'swoop': 10537, 'exposures': 10538, 'crudely': 10539, 'ancients': 10540, 'poggy': 10541, 'blouse': 10542, 'spiked': 10543, 'overlapping': 10544, 'smothered': 10545, 'hgtv': 10546, 'commuters': 10547, 'african': 10548, 'ig': 10549, 'cartoonish': 10550, 'officers': 10551, 'cancelled': 10552, 'peggy': 10553, 'mara': 10554, 'disdainful': 10555, 'swap': 10556, 'gorge': 10557, 'disgustingly': 10558, 'oomph': 10559, 'thepage': 10560, 'int': 10561, 'bash': 10562, 'knowlege': 10563, 'unexplained': 10564, 'roundabouts': 10565, 'superduperreally': 10566, 'compagnon': 10567, 'sanitiation': 10568, 'snoozel': 10569, 'jeanette': 10570, 'winterson': 10571, 'scope': 10572, 'transparence': 10573, 'sirens': 10574, 'bias': 10575, 'anthology': 10576, 'learnings': 10577, 'cornish': 10578, 'cornwall': 10579, 'psychopath': 10580, 'exhilirated': 10581, 'joel': 10582, 'brooding': 10583, 'guidance': 10584, 'ann': 10585, 'snug': 10586, 'duke': 10587, 'administrators': 10588, 'readmit': 10589, 'collin': 10590, 'finnerty': 10591, 'aids': 10592, 'chronically': 10593, 'ransom': 10594, 'artisan': 10595, 'cocktail': 10596, 'kits': 10597, 'curated': 10598, 'handbag': 10599, 'sachaying': 10600, 'rebuilding': 10601, 'melancholic': 10602, 'wince': 10603, 'tightness': 10604, 'opted': 10605, 'subdued': 10606, 'legos': 10607, 'delays': 10608, 'jerald': 10609, 'seas': 10610, 'banter': 10611, 'seth': 10612, 'motherland': 10613, 'avery': 10614, 'nightly': 10615, 'contamination': 10616, 'mm': 10617, 'composition': 10618, 'diligently': 10619, 'processed': 10620, 'carbs': 10621, 'detest': 10622, 'mxm': 10623, 'briefs': 10624, 'combinations': 10625, 'yogurt': 10626, 'sulfate': 10627, 'reputable': 10628, 'atrophies': 10629, 'sharknado': 10630, 'dickish': 10631, 'ben': 10632, 'slump': 10633, 'neighborhoods': 10634, 'despairing': 10635, 'manipulate': 10636, 'positioned': 10637, 'prupose': 10638, 'spock': 10639, 'reciprocate': 10640, 'microcosm': 10641, 'simon': 10642, 'reset': 10643, 'sizzler': 10644, 'brunch': 10645, 'trumpeter': 10646, 'waldo': 10647, 'flinched': 10648, 'wondrous': 10649, 'creator': 10650, 'polishes': 10651, 'jacked': 10652, 'hatchet': 10653, 'habitual': 10654, 'wh': 10655, 'initiation': 10656, 'lunajubilee': 10657, 'convos': 10658, 'updating': 10659, 'admits': 10660, 'reptiles': 10661, 'unpredictably': 10662, 'powell': 10663, 'clan': 10664, 'lease': 10665, 'beijing': 10666, 'subsiding': 10667, 'indigestion': 10668, 'gertrude': 10669, 'estimate': 10670, 'nepali': 10671, 'german': 10672, 'jamba': 10673, 'frappucino': 10674, 'roast': 10675, 'acknowledgement': 10676, 'eddie': 10677, 'eg': 10678, 'omg': 10679, 'hideously': 10680, 'guily': 10681, 'shooter': 10682, 'firey': 10683, 'congratulated': 10684, 'wafts': 10685, 'charred': 10686, 'frappes': 10687, 'evar': 10688, 'bc': 10689, 'translate': 10690, 'silenced': 10691, 'tasked': 10692, 'miscreants': 10693, 'instill': 10694, 'professionally': 10695, 'clinical': 10696, 'abstinence': 10697, 'specialists': 10698, 'zombie': 10699, 'apocalypses': 10700, 'alien': 10701, 'dragons': 10702, 'runnin': 10703, 'bein': 10704, 'confined': 10705, 'stic': 10706, 'hurling': 10707, 'epithets': 10708, 'immigrant': 10709, 'suspected': 10710, 'dittmar': 10711, 'stpm': 10712, 'extends': 10713, 'sundry': 10714, 'hawaiian': 10715, 'onions': 10716, 'loquacious': 10717, 'dung': 10718, 'grievance': 10719, 'cuss': 10720, 'caregivers': 10721, 'stagnate': 10722, 'clearer': 10723, 'exboyfriend': 10724, 'midnight': 10725, 'offender': 10726, 'andangry': 10727, 'slows': 10728, 'compounded': 10729, 'demotivated': 10730, 'architectural': 10731, 'wowed': 10732, 'respecting': 10733, 'emerges': 10734, 'afterthought': 10735, 'contacted': 10736, 'congregations': 10737, 'reject': 10738, 'cloud': 10739, 'perpetrator': 10740, 'spurring': 10741, 'eggshells': 10742, 'cagey': 10743, 'settings': 10744, 'downwards': 10745, 'debra': 10746, 'woodston': 10747, 'kansas': 10748, 'assemblies': 10749, 'lingered': 10750, 'glee': 10751, 'pricked': 10752, 'burkie': 10753, 'dissipated': 10754, 'pensive': 10755, 'nudists': 10756, 'toast': 10757, 'stylesheet': 10758, 'jdelivery': 10759, 'anansi': 10760, 'slalom': 10761, 'rehearsals': 10762, 'greet': 10763, 'guides': 10764, 'obsessively': 10765, 'fun—i': 10766, 'essay': 10767, 'tornadoes': 10768, 'hav': 10769, 'estate': 10770, 'agent': 10771, 'prejudice': 10772, 'smoothie': 10773, 'menu': 10774, 'drafted': 10775, 'repulsion': 10776, 'careless': 10777, 'dissipate': 10778, 'resolution': 10779, 'overdone': 10780, 'rejuvenate': 10781, 'passenger': 10782, 'jerome': 10783, 'babysat': 10784, 'sublime': 10785, 'pining': 10786, 'unlock': 10787, 'justification': 10788, 'pragmatic': 10789, 'temptations': 10790, 'asylum': 10791, 'seeker': 10792, 'arun': 10793, 'canaglia': 10794, 'botanical': 10795, 'tor': 10796, 'manicure': 10797, 'portal': 10798, 'reddit': 10799, 'livejournals': 10800, 'enabling': 10801, 'suicide': 10802, 'noconscience': 10803, 'prevail': 10804, 'intentionality': 10805, 'acuity': 10806, 'intuitive': 10807, 'irregardless': 10808, 'outbreak': 10809, 'ptpt': 10810, 'te': 10811, 'pouhere': 10812, 'needin': 10813, 'beth': 10814, 'supporter': 10815, 'presidency': 10816, 'doused': 10817, 'freind': 10818, 'asasoulawakens': 10819, 'feeli': 10820, 'stitching': 10821, 'absolutly': 10822, 'flourishing': 10823, 'fester': 10824, 'scum': 10825, 'willy': 10826, 'nilly': 10827, 'demoralized': 10828, 'detroit': 10829, 'stewing': 10830, 'muck': 10831, 'violated': 10832, 'lurks': 10833, 'distributors': 10834, 'kitoben': 10835, 'playground': 10836, 'trumpeters': 10837, 'luh': 10838, 'cunt': 10839, 'pepper': 10840, 'chips': 10841, 'zico': 10842, 'jeoffrey': 10843, 'eyo': 10844, 'overconfident': 10845, 'chemotherapy': 10846, 'pinching': 10847, 'niggles': 10848, 'hatch': 10849, 'holland': 10850, 'killjoy': 10851, 'vastly': 10852, 'underpaid': 10853, 'cools': 10854, 'oranges': 10855, 'perspectives': 10856, 'exchanged': 10857, 'rhyme': 10858, 'potion': 10859, 'xl': 10860, 'mens': 10861, 'pajama': 10862, 'li': 10863, 'border': 10864, 'margin': 10865, 'awesomness': 10866, 'passengered': 10867, 'wakeup': 10868, 'entrance': 10869, 'biochemistry': 10870, 'zambia': 10871, 'sermon': 10872, 'practicing': 10873, 'newer': 10874, 'br': 10875, 'roman': 10876, 'stropped': 10877, 'clash': 10878, 'laconic': 10879, 'admission': 10880, 'puppies': 10881, 'ratty': 10882, 'dickensian': 10883, 'orphans': 10884, 'weaving': 10885, 'shapes': 10886, 'engrains': 10887, 'reckon': 10888, 'monarch': 10889, 'geographically': 10890, 'removed': 10891, 'communities': 10892, 'telstra': 10893, 'skilled': 10894, 'presentational': 10895, 'backgrounds': 10896, 'thorough': 10897, 'spotless': 10898, 'rightness': 10899, '“thank': 10900, 'nathans': 10901, 'spurts': 10902, 'bard': 10903, 'omangy': 10904, 'krupke': 10905, 'threes': 10906, 'combing': 10907, 'exhaled': 10908, 'stung': 10909, 'finest': 10910, 'lurgy': 10911, 'jeered': 10912, 'lightmeter': 10913, 'docile': 10914, 'genealogical': 10915, 'strains': 10916, 'frequencies': 10917, 'swirl': 10918, 'sniff': 10919, 'concerts': 10920, 'musically': 10921, 'frickin': 10922, 'bloging': 10923, 'mediate': 10924, 'katanya': 10925, 'interlochen': 10926, 'jonathan': 10927, 'officials': 10928, 'yarns': 10929, 'youngsters': 10930, 'fads': 10931, 'pedestrians': 10932, 'passengers': 10933, 'repaired': 10934, 'reckless': 10935, 'consumption': 10936, 'ingredient': 10937, 'lunapads': 10938, 'bowler': 10939, 'urgings': 10940, 'longings': 10941, 'smoking': 10942, 'demonstrate': 10943, 'uplifting': 10944, 'props': 10945, 'bridal': 10946, 'selective': 10947, 'privacys': 10948, 'motivations': 10949, 'commit': 10950, 'engagement': 10951, 'newbie': 10952, 'laiya': 10953, 'jennifer': 10954, 'scampering': 10955, 'comp': 10956, 'nw': 10957, 'skinnies': 10958, 'chemistry': 10959, 'infuriating': 10960, 'irc': 10961, 'elihu': 10962, 'christmastime': 10963, 'darkly': 10964, 'stately': 10965, 'bul': 10966, 'taewuhbeoryeo': 10967, 'niga': 10968, 'ulbujitneun': 10969, 'nal': 10970, 'neoneun': 10971, 'wiheomhae': 10972, 'gal': 10973, 'ttaekkaji': 10974, 'gatsseo': 10975, 'woooo': 10976, 'rv': 10977, 'dinette': 10978, 'driveway': 10979, 'knotted': 10980, 'slopes': 10981, 'mcas': 10982, 'idealized': 10983, 'offence': 10984, 'delhi': 10985, 'punjabi': 10986, 'monetarily': 10987, 'dripping': 10988, 'consumes': 10989, 'amounts': 10990, 'attributed': 10991, 'yank': 10992, 'downtime': 10993, 'described': 10994, 'persistence': 10995, 'simmering': 10996, 'nickey': 10997, 'sensibly': 10998, 'abruptly': 10999, 'required': 11000, 'unibrow': 11001, 'hairs': 11002, 'creeping': 11003, 'eyelid': 11004, 'conqueror': 11005, 'flicker': 11006, 'glow': 11007, 'mesmerizing': 11008, 'exotic': 11009, 'matte': 11010, 'giardina': 11011, 'embarassing': 11012, 'subtly': 11013, 'confuse': 11014, 'vegetarian': 11015, 'eater': 11016, 'disrupt': 11017, 'yearly': 11018, 'fulfil': 11019, 'ambition': 11020, 'tangle': 11021, 'figt': 11022, 'downfall': 11023, 'tracifishbowl': 11024, 'snuck': 11025, 'snooping': 11026, 'belts': 11027, 'tightened': 11028, 'eradication': 11029, 'conductor': 11030, 'oiut': 11031, 'minibus': 11032, 'fare': 11033, 'ordinances': 11034, 'logistics': 11035, 'flighty': 11036, 'romcoms': 11037, 'proudly': 11038, 'calle': 11039, 'palpably': 11040, 'pumpkin': 11041, 'latte': 11042, 'splurge': 11043, 'spur': 11044, 'kiddy': 11045, 'concieve': 11046, 'alight': 11047, 'bellmen': 11048, 'tonguey': 11049, 'pulsed': 11050, 'bud': 11051, 'clit': 11052, 'shuffle': 11053, 'bull': 11054, 'quiver': 11055, 'mucus': 11056, 'occurred': 11057, 'increased': 11058, 'dosage': 11059, 'supplemental': 11060, 'estrogen': 11061, 'forehead': 11062, 'scrunching': 11063, 'salvation': 11064, 'wither': 11065, 'sonia': 11066, 'yixuan': 11067, 'atiqah': 11068, 'flashing': 11069, 'euros': 11070, 'atom': 11071, 'trustworthy': 11072, 'horrific': 11073, 'constipated': 11074, 'holistic': 11075, 'killers': 11076, 'upholstered': 11077, 'timeless': 11078, 'savour': 11079, 'kidding': 11080, 'outburst': 11081, 'carseat': 11082, 'encapsulate': 11083, 'socialise': 11084, 'smiley': 11085, 'jt': 11086, 'psssh': 11087, 'warp': 11088, 'biological': 11089, 'spill': 11090, 'gracefully': 11091, 'humbly': 11092, 'naman': 11093, 'na': 11094, 'dissatisfactions': 11095, 'yiling': 11096, 'grudge': 11097, 'thumps': 11098, 'mightily': 11099, 'royalty': 11100, 'tuition': 11101, 'pinched': 11102, 'liquor': 11103, 'lowly': 11104, 'pawn': 11105, 'benno': 11106, 'finishes': 11107, 'motorcycle': 11108, 'leonard': 11109, 'cohen': 11110, 'privately': 11111, 'ma': 11112, 'handss': 11113, 'aahhh': 11114, 'uw': 11115, 'heinously': 11116, 'botany': 11117, 'lec': 11118, 'psyched': 11119, 'shortening': 11120, 'trans': 11121, 'obbie': 11122, 'sickened': 11123, 'lances': 11124, 'artificially': 11125, 'broadcasting': 11126, 'clumsy': 11127, 'sinai': 11128, 'flusher': 11129, 'seated': 11130, 'wounded': 11131, 'darker': 11132, 'atell': 11133, 'radiator': 11134, 'acclimated': 11135, 'observer': 11136, 'whines': 11137, 'aggression': 11138, 'trite': 11139, 'fashioned': 11140, 'flourishes': 11141, 'sooooo': 11142, 'encompassing': 11143, 'relevant': 11144, 'scars': 11145, 'tyres': 11146, 'magazine': 11147, 'scanned': 11148, 'possesses': 11149, 'consciousness': 11150, 'wisely': 11151, 'tings': 11152, 'neon': 11153, 'shizz': 11154, 'touted': 11155, 'everyfuckingthing': 11156, 'passive': 11157, 'underrated': 11158, 'scarlet': 11159, 'accusing': 11160, 'outweighs': 11161, 'sneakily': 11162, 'mas': 11163, 'prance': 11164, 'eartha': 11165, 'kitt': 11166, 'blares': 11167, 'ryota': 11168, 'keita': 11169, 'kota': 11170, 'producing': 11171, 'everybodys': 11172, 'delayed': 11173, 'occurring': 11174, 'idreamculture': 11175, 'snap': 11176, 'representing': 11177, 'universal': 11178, 'files': 11179, 'turmoil': 11180, 'supermarkets': 11181, 'dentists': 11182, 'spoon': 11183, 'squirmed': 11184, 'inconsiderate': 11185, 'knit': 11186, 'legtimately': 11187, 'inlove': 11188, 'sean': 11189, 'faris': 11190, 'sleepover': 11191, 'scavenger': 11192, 'ethnicity': 11193, 'hun': 11194, 'motorway': 11195, 'telephone': 11196, 'relocation': 11197, 'crumble': 11198, 'cathartic': 11199, 'mychem': 11200, 'damaging': 11201, 'cred': 11202, 'moulding': 11203, 'stave': 11204, 'resident': 11205, 'matches': 11206, 'flashlight': 11207, 'ashers': 11208, 'beds': 11209, 'intruder': 11210, 'motivators': 11211, 'rampant': 11212, 'wimbledon': 11213, 'addressed': 11214, 'worms': 11215, 'tunji': 11216, 'sodden': 11217, 'sardonic': 11218, 'squat': 11219, 'destashing': 11220, 'indifference': 11221, 'shortsighted': 11222, 'hermione': 11223, 'jayson': 11224, 'discarding': 11225, 'grappled': 11226, 'burlesque': 11227, 'compensate': 11228, 'teresa': 11229, 'chiefs': 11230, 'ccw': 11231, 'yanked': 11232, 'straightforwardness': 11233, 'susanna': 11234, 'appeals': 11235, 'phil': 11236, 'righteous': 11237, 'consoled': 11238, 'supervisions': 11239, 'heroic': 11240, 'brad': 11241, 'voters': 11242, 'callers': 11243, 'warmed': 11244, 'brutality': 11245, 'zimbabweans': 11246, 'debts': 11247, 'sobbed': 11248, 'unacceptable': 11249, 'cursing': 11250, 'desiring': 11251, 'distill': 11252, 'mull': 11253, 'complexities': 11254, 'objective': 11255, 'tantric': 11256, 'ushering': 11257, 'capacities': 11258, 'winey': 11259, 'scummy': 11260, \"parents'\": 11261, 'jimmy': 11262, 'collapsing': 11263, 'electric': 11264, 'pointy': 11265, 'floss': 11266, 'seedy': 11267, 'uncomfortably': 11268, 'suffocating': 11269, 'moriartys': 11270, 'horrified': 11271, 'evilness': 11272, 'therapeutic': 11273, 'hypersexual': 11274, 'tartlets': 11275, 'rihanna': 11276, 'inexperience': 11277, 'jesse': 11278, 'custom': 11279, 'orthotics': 11280, 'inundated': 11281, 'dork': 11282, 'households': 11283, 'biannual': 11284, 'mammogram': 11285, 'crust': 11286, 'criticisms': 11287, 'disgestive': 11288, 'edmonton': 11289, 'wainwright': 11290, 'bladders': 11291, 'brandy': 11292, 'spew': 11293, 'desperation': 11294, 'gwiyomi': 11295, 'precipice': 11296, 'paige': 11297, 'world—it': 11298, 'playoffs': 11299, 'ruslan': 11300, 'fedotenko': 11301, 'unemployment': 11302, 'plea': 11303, 'equals': 11304, 'triumphs': 11305, 'succeeded': 11306, 'bonuses': 11307, 'bernd': 11308, 'sportsbook': 11309, 'strop': 11310, 'ruffling': 11311, 'inflating': 11312, 'exaggerating': 11313, 'counterproductive': 11314, 'tremors': 11315, 'anonymous': 11316, 'reali': 11317, 'exercised': 11318, 'splendor': 11319, 'hansen': 11320, 'cha': 11321, 'ching': 11322, 'trafford': 11323, 'stamford': 11324, 'historian': 11325, 'tomfoolery': 11326, 'shenanigans': 11327, 'washington': 11328, 'caps': 11329, 'trepidation': 11330, 'parked': 11331, 'peppermint': 11332, 'patties': 11333, 'suited': 11334, 'playboy': 11335, 'terrribly': 11336, 'ashton': 11337, 'awoken': 11338, 'pierce': 11339, 'thrills': 11340, 'enmayi': 11341, 'sadlovequotesforhim': 11342, 'socialize': 11343, 'madre': 11344, 'disabled': 11345, 'mda': 11346, 'telethon': 11347, 'placement': 11348, 'shoelace': 11349, 'survival': 11350, 'onwards': 11351, 'heather': 11352, 'settlement': 11353, 'gulam': 11354, 'classical': 11355, 'singers': 11356, 'surf': 11357, 'pgce': 11358, 'nellie': 11359, 'leslie': 11360, 'insight': 11361, 'liek': 11362, 'roomates': 11363, 'shermin': 11364, 'joey': 11365, 'customary': 11366, 'siesta': 11367, 'egan': 11368, 'kurt': 11369, 'shavings': 11370, 'precision': 11371, 'marvellous': 11372, 'freshly': 11373, 'script': 11374, 'javascript': 11375, 'thumbnail': 11376, 'rmb': 11377, 'garbage': 11378, 'cleanse': 11379, 'assaults': 11380, 'rapes': 11381, 'ller': 11382, 'assistants': 11383, 'nervs': 11384, 'min': 11385, 'consulted': 11386, 'copay': 11387, 'pisses': 11388, 'bridget': 11389, 'jones': 11390, 'atletico': 11391, 'predict': 11392, 'coiled': 11393, 'springs': 11394, 'cantankerous': 11395, 'marijuana': 11396, 'jalapeno': 11397, 'orthodox': 11398, 'deffinately': 11399, 'tramples': 11400, 'element': 11401, 'adorable': 11402, 'bunnies': 11403, 'raiding': 11404, 'persevered': 11405, 'pocketbooks': 11406, 'afrad': 11407, 'surmise': 11408, 'sitcom': 11409, 'kakashi': 11410, 'imping': 11411, 'hook': 11412, 'unsurprising': 11413, 'unfocused': 11414, 'sara': 11415, 'clearboth': 11416, 'fraudulent': 11417, 'shameless': 11418, 'blond': 11419, 'lad': 11420, 'hottest': 11421, 'bio': 11422, 'fiddle': 11423, 'snowy': 11424, 'pine': 11425, 'destined': 11426, 'southern': 11427, 'glories': 11428, 'hath': 11429, 'sooooooooper': 11430, 'skipped': 11431, 'noisiest': 11432, 'dallas': 11433, 'quieter': 11434, 'vantage': 11435, 'highlights': 11436, 'negatives': 11437, 'curry': 11438, 'islands': 11439, 'quantities': 11440, 'cucumber': 11441, 'drs': 11442, 'tax': 11443, 'returns': 11444, 'jasons': 11445, 'employer': 11446, 'wanders': 11447, 'techno': 11448, 'slander': 11449, 'majorly': 11450, 'timeline': 11451, 'playlist': 11452, 'viral': 11453, 'hotline': 11454, 'pets': 11455, 'circus': 11456, 'crazily': 11457, 'akward': 11458, 'surged': 11459, 'ho': 11460, 'carol': 11461, 'storage': 11462, 'compere': 11463, 'thwarted': 11464, 'immobile': 11465, 'bugs': 11466, 'impressionable': 11467, 'irresistable': 11468, 'pagan': 11469, 'originated': 11470, 'weighins': 11471, 'backdrop': 11472, 'phenomenon': 11473, 'hirsi': 11474, 'ingrid': 11475, 'brick': 11476, 'whizzes': 11477, 'resilience': 11478, 'skudrive': 11479, 'becsuse': 11480, 'plodded': 11481, 'hyperventilating': 11482, 'cafeteria': 11483, 'expressive': 11484, 'disruptive': 11485, 'occupying': 11486, 'chores': 11487, 'formal': 11488, 'evaluation': 11489, 'chinks': 11490, 'dismiss': 11491, 'kat': 11492, 'denningss': 11493, 'deadpan': 11494, 'cus': 11495, 'commercialism': 11496, 'tether': 11497, 'icky': 11498, 'prevails': 11499, 'dialed': 11500, 'pap': 11501, 'smears': 11502, 'cnn': 11503, 'liable': 11504, 'reevaluating': 11505, 'unpopular': 11506, 'discourages': 11507, 'classmate': 11508, 'hypocritical': 11509, 'hercules': 11510, 'favours': 11511, 'exclusively': 11512, 'sciatica': 11513, 'swinging': 11514, 'brakes': 11515, 'pedals': 11516, 'melts': 11517, 'implants': 11518, 'depressive': 11519, 'amounting': 11520, 'preacher': 11521, 'podium': 11522, 'contains': 11523, 'forego': 11524, 'futon': 11525, 'indicated': 11526, 'contested': 11527, 'competitive': 11528, 'infp': 11529, 'introverted': 11530, 'flamingo': 11531, 'pinning': 11532, 'nanashi': 11533, 'rylin': 11534, 'schoolgirl': 11535, 'commonplace': 11536, 'employers': 11537, 'srcurl': 11538, 'draftbloger': 11539, 'spilled': 11540, 'calmly': 11541, 'jot': 11542, 'thug': 11543, 'alexander': 11544, 'arrangment': 11545, 'liver': 11546, 'continental': 11547, 'purely': 11548, 'asbestos': 11549, 'topping': 11550, 'ebony': 11551, 'dances': 11552, 'tyler': 11553, 'durden': 11554, 'mica': 11555, 'placing': 11556, 'impromptu': 11557, 'irrelevant': 11558, 'escorting': 11559, 'spitting': 11560, 'erupt': 11561, 'flailing': 11562, 'perspiring': 11563, 'muddy': 11564, 'iggy': 11565, 'azealea': 11566, 'louboutins': 11567, 'rita': 11568, 'ora': 11569, 'vivienne': 11570, 'westwood': 11571, 'channeled': 11572, 'curls': 11573, 'lowlights': 11574, 'pete': 11575, 'edochie': 11576, 'responds': 11577, 'hoax': 11578, 'olajideolafunmbi': 11579, 'broomfield': 11580, 'threat': 11581, 'emma': 11582, 'people’s': 11583, 'craved': 11584, 'churchy': 11585, 'cheesy': 11586, 'fearlessness': 11587, 'discount': 11588, 'urging': 11589, 'dedicate': 11590, 'snooty': 11591, 'gauche': 11592, 'smacked': 11593, 'meing': 11594, 'emotionaly': 11595, 'alliance': 11596, 'consuming': 11597, 'notcied': 11598, 'kara': 11599, 'overtaken': 11600, 'florals': 11601, 'greenery': 11602, 'politician': 11603, 'dim': 11604, 'poet': 11605, 'favourites': 11606, 'roy': 11607, 'salutary': 11608, 'noticer': 11609, 'grappling': 11610, 'shred': 11611, 'herzog': 11612, 'influencing': 11613, 'recommending': 11614, 'marshal': 11615, 'glenn': 11616, 'anymore”': 11617, 'skype': 11618, 'couldve': 11619, 'undeserving': 11620, 'snippy': 11621, 'machinery': 11622, 'flaunt': 11623, 'humid': 11624, 'cuddling': 11625, 'insatiable': 11626, 'certainty': 11627, 'judgement': 11628, 'homophobia': 11629, 'affirm': 11630, 'disastrous': 11631, 'atrocious': 11632, 'colleague': 11633, 'upgraded': 11634, 'vulturous': 11635, 'sic': 11636, 'poisonous': 11637, 'iframe': 11638, 'allowfullscreen': 11639, 'frameborder': 11640, 'interrupting': 11641, 'rejoice': 11642, 'giraffes': 11643, 'majestic': 11644, 'appealing': 11645, 'monthe': 11646, 'detailing': 11647, 'unedited': 11648, 'zombies': 11649, 'gen': 11650, 'xers': 11651, 'tends': 11652, 'bets': 11653, 'preschooler': 11654, 'xxx': 11655, 'stretches': 11656, 'devised': 11657, 'limb': 11658, 'jail': 11659, 'inhuman': 11660, 'netherlands': 11661, 'uglier': 11662, 'deformed': 11663, 'artificial': 11664, 'lightweight': 11665, 'battalion': 11666, 'thingy': 11667, 'gikwang': 11668, 'skinner': 11669, 'tryst': 11670, 'weismans': 11671, 'monroe': 11672, 'climbing': 11673, 'horizontal': 11674, 'cramped': 11675, 'ensue': 11676, 'instigated': 11677, 'badman': 11678, 'gfathers': 11679, 'ute': 11680, 'manure': 11681, 'compost': 11682, 'assuming': 11683, 'nannying': 11684, 'snark': 11685, 'tribal': 11686, 'journalist': 11687, 'wheels': 11688, 'sipping': 11689, 'mousekins': 11690, 'throes': 11691, 'ownership': 11692, 'whod': 11693, 'insecured': 11694, 'await': 11695, 'andrew': 11696, 'mil': 11697, 'brink': 11698, 'firsthand': 11699, 'cox': 11700, 'fundamentally': 11701, 'democratic': 11702, 'primaries': 11703, 'miniscule': 11704, 'hatter': 11705, 'jittery': 11706, 'meh': 11707, 'romanticising': 11708, 'pairing': 11709, 'castiel': 11710, 'palm': 11711, 'washroom': 11712, 'recordings': 11713, 'rekindled': 11714, 'species': 11715, 'leanne': 11716, 'justanswer': 11717, 'donate': 11718, 'proceeds': 11719, 'tourists': 11720, 'rides': 11721, 'caledonia': 11722, 'ampatuan': 11723, 'odor': 11724, 'ugliest': 11725, 'dayummm': 11726, 'tabby': 11727, 'routes': 11728, 'creek': 11729, 'meadow': 11730, 'wap': 11731, 'folder': 11732, 'regimented': 11733, 'titanic': 11734, 'locked': 11735, 'taint': 11736, 'echoed': 11737, 'slither': 11738, 'sneak': 11739, 'smelt': 11740, 'quaker': 11741, 'excitedly': 11742, 'fortnight': 11743, 'daisy': 11744, 'feelbut': 11745, 'gathers': 11746, 'lone': 11747, 'introduced': 11748, 'packs': 11749, 'rations': 11750, 'bloated': 11751, 'borrowed': 11752, 'bumper': 11753, 'adversely': 11754, 'adverse': 11755, 'hearnsays': 11756, 'lawless': 11757, 'innuendo': 11758, 'tooth': 11759, 'doucher': 11760, 'idaho': 11761, 'drier': 11762, 'mascaras': 11763, 'swath': 11764, 'frequency': 11765, 'lowests': 11766, 'zap': 11767, 'hooker': 11768, 'goth': 11769, 'hypocrisy': 11770, 'matty': 11771, 'bursts': 11772, 'hesitations': 11773, 'rhythmic': 11774, 'hops': 11775, 'nigeria': 11776, 'insanely': 11777, 'fortitude': 11778, 'cautiously': 11779, 'obnoxiously': 11780, 'verbal': 11781, 'tics': 11782, 'sharpest': 11783, 'rewrite': 11784, 'fma': 11785, 'bugging': 11786, 'insyallah': 11787, 'discontinued': 11788, 'theif': 11789, 'chivalry': 11790, 'magnanimity': 11791, 'opposition': 11792, 'knowingly': 11793, 'turbulently': 11794, 'container': 11795, 'exchanging': 11796, 'silences': 11797, 'referred': 11798, 'amusing': 11799, 'slugged': 11800, 'desolation': 11801, 'consolation': 11802, 'froze': 11803, 'maniacal': 11804, 'rants': 11805, 'wept': 11806, 'replied': 11807, 'endorphin': 11808, 'seizing': 11809, 'descriptions': 11810, 'birthmoms': 11811, 'warms': 11812, 'inter': 11813, 'generational': 11814, 'feat': 11815, 'arty': 11816, 'monkees': 11817, 'tearing': 11818, 'grit': 11819, 'eighteen': 11820, 'mistreatment': 11821, 'dao': 11822, 'strategies': 11823, 'representatives': 11824, 'advertisement': 11825, 'ect': 11826, 'rural': 11827, 'moreso': 11828, 'synthwave': 11829, 'neds': 11830, 'atomic': 11831, 'dustbin': 11832, 'skins': 11833, 'posies': 11834, 'pixies': 11835, 'springhouse': 11836, 'morrissey': 11837, 'depleted': 11838, 'checklist': 11839, 'clermont': 11840, 'xanax': 11841, 'steinbeck': 11842, 'tgirl': 11843, 'sweatpants': 11844, 'commuted': 11845, 'trains': 11846, 'ferries': 11847, 'pocket': 11848, 'armani': 11849, 'blazer': 11850, 'unworthiness': 11851, 'chaste': 11852, 'herbs': 11853, 'overreacted': 11854, 'looooong': 11855, 'irresistible': 11856, 'frock': 11857, 'craziest': 11858, 'weirdest': 11859, 'adjustments': 11860, 'bloater': 11861, 'mediation': 11862, 'delay': 11863, 'snowglobe': 11864, 'dilute': 11865, 'givings': 11866, 'porcupine': 11867, 'hmmm': 11868, 'puff': 11869, 'oilers': 11870, 'fleshed': 11871, 'fluttering': 11872, 'feverish': 11873, 'fahad': 11874, 'leaning': 11875, 'skeleton': 11876, 'spurned': 11877, 'vine': 11878, 'nursed': 11879, 'honkerblonked': 11880, 'misinterpreted': 11881, 'invented': 11882, 'hail': 11883, 'ember': 11884, 'flake': 11885, 'snappy': 11886, 'amplified': 11887, 'offending': 11888, 'completeness': 11889, 'sobered': 11890, 'muster': 11891, 'hubbie': 11892, 'ii': 11893, 'chops': 11894, 'poignant': 11895, 'piercing': 11896, 'penetrating': 11897, 'figment': 11898, 'scriptures': 11899, 'abbigail': 11900, 'apraxia': 11901, 'filmmaker': 11902, 'experts': 11903, 'discontented': 11904, 'reincarnation': 11905, 'outdoors': 11906, 'wallowing': 11907, 'ewan': 11908, 'lifespan': 11909, 'likelihood': 11910, 'collaborative': 11911, 'ne': 11912, 'likeable': 11913, 'selfs': 11914, 'jigsaw': 11915, 'derfwadmanor': 11916, 'imply': 11917, 'hyperemesis': 11918, 'crake': 11919, 'alcoholic': 11920, 'dribbling': 11921, 'egypt': 11922, 'hoppers': 11923, 'ineffective': 11924, 'anxieties': 11925, 'murdering': 11926, 'cells': 11927, 'maximise': 11928, 'effed': 11929, 'looming': 11930, 'deadlines': 11931, 'pulpit': 11932, 'efficacy': 11933, 'hilariously': 11934, 'datey': 11935, 'occassionally': 11936, 'earrings': 11937, 'plugs': 11938, 'dorm': 11939, 'inspected': 11940, 'inclination': 11941, 'jamies': 11942, 'shandur': 11943, 'polo': 11944, 'located': 11945, 'western': 11946, 'surroundings': 11947, 'undo': 11948, 'bigotry': 11949, 'binds': 11950, 'elvive': 11951, 'strayed': 11952, 'sls': 11953, 'pillows': 11954, 'islam': 11955, 'downers': 11956, 'appreciates': 11957, 'prevalent': 11958, 'unreality': 11959, 'repair': 11960, 'fifty': 11961, 'unbearable': 11962, 'percieves': 11963, 'berate': 11964, 'mri': 11965, 'skillz': 11966, 'snooze': 11967, 'keynotes': 11968, 'comparisons': 11969, 'tbr': 11970, 'boxes': 11971, 'stiller': 11972, 'vaughn': 11973, 'haters': 11974, 'prey': 11975, 'ron': 11976, 'trudging': 11977, 'transpired': 11978, 'arise': 11979, 'whitley': 11980, 'sunsets': 11981, 'photoshoot': 11982, 'squeak': 11983, 'baachan': 11984, 'trolley': 11985, 'ibleeditout': 11986, 'kodi': 11987, 'overhear': 11988, 'geeks': 11989, 'ringtone': 11990, 'unreasonably': 11991, 'idiosyncrasies': 11992, 'edmontonians': 11993, 'climate': 11994, 'ab': 11995, 'neurosurgeons': 11996, 'feauture': 11997, 'feautures': 11998, 'selena': 11999, 'bb': 12000, 'beluga': 12001, 'scape': 12002, 'sinks': 12003, 'odkh': 12004, 'buddys': 12005, 'misused': 12006, 'apostrophe': 12007, 'bbc': 12008, 'incorrect': 12009, 'spelling': 12010, 'itv': 12011, 'luminaries': 12012, 'swinelord': 12013, 'deluxe': 12014, 'poaching': 12015, 'vicarious': 12016, 'agtalk': 12017, 'atoshealthcare': 12018, 'represented': 12019, 'implementing': 12020, 'andreas': 12021, 'reminders': 12022, 'lulls': 12023, 'overslept': 12024, 'conditioned': 12025, 'aol': 12026, 'verizon': 12027, 'restored': 12028, 'sustainabilitys': 12029, 'hindered': 12030, 'marillac': 12031, 'residential': 12032, 'freezer': 12033, 'nostril': 12034, 'pander': 12035, 'affirmed': 12036, 'revamped': 12037, 'impulse': 12038, 'resonating': 12039, 'bradbury': 12040, 'miniature': 12041, 'naight': 12042, 'formulate': 12043, 'quivering': 12044, 'shivering': 12045, 'accelerated': 12046, 'flickering': 12047, 'heralding': 12048, 'illustrators': 12049, 'crosshatching': 12050, 'lensflares': 12051, 'canadians': 12052, 'recession': 12053, 'premonitions': 12054, 'nevertheless': 12055, 'swept': 12056, 'superstition': 12057, 'caution': 12058, 'seminar': 12059, 'alternating': 12060, 'inadequacies': 12061, 'lsd': 12062, 'chemist': 12063, 'shroomery': 12064, 'smarty': 12065, 'awaits': 12066, 'suicidal': 12067, 'prestigious': 12068, 'vagina': 12069, 'sugary': 12070, 'bass': 12071, 'shahzad': 12072, 'ismaily': 12073, 'breastfeeding': 12074, 'hobnob': 12075, 'werner': 12076, 'bashing': 12077, 'gw': 12078, 'preclude': 12079, 'envisioned': 12080, 'conversing': 12081, 'riku': 12082, 'poison': 12083, 'bunk': 12084, 'aesthetics': 12085, 'gluten': 12086, 'noone': 12087, 'beholder': 12088, 'gap': 12089, 'securities': 12090, 'reaura': 12091, 'firming': 12092, 'smoothing': 12093, 'disjointed': 12094, 'descriptive': 12095, 'monogrammed': 12096, 'ranks': 12097, 'frugal': 12098, 'antics': 12099, 'improv': 12100, 'muttered': 12101, 'tolerating': 12102, 'grotesque': 12103, \"one's\": 12104, 'nestled': 12105, 'saddled': 12106, 'pissing': 12107, 'flexy': 12108, 'soaked': 12109, 'homophobic': 12110, 'keyed': 12111, 'laughable': 12112, 'knowledgeable': 12113, 'savor': 12114, 'assessments': 12115, 'awed': 12116, 'presumably': 12117, 'uniqueness': 12118, 'presupposition': 12119, 'holli': 12120, 'reese': 12121, 'mensa': 12122, 'unconscious': 12123, 'overt': 12124, 'visting': 12125, 'scare': 12126, 'apologetic': 12127, 'drivel': 12128, 'advertises': 12129, 'stupendous': 12130, 'incredulity': 12131, 'managers': 12132, 'biscuits': 12133, 'crisps': 12134, 'yearns': 12135, 'detested': 12136, 'joyous': 12137, 'vigilant': 12138, 'whoosh': 12139, 'dipshit': 12140, 'affection': 12141, 'females': 12142, 'preferred': 12143, 'effeminacy': 12144, 'livevideo': 12145, 'mice': 12146, 'parade': 12147, 'peeling': 12148, 'allergic': 12149, 'reliant': 12150, 'broadly': 12151, 'feasted': 12152, 'brach': 12153, 'chipmunk': 12154, 'carlas': 12155, 'disease': 12156, 'tith': 12157, 'ath': 12158, 'afp': 12159, 'hrs': 12160, 'sinus': 12161, 'unavoidably': 12162, 'shortcomings': 12163, 'animosity': 12164, 'ios': 12165, 'galaxy': 12166, 'sii': 12167, 'lumia': 12168, 'errrr': 12169, 'noe': 12170, 'les': 12171, 'historians': 12172, 'eras': 12173, 'infatuation': 12174, 'civilization': 12175, 'snuggled': 12176, 'spencer': 12177, 'belle': 12178, 'sebastian': 12179, 'annulment': 12180, 'holden': 12181, 'caulfield': 12182, 'schizofrenic': 12183, 'fights': 12184, 'takeaways': 12185, 'choccy': 12186, 'binges': 12187, 'existent': 12188, 'mold': 12189, 'rivalry': 12190, 'ubuntu': 12191, 'unsolved': 12192, 'hugely': 12193, 'refrigerator': 12194, 'headlamp': 12195, 'tent': 12196, 'mehow': 12197, 'infield': 12198, 'insider': 12199, 'timer': 12200, 'friendfeed': 12201, 'dearwendy': 12202, 'rockette': 12203, 'chendol': 12204, 'kacang': 12205, 'revisiting': 12206, 'fee': 12207, 'frank': 12208, 'catholics': 12209, 'workshop': 12210, 'hairstye': 12211, 'showroom': 12212, 'horrifying': 12213, 'cammie': 12214, 'sobbing': 12215, 'oftentimes': 12216, 'sentinel': 12217, 'hanford': 12218, 'councilman': 12219, 'chins': 12220, 'proposed': 12221, 'committee': 12222, 'summed': 12223, 'binging': 12224, 'scheduler': 12225, 'repairman': 12226, 'yawning': 12227, 'xbla': 12228, 'sony': 12229, 'handheld': 12230, 'grim': 12231, 'demotivate': 12232, 'diwali': 12233, 'diss': 12234, 'fug': 12235, 'relations': 12236, 'thereof': 12237, 'investigators': 12238, 'ponder': 12239, 'emoexaderistic': 12240, 'apps': 12241, 'whip': 12242, 'crunchy': 12243, 'somethign': 12244, 'stamp': 12245, 'imitates': 12246, 'sections': 12247, 'undefinable': 12248, 'simpler': 12249, 'uncomfterble': 12250, 'possess': 12251, 'checklists': 12252, 'polished': 12253, 'legality': 12254, 'tatters': 12255, 'messaging': 12256, 'prop': 12257, 'bloods': 12258, 'abnormally': 12259, 'staked': 12260, 'feeder': 12261, 'emtyness': 12262, 'undertone': 12263, 'convo': 12264, 'veterinary': 12265, 'accessaries': 12266, 'unjust': 12267, 'bt': 12268, 'thn': 12269, 'acquainted': 12270, 'ensure': 12271, 'radical': 12272, 'gfs': 12273, 'heated': 12274, 'angled': 12275, 'sweep': 12276, 'hollows': 12277, 'chin': 12278, 'transcribe': 12279, 'ba': 12280, 'indie': 12281, 'charitable': 12282, 'donations': 12283, 'sodding': 12284, 'canteen': 12285, 'tipping': 12286, 'bounces': 12287, 'marching': 12288, 'saluting': 12289, 'overthink': 12290, 'tyrant': 12291, 'dedicates': 12292, 'realizes': 12293, 'contacting': 12294, 'wrongfully': 12295, 'astray': 12296, 'gaps': 12297, 'weakest': 12298, 'dismissing': 12299, 'disconnects': 12300, 'pioneers': 12301, 'mis': 12302, 'dishonoring': 12303, 'partaking': 12304, 'feast': 12305, 'nailart': 12306, 'unbelievable': 12307, 'existence': 12308, 'navigate': 12309, 'summery': 12310, 'elements': 12311, 'bummin': 12312, 'forsaken': 12313, 'growled': 12314, 'uncomposed': 12315, 'concealer': 12316, 'rawly': 12317, 'nutritional': 12318, 'knight': 12319, 'denim': 12320, 'caressed': 12321, 'affectionately': 12322, 'sparsh': 12323, 'idealistic': 12324, 'proported': 12325, 'cruelty': 12326, 'professionals': 12327, 'sloughed': 12328, 'kathumped': 12329, 'diminish': 12330, 'ocd': 12331, 'unfolds': 12332, 'duckie': 12333, 'commies': 12334, 'feds': 12335, 'instagram': 12336, 'vj': 12337, 'fountains': 12338, 'diamonds': 12339, 'eschew': 12340, 'foraging': 12341, 'nervously': 12342, 'collapses': 12343, 'constitutional': 12344, 'bureaucracies': 12345, 'atheism': 12346, 'fails': 12347, 'immigrants': 12348, 'refugees': 12349, 'walter': 12350, 'emotionless': 12351, 'acheivment': 12352, 'unwind': 12353, 'breather': 12354, 'katniss': 12355, 'triggering': 12356, 'vomiting': 12357, 'drivers': 12358, 'iya': 12359, 'barker': 12360, 'horrors': 12361, 'ambleside': 12362, 'warmest': 12363, 'sunniest': 12364, 'gabapentin': 12365, 'zonisamide': 12366, 'jaeryong': 12367, 'jungeuns': 12368, 'buzzy': 12369, 'preparations': 12370, 'dough': 12371, 'satans': 12372, 'takings': 12373, 'donated': 12374, 'easel': 12375, 'shamefully': 12376, 'gurus': 12377, 'persuasively': 12378, 'phenomena': 12379, 'ovations': 12380, 'lve': 12381, 'yu': 12382, 'ruining': 12383, 'membres': 12384, 'sixty': 12385, 'funk': 12386, 'jumbleupon': 12387, 'headcold': 12388, 'ordering': 12389, 'tubs': 12390, 'dakota': 12391, 'morla': 12392, 'totality': 12393, 'gigantic': 12394, 'scabi': 12395, 'verona': 12396, 'criticizing': 12397, 'praising': 12398, 'sneeze': 12399, 'lawn': 12400, 'tak': 12401, 'benzema': 12402, 'mould': 12403, 'kangna': 12404, 'ranaut': 12405, 'proven': 12406, 'retake': 12407, 'visable': 12408, 'spotlighted': 12409, 'unfashionable': 12410, 'vocref': 12411, 'ontology': 12412, 'vampires': 12413, 'examining': 12414, 'dimple': 12415, 'sag': 12416, 'itsy': 12417, 'bitsy': 12418, 'vogue': 12419, 'broom': 12420, 'scrubbing': 12421, 'vinegar': 12422, 'depart': 12423, 'moanday': 12424, 'mysterious': 12425, 'intimately': 12426, 'buoyed': 12427, 'surrender': 12428, 'transcendent': 12429, 'sooooooooooo': 12430, 'captivity': 12431, 'expects': 12432, 'stasia': 12433, 'tattered': 12434, 'gust': 12435, 'knocks': 12436, 'nicotine': 12437, 'withdrawal': 12438, 'unresponsive': 12439, 'dharavi': 12440, 'turnovers': 12441, 'cheerfull': 12442, 'tigger': 12443, 'calgary': 12444, 'swung': 12445, 'epidural': 12446, 'wtf': 12447, 'coworker': 12448, 'travelled': 12449, 'echoes': 12450, 'gary': 12451, 'swaddled': 12452, 'dismisses': 12453, 'blindly': 12454, 'treader': 12455, 'hardcover': 12456, 'flatmate': 12457, 'outrageously': 12458, 'tourette': 12459, 'carnage': 12460, 'spoonful': 12461, 'boredom': 12462, 'mediterranean': 12463, 'imperfect': 12464, 'flounders': 12465, 'cricnepal': 12466, 'dumplings': 12467, 'chinatown': 12468, 'lemonade': 12469, 'leafy': 12470, 'brunswick': 12471, 'barbecue': 12472, 'edinburgh': 12473, 'beirut': 12474, 'rumbling': 12475, 'doodly': 12476, 'trendy': 12477, 'afrade': 12478, 'pram': 12479, 'hurricane': 12480, 'katrina': 12481, 'bailed': 12482, 'entail': 12483, 'mines': 12484, 'smooch': 12485, 'unsuspecting': 12486, 'napping': 12487, 'wintry': 12488, 'imaginary': 12489, 'kerry': 12490, 'unions': 12491, 'equality': 12492, 'flossing': 12493, 'sabbatical': 12494, 'bathrooms': 12495, 'trope': 12496, 'smash': 12497, 'unlikeable': 12498, 'carolina': 12499, 'teamed': 12500, 'squelching': 12501, 'mud': 12502, 'contents': 12503, 'hp': 12504, 'charging': 12505, 'mane': 12506, 'lp': 12507, 'baba': 12508, 'emote': 12509, 'weaved': 12510, 'mystified': 12511, 'inspect': 12512, 'samples': 12513, 'newton': 12514, 'panthers': 12515, 'prime': 12516, 'menses': 12517, 'subcontinent': 12518, 'xox': 12519, 'frown': 12520, 'dryers': 12521, 'plunge': 12522, 'developing': 12523, 'capturing': 12524, 'balloons': 12525, 'evolve': 12526, 'derided': 12527, 'referees': 12528, 'shouting': 12529, 'swearing': 12530, 'anything—just': 12531, 'effectual': 12532, 'asami': 12533, 'jackets': 12534, 'surgeons': 12535, 'evaluating': 12536, 'hilmari': 12537, 'pcm': 12538, 'scramble': 12539, 'meticulously': 12540, 'drip': 12541, 'pores': 12542, 'favorites': 12543, 'careeeeee': 12544, 'distances': 12545, 'hotels': 12546, 'pumpin': 12547, 'pressurized': 12548, 'cabin': 12549, 'tested': 12550, 'effectiveness': 12551, 'paragraph': 12552, 'drill': 12553, 'icy': 12554, 'hyped': 12555, 'diners': 12556, 'hogging': 12557, 'shoudlnt': 12558, 'removing': 12559, 'maryland': 12560, 'jam': 12561, 'unwell': 12562, 'celebrates': 12563, 'entrenchedly': 12564, 'pureland': 12565, 'seeds': 12566, 'abundantly': 12567, 'photoshoots': 12568, 'decorations': 12569, 'functioning': 12570, 'laetshi': 12571, 'internship': 12572, 'pies': 12573, 'goodie': 12574, 'wherein': 12575, 'apprised': 12576, 'sympathies': 12577, 'overemotional': 12578, 'cheaply': 12579, 'buffalo': 12580, 'hibernating': 12581, 'hurl': 12582, 'betrayal': 12583, 'gook': 12584, 'pinky': 12585, 'albuquerque': 12586, 'withdrawn': 12587, 'eyelash': 12588, 'curler': 12589, 'society’s': 12590, 'harrass': 12591, 'oppressed': 12592, 'resented': 12593, 'pits': 12594, 'error': 12595, 'jurys': 12596, 'verdict': 12597, 'impenetrable': 12598, 'crescents': 12599, 'flour': 12600, 'september': 12601, 'peice': 12602, 'bm': 12603, 'sloan': 12604, 'utah': 12605, 'trainable': 12606, 'chewing': 12607, 'sauntered': 12608, 'professionalism': 12609, 'duties': 12610, 'imperturbable': 12611, 'cataclysmic': 12612, 'bloat': 12613, 'rundown': 12614, 'derby': 12615, 'slap': 12616, 'grayish': 12617, 'getaway': 12618, 'grabby': 12619, 'tripping': 12620, 'tall': 12621, 'cotton': 12622, 'developers': 12623, 'slippers': 12624, 'dopey': 12625, 'regulated': 12626, 'vomited': 12627, 'implies': 12628, 'orderly': 12629, 'procession': 12630, 'ffviii': 12631, 'belittle': 12632, 'toenail': 12633, 'kj': 12634, 'middot': 12635, 'caregiver': 12636, 'criticize': 12637, 'bontoc': 12638, 'wod': 12639, 'rudderless': 12640, 'invade': 12641, 'brainless': 12642, 'tenses': 12643, 'woefully': 12644, 'undeservedly': 12645, 'infrastructure': 12646, 'inequality': 12647, 'sai': 12648, 'apc': 12649, 'incompetent': 12650, 'grumbling': 12651, 'john': 12652, 'fullbright': 12653, 'foist': 12654, 'ovaries': 12655, 'leadingstrings': 12656, 'embedded': 12657, 'letdown': 12658, 'runneth': 12659, 'aimlessly': 12660, 'lemme': 12661, 'infertility': 12662, 'vbac': 12663, 'inherently': 12664, 'celebratory': 12665, 'monogamous': 12666, 'apples': 12667, 'dumbass': 12668, 'rukia': 12669, 'rediculous': 12670, 'olden': 12671, 'sarawak': 12672, 'jugra': 12673, 'chronicles': 12674, 'twitches': 12675, 'quoted': 12676, 'protesting': 12677, 'drainage': 12678, 'stalker': 12679, 'adores': 12680, 'scabbed': 12681, 'unhealed': 12682, 'bruise': 12683, 'practicies': 12684, 'cult': 12685, 'falun': 12686, 'gong': 12687, 'bemused': 12688, 'baileys': 12689, 'nhs': 12690, 'gunna': 12691, 'cousins': 12692, 'enables': 12693, 'fools': 12694, 'extensive': 12695, 'despondent': 12696, 'knitters': 12697, 'olympians': 12698, 'impressing': 12699, 'sectret': 12700, 'egf': 12701, 'repairing': 12702, 'jar': 12703, 'sparkleapple': 12704, 'crocs': 12705, 'fashionable': 12706, 'shoe': 12707, 'icon': 12708, 'xs': 12709, 'gather': 12710, 'blocks': 12711, 'hen': 12712, 'coo': 12713, 'firstborn': 12714, 'solidarity': 12715, 'iraq': 12716, 'prisoners': 12717, 'stripping': 12718, 'bakery': 12719, 'relegated': 12720, 'discernment': 12721, 'strictly': 12722, 'bucket': 12723, 'anaesthetic': 12724, 'religions': 12725, 'mythologies': 12726, 'molyneux': 12727, 'rfttttttttttsjiowefmklldkavsvdsbtwrsbdvfocxfibjxrklrgrmvaeridubneosdvfrwfd': 12728, 'stressing': 12729, 'flagellating': 12730, 'priest': 12731, 'managment': 12732, 'disposable': 12733, 'retain': 12734, 'couples': 12735, 'whirlwind': 12736, 'pirate': 12737, 'landlubber': 12738, 'grammar': 12739, 'disclosure': 12740, 'collaboration': 12741, 'invariably': 12742, 'deliberate': 12743, 'possesive': 12744, 'aubrey': 12745, 'baptism': 12746, 'americas': 12747, 'voicing': 12748, 'polling': 12749, 'mishandled': 12750, 'mallrat': 12751, 'adhere': 12752, 'saloon': 12753, 'blurting': 12754, 'assault': 12755, 'insipid': 12756, 'featured': 12757, 'illustrated': 12758, 'boomers': 12759, 'claimed': 12760, 'mystical': 12761, 'unemotional': 12762, 'vienna': 12763, 'sailing': 12764, 'taxes': 12765, 'courthouses': 12766, 'intimidate': 12767, 'cheerfully': 12768, 'bourbon': 12769, 'lorena': 12770, 'exhilaration': 12771, 'shortly': 12772, 'commons': 12773, 'underlying': 12774, 'pleading': 12775, 'diane': 12776, 'von': 12777, 'furstenberg': 12778, 'rodarte': 12779, 'wu': 12780, 'reproductive': 12781, 'wisconsin': 12782, 'orgasmic': 12783, 'stupor': 12784, 'envelops': 12785, 'downtown': 12786, 'smiths': 12787, 'crampy': 12788, 'malaysia': 12789, 'lavender': 12790, 'fiercely': 12791, 'assuage': 12792, 'tiniest': 12793, 'pretended': 12794, 'treassured': 12795, 'ti': 12796, 'unreliable': 12797, 'showers': 12798, 'graces': 12799, 'illusions': 12800, 'wantd': 12801, 'kinship': 12802, 'mounting': 12803, 'taker': 12804, 'barbeque': 12805, 'redhead': 12806, 'tallinn': 12807, 'eqafe': 12808, 'fixable': 12809, 'sob': 12810, 'carbohydrates': 12811, 'expand': 12812, 'waistline': 12813, 'jeans': 12814, 'sojourn': 12815, 'rampage': 12816, 'warner': 12817, 'format': 12818, 'blu': 12819, 'eternally': 12820, 'torned': 12821, 'ars': 12822, 'nes': 12823, 'croatians': 12824, 'marten': 12825, 'soles': 12826, 'barbies': 12827, 'newcomers': 12828, 'component': 12829, 'nonbipartisan': 12830, 'rosary': 12831, 'systematically': 12832, 'assassinated': 12833, 'genius': 12834, 'hy': 12835, 'shushing': 12836, 'eerily': 12837, 'parallels': 12838, 'burying': 12839, 'electrified': 12840, 'selectively': 12841, 'liz': 12842, 'earle': 12843, 'joe': 12844, 'prosperous': 12845, 'gaming': 12846, 'jrpgs': 12847, 'gamers': 12848, 'restaurants': 12849, 'eateries': 12850, 'churchoffuck': 12851, 'facilitating': 12852, 'daddys': 12853, 'righteousness': 12854, 'humungous': 12855, 'wobbly': 12856, 'nonexistence': 12857, 'ingrain': 12858, 'download': 12859, 'wiki': 12860, 'resentments': 12861, 'torward': 12862, 'dunnno': 12863, 'dependency': 12864, 'neediness': 12865, 'blubbering': 12866, 'vivek': 12867, 'oberoi': 12868, 'pageviews': 12869, 'reaaallyyyy': 12870, 'smirking': 12871, 'fitted': 12872, 'pencil': 12873, 'ivspirit': 12874, 'translatethis': 12875, 'malignant': 12876, 'melonoma': 12877, 'tangled': 12878, 'assert': 12879, 'bruised': 12880, 'harshness': 12881, 'wearied': 12882, 'relentlessness': 12883, 'loft': 12884, 'offerings': 12885, 'hunting': 12886, 'fishing': 12887, 'roster': 12888, 'housekeep': 12889, 'ebayed': 12890, 'marilyn': 12891, 'mamas': 12892, 'kina': 12893, 'milestone': 12894, 'novice': 12895, 'cantor': 12896, 'derp': 12897, 'lrt': 12898, 'rode': 12899, 'ren': 12900, 'stimpy': 12901, 'gemini': 12902, 'scorpio': 12903, 'hallucinate': 12904, 'endeavoring': 12905, 'authenticity': 12906, 'tenderness': 12907, 'vow': 12908, 'gasp': 12909, 'marybeth': 12910, 'isabella': 12911, 'raider': 12912, 'squirts': 12913, 'prenatal': 12914, 'likeguy': 12915, 'mayhem': 12916, 'iolani': 12917, 'sexist': 12918, 'huckleberry': 12919, 'finn': 12920, 'censored': 12921, 'fucker': 12922, 'lathi': 12923, 'grounds': 12924, 'travis': 12925, 'knotting': 12926, 'sci': 12927, 'glimpses': 12928, 'panty': 12929, 'lucas': 12930, 'buttons': 12931, 'suspicion': 12932, 'studs': 12933, 'visible': 12934, 'notch': 12935, 'toss': 12936, 'shimmy': 12937, 'whitney': 12938, 'aka': 12939, 'tltg': 12940, 'curb': 12941, 'swan': 12942, 'yelping': 12943, 'scarecrow': 12944, 'wizard': 12945, 'oz': 12946, 'okc': 12947, 'eharmony': 12948, 'diagnostician': 12949, 'hindrance': 12950, 'dart': 12951, 'dues': 12952, 'voyeur': 12953, 'nakedness': 12954, 'kites': 12955, 'shelter': 12956, 'outshined': 12957, 'relentless': 12958, 'empathtic': 12959, 'standouts': 12960, 'feist': 12961, 'drew': 12962, 'focalors': 12963, 'sigil': 12964, 'opium': 12965, 'meditated': 12966, 'rounder': 12967, 'ripe': 12968, 'maks': 12969, 'axel': 12970, 'casablanca': 12971, 'dlpt': 12972, 'animesh': 12973, 'daydreaming': 12974, 'mohammed': 12975, 'prettier': 12976, 'frombut': 12977, 'articulating': 12978, 'verbally': 12979, 'muay': 12980, 'separates': 12981, 'scientist': 12982, 'gravity': 12983, 'hassle': 12984, 'curly': 12985, 'straighten': 12986, 'bungalow': 12987, 'bandaid': 12988, 'rounded': 12989, 'quaking': 12990, 'heighten': 12991, 'crucial': 12992, 'expatriates': 12993, 'predominantly': 12994, 'budgetary': 12995, 'fascinating': 12996, 'womanhood': 12997, 'analyze': 12998, 'cinderalla': 12999, 'willis': 13000, 'monkeys': 13001, 'irresponsible': 13002, 'buck': 13003, 'soapbox': 13004, 'accepts': 13005, 'irreplaceable': 13006, 'idrc': 13007, 'hachi': 13008, 'rushes': 13009, 'nobu': 13010, 'nana': 13011, 'starving': 13012, 'ethiopia': 13013, 'chicks': 13014, 'ka': 13015, 'sexuality': 13016, 'cardiovascular': 13017, 'headachie': 13018, 'promotional': 13019, 'commercials': 13020, 'dialogue': 13021, 'foreboding': 13022, 'fn': 13023, 'liberty': 13024, 'overheated': 13025, 'mega': 13026, 'todayyy': 13027, 'haul': 13028, 'lava': 13029, 'export': 13030, 'disconnect': 13031, 'hu': 13032, 'jia': 13033, 'lawrencewashington': 13034, 'peach': 13035, 'multiband': 13036, 'catalyst': 13037, 'ehh': 13038, 'freshen': 13039, 'underwear': 13040, 'drawer': 13041, 'manipulkated': 13042, 'il': 13043, 'procrastinating': 13044, 'treating': 13045, 'skater': 13046, 'practices': 13047, 'assurance': 13048, 'lt': 13049, 'kindaish': 13050, 'sighhh': 13051, 'smoked': 13052, 'pun': 13053, 'tricks': 13054, 'keith': 13055, 'detoured': 13056, 'xela': 13057, 'ski': 13058, 'slope': 13059, 'command': 13060, 'needles': 13061, 'bludgeon': 13062, 'onlookers': 13063, 'acquire': 13064, 'minded': 13065, 'assertive': 13066, 'scoop': 13067, 'manual': 13068, 'charts': 13069, 'abyss': 13070, 'crossroads': 13071, 'musicians': 13072, 'costumes': 13073, 'grandchild': 13074, 'beacuse': 13075, 'clozapine': 13076, 'fixing': 13077, 'cathing': 13078, 'subsidization': 13079, 'clairee': 13080, 'slashed': 13081, 'mulligans': 13082, 'chilled': 13083, 'ambience': 13084, 'museums': 13085, 'representative': 13086, \"wouldn't\": 13087, 'physics': 13088, 'thugs': 13089, 'aged': 13090, 'policemen': 13091, 'terrifies': 13092, 'remodeled': 13093, 'amenities': 13094, 'legitimately': 13095, 'adrasteius': 13096, 'eulalias': 13097, 'adventures': 13098, 'tho': 13099, 'tangles': 13100, 'misbehavior': 13101, 'unavoidable': 13102, 'staggering': 13103, 'pennies': 13104, 'pesach': 13105, 'ethnic': 13106, 'jingly': 13107, 'beared': 13108, 'bouncer': 13109, 'proplems': 13110, 'bitched': 13111, 'vinnie': 13112, 'kompany': 13113, 'joleon': 13114, 'kolo': 13115, 'toure': 13116, 'britain': 13117, 'xvi': 13118, 'antoinette': 13119, 'russia': 13120, 'unprofessional': 13121, 'uwilnevrknow': 13122, 'separated': 13123, 'introducing': 13124, 'sprinkling': 13125, 'occur': 13126, 'achievements': 13127, 'titles': 13128, 'hemorrhoids': 13129, 'rubbed': 13130, 'priority': 13131, 'vibration': 13132, 'koyama': 13133, 'researching': 13134, 'alton': 13135, 'towers': 13136, 'randomly': 13137, 'beak': 13138, 'nearest': 13139, 'gentleman': 13140, 'competent': 13141, 'clarinet': 13142, 'bills': 13143, 'impotent': 13144, 'snowboarding': 13145, 'illustrating': 13146, 'slobby': 13147, 'eloquent': 13148, 'array': 13149, 'delights': 13150, 'legard': 13151, 'exuberance': 13152, 'pending': 13153, 'device': 13154, 'dining': 13155, 'sombre': 13156, 'pose': 13157, 'rego': 13158, 'council': 13159, 'regional': 13160, 'defended': 13161, 'sanctity': 13162, 'inline': 13163, 'regaining': 13164, 'successes': 13165, 'portland': 13166, 'setups': 13167, 'ffxi': 13168, 'duh': 13169, 'sweetness': 13170, 'recess': 13171, 'technical': 13172, 'noon': 13173, 'spelt': 13174, 'sorbet': 13175, 'dubied': 13176, 'istanbul': 13177, 'homesickish': 13178, 'snowpea': 13179, 'nissan': 13180, 'stanza': 13181, 'rt': 13182, 'nailed': 13183, 'incomes': 13184, 'unkindness': 13185, 'selfishness': 13186, 'distorted': 13187, 'distaste': 13188, 'retired': 13189, 'seeped': 13190, 'carrry': 13191, 'unearthly': 13192, 'stamped': 13193, 'you’d': 13194, 'this”': 13195, 'reasoning': 13196, 'caretakers': 13197, 'hourglass': 13198, 'retarded': 13199, 'thrill': 13200, 'tryin': 13201, 'gud': 13202, 'pal': 13203, 'understad': 13204, 'abt': 13205, 'dats': 13206, 'problemn': 13207, 'carin': 13208, 'rte': 13209, 'oak': 13210, 'trails': 13211, 'bushes': 13212, 'hyperchondria': 13213, 'exaggeration': 13214, 'quell': 13215, 'dodd': 13216, 'deceives': 13217, 'creepy': 13218, 'macabre': 13219, 'fountain': 13220, 'zack': 13221, 'communicator': 13222, 'adn': 13223, 'someobdy': 13224, 'referee': 13225, 'partial': 13226, 'eepctqlhiafjwnrrmas': 13227, 'dated': 13228, 'apologies': 13229, 'nikolas': 13230, 'chiharu': 13231, 'daley': 13232, 'bronze': 13233, 'medal': 13234, 'wi': 13235, 'hendricks': 13236, 'porcelain': 13237, 'whack': 13238, 'panorma': 13239, 'virus': 13240, 'sack': 13241, 'gameplay': 13242, 'detoxing': 13243, 'declare': 13244, 'songy': 13245, 'embedding': 13246, 'idling': 13247, 'acquaint': 13248, 'decluttering': 13249, 'doubting': 13250, 'advancement': 13251, 'geography': 13252, 'boxing': 13253, 'mounts': 13254, 'saves': 13255, 'murmurs': 13256, 'confidential': 13257, 'intermediaries': 13258, 'supportiveness': 13259, 'unfolded': 13260, 'nicole': 13261, 'sage': 13262, 'crawled': 13263, 'frequent': 13264, 'posters': 13265, 'thread': 13266, 'contentedly': 13267, 'bleed': 13268, 'emergence': 13269, 'comfident': 13270, 'experimenting': 13271, 'copying': 13272, 'difficulties': 13273, 'cena': 13274, 'warmly': 13275, 'hugging': 13276, 'primary': 13277, 'incrementally': 13278, 'rigid': 13279, 'admin': 13280, 'meath': 13281, 'pinging': 13282, 'rudolph': 13283, 'valentino': 13284, 'unspeakable': 13285, 'coped': 13286, 'wrung': 13287, 'produced': 13288, 'creeps': 13289, 'ghd': 13290, 'straightener': 13291, 'salons': 13292, 'correction': 13293, 'pooped': 13294, 'rabbit': 13295, 'plead': 13296, 'empathise': 13297, 'brazilian': 13298, 'tugging': 13299, 'missile': 13300, 'spy': 13301, 'planes': 13302, 'chromosomes': 13303, 'nurtured': 13304, 'approx': 13305, 'wising': 13306, 'ted': 13307, 'driftingthroughlife': 13308, 'structures': 13309, 'artefacts': 13310, 'untouched': 13311, 'locomotive': 13312, 'kisser': 13313, 'nijifagilie': 13314, 'divert': 13315, 'simplify': 13316, 'demonstration': 13317, 'pimples': 13318}\n"
          ]
        }
      ]
    },
    {
      "cell_type": "code",
      "source": [
        "import numpy as np\n",
        "\n",
        "input_text = [\"not feeling good\"]\n",
        "input_sequence = tokenizer.texts_to_sequences(input_text)\n",
        "padded_input_sequence = pad_sequences(input_sequence, maxlen=max_length)\n",
        "\n",
        "prediction = model.predict(padded_input_sequence)\n",
        "print(\"📌 Raw Output:\", prediction)\n",
        "print(\"🔮 Predicted Emotion:\", le.inverse_transform([np.argmax(prediction[0])]))\n"
      ],
      "metadata": {
        "colab": {
          "base_uri": "https://localhost:8080/"
        },
        "id": "SKx2x1Pf2G1E",
        "outputId": "d7453c39-121b-41df-f4c5-2491072d49bd"
      },
      "execution_count": null,
      "outputs": [
        {
          "output_type": "stream",
          "name": "stdout",
          "text": [
            "\u001b[1m1/1\u001b[0m \u001b[32m━━━━━━━━━━━━━━━━━━━━\u001b[0m\u001b[37m\u001b[0m \u001b[1m0s\u001b[0m 40ms/step\n",
            "📌 Raw Output: [[0.00456881 0.06761686 0.78635746 0.11357    0.02700583 0.00088109]]\n",
            "🔮 Predicted Emotion: ['joy']\n"
          ]
        }
      ]
    },
    {
      "cell_type": "code",
      "source": [
        "import numpy as np\n",
        "\n",
        "# Create test sentences\n",
        "test_sentences = [\"I am very happy today!\", \"I feel so sad and lonely.\", \"That was a scary experience.\",\"I feel so intimidated by his actions\"]\n",
        "\n",
        "# Tokenize and pad them just like training data\n",
        "test_sequences = tokenizer.texts_to_sequences(test_sentences)\n",
        "test_padded = pad_sequences(test_sequences, maxlen=max_length)\n",
        "\n",
        "# Get predictions\n",
        "predictions = model.predict(test_padded)\n",
        "\n",
        "# Convert predictions to emotion labels\n",
        "predicted_labels = le.inverse_transform(np.argmax(predictions, axis=1))\n",
        "\n",
        "# Print results\n",
        "for text, label, pred in zip(test_sentences, predicted_labels, predictions):\n",
        "    print(f\"📝 Input: {text} \\n🔮 Predicted Emotion: {label} \\n🔢 Raw Output: {pred}\\n\")"
      ],
      "metadata": {
        "colab": {
          "base_uri": "https://localhost:8080/"
        },
        "id": "Wo1EFvo_6lha",
        "outputId": "acfd7f63-a02e-4708-d1e1-7943d53b8569"
      },
      "execution_count": null,
      "outputs": [
        {
          "output_type": "stream",
          "name": "stdout",
          "text": [
            "\u001b[1m1/1\u001b[0m \u001b[32m━━━━━━━━━━━━━━━━━━━━\u001b[0m\u001b[37m\u001b[0m \u001b[1m0s\u001b[0m 56ms/step\n",
            "📝 Input: I am very happy today! \n",
            "🔮 Predicted Emotion: joy \n",
            "🔢 Raw Output: [0.00835002 0.07188448 0.5765297  0.25955978 0.07846018 0.00521597]\n",
            "\n",
            "📝 Input: I feel so sad and lonely. \n",
            "🔮 Predicted Emotion: sadness \n",
            "🔢 Raw Output: [0.02014122 0.00208538 0.07085428 0.0111003  0.8931015  0.00271722]\n",
            "\n",
            "📝 Input: That was a scary experience. \n",
            "🔮 Predicted Emotion: joy \n",
            "🔢 Raw Output: [0.01268039 0.40368217 0.52362907 0.04468686 0.00993078 0.00539085]\n",
            "\n",
            "📝 Input: I feel so intimidated by his actions \n",
            "🔮 Predicted Emotion: fear \n",
            "🔢 Raw Output: [3.4265917e-02 9.5649606e-01 7.4476073e-03 6.7920645e-04 9.5861644e-05\n",
            " 1.0152187e-03]\n",
            "\n"
          ]
        }
      ]
    },
    {
      "cell_type": "code",
      "source": [
        "\n",
        "import numpy as np\n",
        "\n",
        "# Create test sentences\n",
        "test_sentences = [\"I am very happy today!\", \"I feel so sad and lonely.\", \"That was a scary experience.\",\"i dont know hoe life will turn out\"]\n",
        "\n",
        "# Tokenize and pad them just like training data\n",
        "test_sequences = tokenizer.texts_to_sequences(test_sentences)\n",
        "test_padded = pad_sequences(test_sequences, maxlen=max_length,padding=\"pre\")\n",
        "\n",
        "# Get predictions\n",
        "predictions = model.predict(test_padded)\n",
        "adjusted_predictions = le.inverse_transform(np.argmax(predictions, axis=1))\n",
        "\n",
        "# Apply to predictions\n",
        "adjusted_predictions = np.array([adjust_softmax(pred, temperature=0.5) for pred in predictions])\n",
        "\n",
        "# Get final predicted index\n",
        "emotion_indices = np.argmax(adjusted_predictions, axis=1)\n",
        "for text, pred, adj_pred,idx in zip(test_sentences, predictions, adjusted_predictions,emotion_indices):\n",
        "    print(f\"📝 Input: {text} \\n🔮 Raw Output: {pred} \\n🔥 Adjusted Output: {adj_pred} \\n {idx}\\n\")\n"
      ],
      "metadata": {
        "id": "n_StN3UmqkII",
        "colab": {
          "base_uri": "https://localhost:8080/"
        },
        "outputId": "16741bec-f79f-4486-c946-74891aba4179"
      },
      "execution_count": null,
      "outputs": [
        {
          "output_type": "stream",
          "name": "stdout",
          "text": [
            "\u001b[1m1/1\u001b[0m \u001b[32m━━━━━━━━━━━━━━━━━━━━\u001b[0m\u001b[37m\u001b[0m \u001b[1m0s\u001b[0m 40ms/step\n",
            "📝 Input: I am very happy today! \n",
            "🔮 Raw Output: [0.00835002 0.07188448 0.5765297  0.25955978 0.07846018 0.00521597] \n",
            "🔥 Adjusted Output: [1.6956859e-04 1.2567251e-02 8.0837601e-01 1.6384940e-01 1.4971612e-02\n",
            " 6.6166962e-05] \n",
            " 2\n",
            "\n",
            "📝 Input: I feel so sad and lonely. \n",
            "🔮 Raw Output: [0.02014122 0.00208538 0.07085428 0.0111003  0.8931015  0.00271722] \n",
            "🔥 Adjusted Output: [5.0507137e-04 5.4143861e-06 6.2504793e-03 1.5340891e-04 9.9307644e-01\n",
            " 9.1924285e-06] \n",
            " 4\n",
            "\n",
            "📝 Input: That was a scary experience. \n",
            "🔮 Raw Output: [0.01268039 0.40368217 0.52362907 0.04468686 0.00993078 0.00539085] \n",
            "🔥 Adjusted Output: [3.6590931e-04 3.7084067e-01 6.2395859e-01 4.5443093e-03 2.2442671e-04\n",
            " 6.6133776e-05] \n",
            " 2\n",
            "\n",
            "📝 Input: i dont know hoe life will turn out \n",
            "🔮 Raw Output: [0.19092481 0.36649638 0.15019567 0.10072362 0.14844911 0.04321039] \n",
            "🔥 Adjusted Output: [0.1603143  0.5907271  0.09921157 0.04461801 0.0969176  0.00821152] \n",
            " 1\n",
            "\n"
          ]
        }
      ]
    },
    {
      "cell_type": "code",
      "source": [
        "]\n"
      ],
      "metadata": {
        "id": "8Z0ganphISqS"
      },
      "execution_count": null,
      "outputs": []
    }
  ]
}